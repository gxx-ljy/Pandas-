{
 "cells": [
  {
   "cell_type": "code",
   "execution_count": null,
   "metadata": {},
   "outputs": [],
   "source": [
    "不会写，好难啊"
   ]
  },
  {
   "cell_type": "code",
   "execution_count": 1,
   "metadata": {},
   "outputs": [],
   "source": [
    "import numpy as np\n",
    "\n",
    "import pandas as pd\n",
    "\n",
    "import matplotlib.pyplot as plt"
   ]
  },
  {
   "cell_type": "markdown",
   "metadata": {},
   "source": [
    "##### 注意\n",
    "在补充习题中不得使用任何for循环。"
   ]
  },
  {
   "cell_type": "markdown",
   "metadata": {},
   "source": [
    "# Ex1：NumPy的向量化运算\n",
    "### 1、\n",
    "给定一个正整数列表，请找出缺失的最小正整数。"
   ]
  },
  {
   "cell_type": "code",
   "execution_count": 375,
   "metadata": {},
   "outputs": [
    {
     "data": {
      "text/plain": [
       "3"
      ]
     },
     "execution_count": 375,
     "metadata": {},
     "output_type": "execute_result"
    }
   ],
   "source": [
    "def get_miss(nums): \n",
    "    nums = np.where(nums > 0, nums, len(nums) + 1) #将小于等于0的值替换为  列表长度+1\n",
    "    \n",
    "    nums = list(set(nums))#删除重复值\n",
    "    \n",
    "    nums.sort()#排序\n",
    "\n",
    "    b = list(np.array(range(1,len(nums)+1)))#正整数列表1，2，3，。。。\n",
    "\n",
    "    v = list(map(lambda x: x[0]-x[1], zip(b, nums)))#对应元素相减 b-nums\n",
    "\n",
    "    num_zero = np.where(v,0,1).sum()#统计0的个数（等于0替换为1，不等于0则替换为0，sum求和）\n",
    "\n",
    "    return num_zero + 1\n",
    "\n",
    "\n",
    "arr = np.array([5,2,1,0,4])\n",
    "get_miss(arr)   "
   ]
  },
  {
   "cell_type": "code",
   "execution_count": 54,
   "metadata": {},
   "outputs": [],
   "source": [
    "def get_miss(nums):    \n",
    "    nums = list(set(nums))#删除重复值\n",
    "    n = len(nums)#列表长度\n",
    "    j = 0\n",
    "    while(1):\n",
    "        if j > n - 1: #判断有没有超出表长\n",
    "            break\n",
    "        if nums[j] <= 0:\n",
    "            nums[j] = n + 1 #将小于等于0的值替换为n+1\n",
    "        j = j + 1\n",
    "\n",
    "    nums.sort()#排序\n",
    "    i = 0\n",
    "    while(1):\n",
    "        if i > n - 1: #i超出表长，则答案是n+1\n",
    "            return n + 1\n",
    "        if nums[i] != i + 1: #第i个位置上的值与i+1不相等，则答案为i+1\n",
    "            return i + 1\n",
    "        i = i + 1"
   ]
  },
  {
   "cell_type": "code",
   "execution_count": 55,
   "metadata": {},
   "outputs": [
    {
     "data": {
      "text/plain": [
       "2"
      ]
     },
     "execution_count": 55,
     "metadata": {},
     "output_type": "execute_result"
    }
   ],
   "source": [
    "arr = np.array([1])\n",
    "get_miss(arr)"
   ]
  },
  {
   "cell_type": "code",
   "execution_count": 56,
   "metadata": {},
   "outputs": [
    {
     "data": {
      "text/plain": [
       "1"
      ]
     },
     "execution_count": 56,
     "metadata": {},
     "output_type": "execute_result"
    }
   ],
   "source": [
    "arr = np.array([2,3,4])\n",
    "get_miss(arr)"
   ]
  },
  {
   "cell_type": "code",
   "execution_count": 57,
   "metadata": {},
   "outputs": [
    {
     "data": {
      "text/plain": [
       "4"
      ]
     },
     "execution_count": 57,
     "metadata": {},
     "output_type": "execute_result"
    }
   ],
   "source": [
    "arr = np.array([6,3,5,1,2])\n",
    "get_miss(arr)"
   ]
  },
  {
   "cell_type": "code",
   "execution_count": 58,
   "metadata": {},
   "outputs": [
    {
     "data": {
      "text/plain": [
       "6"
      ]
     },
     "execution_count": 58,
     "metadata": {},
     "output_type": "execute_result"
    }
   ],
   "source": [
    "arr = np.array([5,2,1,3,4])\n",
    "get_miss(arr)"
   ]
  },
  {
   "cell_type": "code",
   "execution_count": null,
   "metadata": {},
   "outputs": [],
   "source": []
  },
  {
   "cell_type": "markdown",
   "metadata": {},
   "source": [
    "### 2、\n",
    "设计一个生成二维NumPy数组的函数get_res()，其输入为正整数n，返回的数组构造方式如下：第1行填入1个1，第2行在上一行填入位置的下一列连续填入2个2，第3行在第二行最后一个填入位置的下一列连续填入3个3，…，第n行在第n-1行最后一个填入位置的下一列连续填入n个n。"
   ]
  },
  {
   "cell_type": "markdown",
   "metadata": {},
   "source": [
    "###### 思路\n",
    "- 第一步\n",
    "$$A = \\begin{pmatrix} 1 \\\\ 2 \\\\ 3 \\end{pmatrix} * \\begin{pmatrix} 1 & 1 & 1 & 1 & 1 & 1 \\\\ 1 & 1 & 1 & 1 & 1 & 1 \\\\ 1 & 1 & 1 & 1 & 1 & 1 \\end{pmatrix} = \\begin{pmatrix} 1 & 1 & 1 & 1 & 1 & 1 \\\\ 2 & 2 & 2 & 2 & 2 & 2 \\\\ 3 & 3 & 3 & 3 & 3 & 3 \\end{pmatrix}$$\n",
    "\n",
    "- 第二步\n",
    "$$L1 = \\begin{pmatrix} 1 \\\\ 2 \\\\ 3 \\end{pmatrix} * \\begin{pmatrix} 1 & 1 & 1 \\\\ 1 & 1 & 1 \\\\ 1 & 1 & 1 \\end{pmatrix} = \\begin{pmatrix} 1 & 1 & 1 \\\\ 2 & 2 & 2 \\\\ 3 & 3 & 3 \\end{pmatrix} ， L2 = L1的转置 = \\begin{pmatrix} 1 & 2 & 3 \\\\ 1 & 2 & 3 \\\\ 1 & 2 & 3 \\end{pmatrix}$$\n",
    "\n",
    "$$L1 小于 L2则取0，其余不变，where实现 = \\begin{pmatrix} 1 & 0 & 0 \\\\ 2 & 2 & 0 \\\\ 3 & 3 & 3 \\end{pmatrix}$$\n",
    "\n",
    "$$转为一维，L3 = \\begin{pmatrix} 1 & 0 & 0 & 2 & 2 & 0 & 3 & 3 & 3 \\end{pmatrix}$$\n",
    "\n",
    "$$逆序，L4 = \\begin{pmatrix} 3 & 3 & 3 & 2 & 2 & 1 & 0 & 0 & 0  \\end{pmatrix}$$\n",
    "\n",
    "$$切片后排序，L5 = \\begin{pmatrix} 1 & 2 & 2 & 3 & 3 & 3 \\end{pmatrix}$$\n",
    "\n",
    "$$L5 * n然后reshape = B = \\begin{pmatrix} 1 & 2 & 2 & 3 & 3 & 3 \\\\ 1 & 2 & 2 & 3 & 3 & 3 \\\\ 1 & 2 & 2 & 3 & 3 & 3 \\end{pmatrix}$$\n",
    "\n",
    "- 第三步\n",
    "$$ A 与 B 相同则保留，否则取0,where实现 = \\begin{pmatrix} 1 & 0 & 0 & 0 & 0 & 0 \\\\ 0 & 2 & 2 & 0 & 0 & 0 \\\\ 0 & 0 & 0 & 3 & 3 & 3  \\end{pmatrix} $$"
   ]
  },
  {
   "cell_type": "code",
   "execution_count": 494,
   "metadata": {},
   "outputs": [],
   "source": [
    "def get_res(n):\n",
    "    m = np.array(range(n+1)).sum()#列数\n",
    "    r1 = np.ones((n,m))#生成m*n的全1矩阵\n",
    "    r = np.array(range(1,n+1)).reshape((n,-1))#生成1到n的列向量\n",
    "    A = r * r1\n",
    "    #print(A)\n",
    "\n",
    "    #生成1 2 2 3 3 3 4 4 4 4.....的序列\n",
    "    L = np.array(range(1,n+1))\n",
    "    L1 = L*np.ones((n,n))\n",
    "    L2 = L1.T#生成第i行全为i+1的矩阵\n",
    "\n",
    "    L3 = np.where(L1 > L2, 0, L2)#把右上部分变为0\n",
    "    L3 = L3.reshape(-1)\n",
    "\n",
    "    L4 = L3.tolist()\n",
    "    L4.sort(reverse=True)\n",
    "\n",
    "    m = np.array(range(n+1)).sum()\n",
    "    L5 = L4[:m]#去掉0元素\n",
    "    L5.sort()\n",
    "\n",
    "    B = np.array(L5*n).reshape((n,-1))\n",
    "    #print(B)\n",
    "\n",
    "    res = np.where(A == B, A, 0)\n",
    "    return res"
   ]
  },
  {
   "cell_type": "code",
   "execution_count": 495,
   "metadata": {},
   "outputs": [
    {
     "data": {
      "text/plain": [
       "array([[1., 0., 0., 0., 0., 0., 0., 0., 0., 0., 0., 0., 0., 0., 0.],\n",
       "       [0., 2., 2., 0., 0., 0., 0., 0., 0., 0., 0., 0., 0., 0., 0.],\n",
       "       [0., 0., 0., 3., 3., 3., 0., 0., 0., 0., 0., 0., 0., 0., 0.],\n",
       "       [0., 0., 0., 0., 0., 0., 4., 4., 4., 4., 0., 0., 0., 0., 0.],\n",
       "       [0., 0., 0., 0., 0., 0., 0., 0., 0., 0., 5., 5., 5., 5., 5.]])"
      ]
     },
     "execution_count": 495,
     "metadata": {},
     "output_type": "execute_result"
    }
   ],
   "source": [
    "n = 5\n",
    "get_res(n)"
   ]
  },
  {
   "cell_type": "code",
   "execution_count": null,
   "metadata": {},
   "outputs": [],
   "source": []
  },
  {
   "cell_type": "code",
   "execution_count": 204,
   "metadata": {},
   "outputs": [],
   "source": [
    "def get_res(n):\n",
    "    i = 0   \n",
    "    h = n#行数\n",
    "    m = np.array(range(n+1)).sum()#列数\n",
    "    res = []\n",
    "    while(n):\n",
    "        a = list(np.zeros(np.array(range(i+1)).sum()))#数字前面的0\n",
    "        b = list((i+1)*np.ones(i+1))#数字\n",
    "        c = list(np.zeros(m - len(a) - len(b)))#数字后面的0\n",
    "        res.extend(a)#拼接\n",
    "        res.extend(b)\n",
    "        res.extend(c)\n",
    "        i = i + 1\n",
    "        n = n - 1\n",
    "\n",
    "    res = np.array(res).reshape((h,m))\n",
    "    return res"
   ]
  },
  {
   "cell_type": "code",
   "execution_count": 205,
   "metadata": {},
   "outputs": [
    {
     "data": {
      "text/plain": [
       "array([[1., 0., 0., 0., 0., 0., 0., 0., 0., 0.],\n",
       "       [0., 2., 2., 0., 0., 0., 0., 0., 0., 0.],\n",
       "       [0., 0., 0., 3., 3., 3., 0., 0., 0., 0.],\n",
       "       [0., 0., 0., 0., 0., 0., 4., 4., 4., 4.]])"
      ]
     },
     "execution_count": 205,
     "metadata": {},
     "output_type": "execute_result"
    }
   ],
   "source": [
    "n = 4\n",
    "get_res(n)"
   ]
  },
  {
   "cell_type": "code",
   "execution_count": null,
   "metadata": {},
   "outputs": [],
   "source": []
  },
  {
   "cell_type": "markdown",
   "metadata": {},
   "source": [
    "### 3、\n",
    "点 $A$ 初始位置在数轴原点处，现进行n步简单随机游走，即每一步以等概率向左或向右移动长度为1的距离，记该点最终的位置为 $S_n$ ，则可以证明\n",
    "$$\\lim_{n\\rightarrow+\\infty}\\frac{\\mathbb{E}|S_n|}{\\sqrt{n}}=\\sqrt{\\frac{2}{\\pi}}$$\n",
    " \n",
    " \n",
    " \n",
    "现取n为5000进行1000次试验，且每次试验中用 $\\frac{1}{100}\\sum_{k=1}^{100}|S_n|$\n",
    " \n",
    " 来代替 $\\mathbb{E}|S_n|$ 。此时可以计算得到1000个 $\\mathbb{E}|S_n|$\n",
    " \n",
    " \n",
    " 的估计值，请计算这些估计值的均值、0.05分位数和0.95分位数。"
   ]
  },
  {
   "cell_type": "code",
   "execution_count": 257,
   "metadata": {},
   "outputs": [
    {
     "data": {
      "text/plain": [
       "array([ 1,  1, -1, ..., -1,  1, -1])"
      ]
     },
     "execution_count": 257,
     "metadata": {},
     "output_type": "execute_result"
    }
   ],
   "source": [
    "np.random.seed(1)\n",
    "move = np.random.choice([-1,1], 5000)#-1表示左移，1表示右移\n",
    "move"
   ]
  },
  {
   "cell_type": "code",
   "execution_count": 258,
   "metadata": {},
   "outputs": [
    {
     "data": {
      "text/plain": [
       "-52"
      ]
     },
     "execution_count": 258,
     "metadata": {},
     "output_type": "execute_result"
    }
   ],
   "source": [
    "Sn = move.sum()\n",
    "Sn"
   ]
  },
  {
   "cell_type": "code",
   "execution_count": 542,
   "metadata": {},
   "outputs": [],
   "source": [
    "def ESn():\n",
    "    j = 1000\n",
    "    b = [0] * 1000\n",
    "\n",
    "    while(j):\n",
    "        i = 100\n",
    "        a = [0] * 100\n",
    "        np.random.seed(j)\n",
    "        while(i):\n",
    "            i = i - 1\n",
    "            a[i] = np.random.choice([-1,1], 5000).sum()\n",
    "            #print(a)\n",
    "        j = j - 1\n",
    "        b[j] = np.array(a).sum()\n",
    "        #print(b[j])\n",
    "    return b\n"
   ]
  },
  {
   "cell_type": "code",
   "execution_count": 548,
   "metadata": {},
   "outputs": [
    {
     "data": {
      "text/html": [
       "<div>\n",
       "<style scoped>\n",
       "    .dataframe tbody tr th:only-of-type {\n",
       "        vertical-align: middle;\n",
       "    }\n",
       "\n",
       "    .dataframe tbody tr th {\n",
       "        vertical-align: top;\n",
       "    }\n",
       "\n",
       "    .dataframe thead th {\n",
       "        text-align: right;\n",
       "    }\n",
       "</style>\n",
       "<table border=\"1\" class=\"dataframe\">\n",
       "  <thead>\n",
       "    <tr style=\"text-align: right;\">\n",
       "      <th></th>\n",
       "      <th>ESn</th>\n",
       "    </tr>\n",
       "  </thead>\n",
       "  <tbody>\n",
       "    <tr>\n",
       "      <th>0</th>\n",
       "      <td>632</td>\n",
       "    </tr>\n",
       "    <tr>\n",
       "      <th>1</th>\n",
       "      <td>20</td>\n",
       "    </tr>\n",
       "    <tr>\n",
       "      <th>2</th>\n",
       "      <td>-630</td>\n",
       "    </tr>\n",
       "    <tr>\n",
       "      <th>3</th>\n",
       "      <td>996</td>\n",
       "    </tr>\n",
       "    <tr>\n",
       "      <th>4</th>\n",
       "      <td>240</td>\n",
       "    </tr>\n",
       "    <tr>\n",
       "      <th>...</th>\n",
       "      <td>...</td>\n",
       "    </tr>\n",
       "    <tr>\n",
       "      <th>995</th>\n",
       "      <td>-126</td>\n",
       "    </tr>\n",
       "    <tr>\n",
       "      <th>996</th>\n",
       "      <td>942</td>\n",
       "    </tr>\n",
       "    <tr>\n",
       "      <th>997</th>\n",
       "      <td>604</td>\n",
       "    </tr>\n",
       "    <tr>\n",
       "      <th>998</th>\n",
       "      <td>-352</td>\n",
       "    </tr>\n",
       "    <tr>\n",
       "      <th>999</th>\n",
       "      <td>-1692</td>\n",
       "    </tr>\n",
       "  </tbody>\n",
       "</table>\n",
       "<p>1000 rows × 1 columns</p>\n",
       "</div>"
      ],
      "text/plain": [
       "      ESn\n",
       "0     632\n",
       "1      20\n",
       "2    -630\n",
       "3     996\n",
       "4     240\n",
       "..    ...\n",
       "995  -126\n",
       "996   942\n",
       "997   604\n",
       "998  -352\n",
       "999 -1692\n",
       "\n",
       "[1000 rows x 1 columns]"
      ]
     },
     "execution_count": 548,
     "metadata": {},
     "output_type": "execute_result"
    }
   ],
   "source": [
    "df = pd.DataFrame(data = {'ESn': ESn()})\n",
    "\n",
    "df"
   ]
  },
  {
   "cell_type": "code",
   "execution_count": 549,
   "metadata": {},
   "outputs": [
    {
     "data": {
      "text/plain": [
       "ESn    13.192\n",
       "dtype: float64"
      ]
     },
     "execution_count": 549,
     "metadata": {},
     "output_type": "execute_result"
    }
   ],
   "source": [
    "df_demo = df[['ESn']]\n",
    "\n",
    "df_demo.mean()"
   ]
  },
  {
   "cell_type": "code",
   "execution_count": 550,
   "metadata": {},
   "outputs": [
    {
     "data": {
      "text/plain": [
       "ESn   -1123.1\n",
       "Name: 0.05, dtype: float64"
      ]
     },
     "execution_count": 550,
     "metadata": {},
     "output_type": "execute_result"
    }
   ],
   "source": [
    "df_demo.quantile(0.05)"
   ]
  },
  {
   "cell_type": "code",
   "execution_count": 551,
   "metadata": {},
   "outputs": [
    {
     "data": {
      "text/plain": [
       "ESn    1158.3\n",
       "Name: 0.95, dtype: float64"
      ]
     },
     "execution_count": 551,
     "metadata": {},
     "output_type": "execute_result"
    }
   ],
   "source": [
    "df_demo.quantile(0.95)"
   ]
  },
  {
   "cell_type": "code",
   "execution_count": null,
   "metadata": {},
   "outputs": [],
   "source": []
  },
  {
   "cell_type": "markdown",
   "metadata": {},
   "source": [
    "### 4、\n",
    "在二维平面上有n个点，每个点具有k维特征，点的坐标数据记录在node_xy中，点的特征数据记录在node_fea中。现要计算所有点的相关矩阵 $S$ ，点a和点b的相关系数定义如下\n",
    "$$S_{ab} = \\frac{\\sigma_{ab}}{2} + \\frac{\\lambda_{ab}}{2}$$\n",
    " \n",
    " \n",
    "其中，若记点a特征为 $A$ ，点b特征为 $B$ ，则有\n",
    "$$\\sigma_{ab} = \\frac{\\sum_{i=1}^kA_iB_i}{\\sqrt{\\sum_{i=1}^kA^2_i}\\sqrt{\\sum_{i=1}^kB^2_i}}$$\n",
    " \n",
    "对于点a而言，将所有点到点a的二维平面距离进行排序，从而得到每个点到点a的距离排名，距离最近（排名为1）的点是点a自身，记点b的排名为 $r^{(a)}_b$\n",
    " ，则定义\n",
    "$$\\lambda_{ab} = 1 - \\frac{2\\times (r^{(a)}_b-1)}{n-1}$$\n",
    " \n",
    "请对于给定的node_xy和node_fea计算相关矩阵 $S$ 。（提示：使用np.argsort()）"
   ]
  },
  {
   "cell_type": "code",
   "execution_count": 655,
   "metadata": {},
   "outputs": [
    {
     "data": {
      "text/plain": [
       "array([ 2,  6, 12])"
      ]
     },
     "execution_count": 655,
     "metadata": {},
     "output_type": "execute_result"
    }
   ],
   "source": [
    "np.array([1,2,3])*np.array([2,3,4])"
   ]
  },
  {
   "cell_type": "code",
   "execution_count": 568,
   "metadata": {},
   "outputs": [
    {
     "data": {
      "text/plain": [
       "array([18.56189011, 18.60935879, 18.20188555, 18.25688122, 18.48384902,\n",
       "       17.65103939, 18.00270978, 18.73917192, 18.28816958, 18.31893988])"
      ]
     },
     "execution_count": 568,
     "metadata": {},
     "output_type": "execute_result"
    }
   ],
   "source": [
    "a1 = (node_fea * node_fea).sum(0) ** 0.5\n",
    "a1"
   ]
  },
  {
   "cell_type": "code",
   "execution_count": 57,
   "metadata": {},
   "outputs": [],
   "source": [
    "def sigma_ab(node_fea):\n",
    "    a = n\n",
    "    \n",
    "    sigmaab = [[0] * n] * n\n",
    "    while(a):\n",
    "        a = a - 1\n",
    "        b = n\n",
    "        while(b):\n",
    "            b = b - 1\n",
    "            d1 = (node_fea[a] * node_fea[b]).sum()\n",
    "           \n",
    "            d2 = ((node_fea[a] ** 2.0).sum(0) ** 0.5) * ((node_fea[b] ** 2.0).sum(0) ** 0.5)\n",
    "            sigmaab[a][b] = d1/d2\n",
    "    #print(type(sigmaab))\n",
    "    #print(sigmaab)\n",
    "            #sigmaab[a][b] = np.array(d1 / d2)\n",
    "    return sigmaab"
   ]
  },
  {
   "cell_type": "code",
   "execution_count": 184,
   "metadata": {},
   "outputs": [],
   "source": [
    "def lambda_ab(node_xy):\n",
    "    a = n\n",
    "#     d3 = [[0] * n] * n\n",
    "    m=n*n\n",
    "    d3 = list(np.zeros(m).reshape((n,-1)))\n",
    "    d4 = [0]\n",
    "#     d4 = [0] * n\n",
    "    lambdaab = [[0] * n] * n\n",
    "    while(a):\n",
    "        a = a - 1\n",
    "        b = n\n",
    "        while(b):\n",
    "            b = b - 1\n",
    "            d3[a][b] = ((node_xy[a][0] - node_xy[b][0]) ** 2 + (node_xy[a][1] - node_xy[b][1]) ** 2) ** 0.5#距离\n",
    "            print('d3[',a,'][',b,']=',d3[a][b])\n",
    "    print(type(d3))\n",
    "    print(d3)\n",
    "    d4[a] = np.argsort(d3,axis=1)#按行排序，返回索引,即排名=索引+1  #这个排序有问题\n",
    "\n",
    "    print(type(d4))\n",
    "    print(d4)\n",
    "    lambdaab[a][b] = 1 - ((2  / (n - 1))* np.array(d4))\n",
    "    #print(type(lambdaab))\n",
    "    #print(lambdaab)\n",
    "    return lambdaab"
   ]
  },
  {
   "cell_type": "code",
   "execution_count": 185,
   "metadata": {},
   "outputs": [],
   "source": [
    "def get_S(node_xy, node_fea):\n",
    "    S = np.array(sigma_ab(node_fea)) *0.5 + np.array(lambda_ab(node_xy)) *0.5\n",
    "    return S"
   ]
  },
  {
   "cell_type": "code",
   "execution_count": 186,
   "metadata": {
    "scrolled": true
   },
   "outputs": [
    {
     "name": "stdout",
     "output_type": "stream",
     "text": [
      "d3[ 4 ][ 4 ]= 0.0\n",
      "d3[ 4 ][ 3 ]= 0.2857642243880516\n",
      "d3[ 4 ][ 2 ]= 0.5117113645946397\n",
      "d3[ 4 ][ 1 ]= 0.4617991336650459\n",
      "d3[ 4 ][ 0 ]= 0.18263436900301927\n",
      "d3[ 3 ][ 4 ]= 0.2857642243880516\n",
      "d3[ 3 ][ 3 ]= 0.0\n",
      "d3[ 3 ][ 2 ]= 0.25628507489994234\n",
      "d3[ 3 ][ 1 ]= 0.19109930874428313\n",
      "d3[ 3 ][ 0 ]= 0.44011235595489956\n",
      "d3[ 2 ][ 4 ]= 0.5117113645946397\n",
      "d3[ 2 ][ 3 ]= 0.25628507489994234\n",
      "d3[ 2 ][ 2 ]= 0.0\n",
      "d3[ 2 ][ 1 ]= 0.25612732176293496\n",
      "d3[ 2 ][ 0 ]= 0.683673943665646\n",
      "d3[ 1 ][ 4 ]= 0.4617991336650459\n",
      "d3[ 1 ][ 3 ]= 0.19109930874428313\n",
      "d3[ 1 ][ 2 ]= 0.25612732176293496\n",
      "d3[ 1 ][ 1 ]= 0.0\n",
      "d3[ 1 ][ 0 ]= 0.5903636317721634\n",
      "d3[ 0 ][ 4 ]= 0.18263436900301927\n",
      "d3[ 0 ][ 3 ]= 0.44011235595489956\n",
      "d3[ 0 ][ 2 ]= 0.683673943665646\n",
      "d3[ 0 ][ 1 ]= 0.5903636317721634\n",
      "d3[ 0 ][ 0 ]= 0.0\n",
      "<class 'list'>\n",
      "[array([0.        , 0.59036363, 0.68367394, 0.44011236, 0.18263437]), array([0.59036363, 0.        , 0.25612732, 0.19109931, 0.46179913]), array([0.68367394, 0.25612732, 0.        , 0.25628507, 0.51171136]), array([0.44011236, 0.19109931, 0.25628507, 0.        , 0.28576422]), array([0.18263437, 0.46179913, 0.51171136, 0.28576422, 0.        ])]\n",
      "<class 'list'>\n",
      "[array([[0, 4, 3, 1, 2],\n",
      "       [1, 3, 2, 4, 0],\n",
      "       [2, 1, 3, 4, 0],\n",
      "       [3, 1, 2, 4, 0],\n",
      "       [4, 0, 3, 1, 2]], dtype=int64)]\n"
     ]
    },
    {
     "name": "stderr",
     "output_type": "stream",
     "text": [
      "<ipython-input-185-8840ced702aa>:2: VisibleDeprecationWarning: Creating an ndarray from ragged nested sequences (which is a list-or-tuple of lists-or-tuples-or ndarrays with different lengths or shapes) is deprecated. If you meant to do this, you must specify 'dtype=object' when creating the ndarray\n",
      "  S = np.array(sigma_ab(node_fea)) *0.5 + np.array(lambda_ab(node_xy)) *0.5\n"
     ]
    },
    {
     "data": {
      "text/plain": [
       "array([[array([[[1.  , 0.  , 0.25, 0.75, 0.5 ],\n",
       "        [0.75, 0.25, 0.5 , 0.  , 1.  ],\n",
       "        [0.5 , 0.75, 0.25, 0.  , 1.  ],\n",
       "        [0.25, 0.75, 0.5 , 0.  , 1.  ],\n",
       "        [0.  , 1.  , 0.25, 0.75, 0.5 ]]]),\n",
       "        0.47457492312980126, 0.4368107040275298, 0.49786201084805026,\n",
       "        0.49886174328271676],\n",
       "       [array([[[1.  , 0.  , 0.25, 0.75, 0.5 ],\n",
       "        [0.75, 0.25, 0.5 , 0.  , 1.  ],\n",
       "        [0.5 , 0.75, 0.25, 0.  , 1.  ],\n",
       "        [0.25, 0.75, 0.5 , 0.  , 1.  ],\n",
       "        [0.  , 1.  , 0.25, 0.75, 0.5 ]]]),\n",
       "        0.47457492312980126, 0.4368107040275298, 0.49786201084805026,\n",
       "        0.49886174328271676],\n",
       "       [array([[[1.  , 0.  , 0.25, 0.75, 0.5 ],\n",
       "        [0.75, 0.25, 0.5 , 0.  , 1.  ],\n",
       "        [0.5 , 0.75, 0.25, 0.  , 1.  ],\n",
       "        [0.25, 0.75, 0.5 , 0.  , 1.  ],\n",
       "        [0.  , 1.  , 0.25, 0.75, 0.5 ]]]),\n",
       "        0.47457492312980126, 0.4368107040275298, 0.49786201084805026,\n",
       "        0.49886174328271676],\n",
       "       [array([[[1.  , 0.  , 0.25, 0.75, 0.5 ],\n",
       "        [0.75, 0.25, 0.5 , 0.  , 1.  ],\n",
       "        [0.5 , 0.75, 0.25, 0.  , 1.  ],\n",
       "        [0.25, 0.75, 0.5 , 0.  , 1.  ],\n",
       "        [0.  , 1.  , 0.25, 0.75, 0.5 ]]]),\n",
       "        0.47457492312980126, 0.4368107040275298, 0.49786201084805026,\n",
       "        0.49886174328271676],\n",
       "       [array([[[1.  , 0.  , 0.25, 0.75, 0.5 ],\n",
       "        [0.75, 0.25, 0.5 , 0.  , 1.  ],\n",
       "        [0.5 , 0.75, 0.25, 0.  , 1.  ],\n",
       "        [0.25, 0.75, 0.5 , 0.  , 1.  ],\n",
       "        [0.  , 1.  , 0.25, 0.75, 0.5 ]]]),\n",
       "        0.47457492312980126, 0.4368107040275298, 0.49786201084805026,\n",
       "        0.49886174328271676]], dtype=object)"
      ]
     },
     "execution_count": 186,
     "metadata": {},
     "output_type": "execute_result"
    }
   ],
   "source": [
    "n, k = 5, 2\n",
    "np.random.seed(1)\n",
    "node_xy = np.random.rand(n, 2)\n",
    "node_fea = np.random.rand(n, k)\n",
    "get_S(node_xy, node_fea)"
   ]
  },
  {
   "cell_type": "markdown",
   "metadata": {},
   "source": [
    "###### d4的输出结果看着不对，不知道哪里有问题"
   ]
  },
  {
   "cell_type": "code",
   "execution_count": null,
   "metadata": {},
   "outputs": [],
   "source": []
  },
  {
   "cell_type": "markdown",
   "metadata": {},
   "source": [
    "# Ex2：统计学生的成绩情况\n",
    "在data/supplement/ex2目录下存放了某校高三第一学期的学生成绩情况，包含16次周测成绩、期中考试成绩和期末考试成绩，科目一栏的成绩表示学生选课的成绩。所有的表中，相同的行表示的是同一位同学。请完成以下练习："
   ]
  },
  {
   "cell_type": "code",
   "execution_count": 227,
   "metadata": {},
   "outputs": [
    {
     "data": {
      "text/html": [
       "<div>\n",
       "<style scoped>\n",
       "    .dataframe tbody tr th:only-of-type {\n",
       "        vertical-align: middle;\n",
       "    }\n",
       "\n",
       "    .dataframe tbody tr th {\n",
       "        vertical-align: top;\n",
       "    }\n",
       "\n",
       "    .dataframe thead th {\n",
       "        text-align: right;\n",
       "    }\n",
       "</style>\n",
       "<table border=\"1\" class=\"dataframe\">\n",
       "  <thead>\n",
       "    <tr style=\"text-align: right;\">\n",
       "      <th></th>\n",
       "      <th>班级</th>\n",
       "      <th>姓名</th>\n",
       "      <th>选科</th>\n",
       "      <th>语文</th>\n",
       "      <th>数学</th>\n",
       "      <th>英语</th>\n",
       "      <th>科目</th>\n",
       "    </tr>\n",
       "  </thead>\n",
       "  <tbody>\n",
       "    <tr>\n",
       "      <th>0</th>\n",
       "      <td>1</td>\n",
       "      <td>吴刚</td>\n",
       "      <td>地理</td>\n",
       "      <td>93</td>\n",
       "      <td>95</td>\n",
       "      <td>82</td>\n",
       "      <td>69</td>\n",
       "    </tr>\n",
       "    <tr>\n",
       "      <th>1</th>\n",
       "      <td>1</td>\n",
       "      <td>卢楠</td>\n",
       "      <td>物理</td>\n",
       "      <td>108</td>\n",
       "      <td>77</td>\n",
       "      <td>90</td>\n",
       "      <td>94</td>\n",
       "    </tr>\n",
       "    <tr>\n",
       "      <th>2</th>\n",
       "      <td>1</td>\n",
       "      <td>唐秀兰</td>\n",
       "      <td>历史</td>\n",
       "      <td>88</td>\n",
       "      <td>72</td>\n",
       "      <td>95</td>\n",
       "      <td>85</td>\n",
       "    </tr>\n",
       "    <tr>\n",
       "      <th>3</th>\n",
       "      <td>1</td>\n",
       "      <td>张刚</td>\n",
       "      <td>化学</td>\n",
       "      <td>85</td>\n",
       "      <td>88</td>\n",
       "      <td>102</td>\n",
       "      <td>76</td>\n",
       "    </tr>\n",
       "    <tr>\n",
       "      <th>4</th>\n",
       "      <td>1</td>\n",
       "      <td>姜洋</td>\n",
       "      <td>历史</td>\n",
       "      <td>104</td>\n",
       "      <td>99</td>\n",
       "      <td>84</td>\n",
       "      <td>86</td>\n",
       "    </tr>\n",
       "  </tbody>\n",
       "</table>\n",
       "</div>"
      ],
      "text/plain": [
       "   班级   姓名  选科   语文  数学   英语  科目\n",
       "0   1   吴刚  地理   93  95   82  69\n",
       "1   1   卢楠  物理  108  77   90  94\n",
       "2   1  唐秀兰  历史   88  72   95  85\n",
       "3   1   张刚  化学   85  88  102  76\n",
       "4   1   姜洋  历史  104  99   84  86"
      ]
     },
     "execution_count": 227,
     "metadata": {},
     "output_type": "execute_result"
    }
   ],
   "source": [
    "df = pd.read_csv('data/supplement/ex2/第1次周测成绩.csv')\n",
    "\n",
    "df.head()"
   ]
  },
  {
   "cell_type": "markdown",
   "metadata": {},
   "source": [
    "### 1、\n",
    "该校高三年级中是否存在姓名相同的学生？"
   ]
  },
  {
   "cell_type": "code",
   "execution_count": null,
   "metadata": {},
   "outputs": [],
   "source": [
    "没有"
   ]
  },
  {
   "cell_type": "code",
   "execution_count": 311,
   "metadata": {},
   "outputs": [
    {
     "data": {
      "text/plain": [
       "姓名\n",
       "丁帅     1\n",
       "丁斌     1\n",
       "丁燕     1\n",
       "万云     1\n",
       "万志强    1\n",
       "      ..\n",
       "龙晨     1\n",
       "龙秀荣    1\n",
       "龙鑫     1\n",
       "龙雪梅    1\n",
       "龚建华    1\n",
       "Length: 896, dtype: int64"
      ]
     },
     "execution_count": 311,
     "metadata": {},
     "output_type": "execute_result"
    }
   ],
   "source": [
    "test_df = pd.read_csv('data/supplement/ex2/第1次周测成绩.csv')\n",
    "df1=test_df.groupby([\"姓名\"]).size()\n",
    "df1"
   ]
  },
  {
   "cell_type": "code",
   "execution_count": 312,
   "metadata": {},
   "outputs": [
    {
     "data": {
      "text/html": [
       "<div>\n",
       "<style scoped>\n",
       "    .dataframe tbody tr th:only-of-type {\n",
       "        vertical-align: middle;\n",
       "    }\n",
       "\n",
       "    .dataframe tbody tr th {\n",
       "        vertical-align: top;\n",
       "    }\n",
       "\n",
       "    .dataframe thead th {\n",
       "        text-align: right;\n",
       "    }\n",
       "</style>\n",
       "<table border=\"1\" class=\"dataframe\">\n",
       "  <thead>\n",
       "    <tr style=\"text-align: right;\">\n",
       "      <th></th>\n",
       "      <th>姓名</th>\n",
       "    </tr>\n",
       "  </thead>\n",
       "  <tbody>\n",
       "  </tbody>\n",
       "</table>\n",
       "</div>"
      ],
      "text/plain": [
       "Empty DataFrame\n",
       "Columns: [姓名]\n",
       "Index: []"
      ]
     },
     "execution_count": 312,
     "metadata": {},
     "output_type": "execute_result"
    }
   ],
   "source": [
    "col=df1[df1>1].reset_index()[[\"姓名\"]] #查看重复次数\n",
    "col"
   ]
  },
  {
   "cell_type": "code",
   "execution_count": 313,
   "metadata": {},
   "outputs": [
    {
     "name": "stdout",
     "output_type": "stream",
     "text": [
      "Empty DataFrame\n",
      "Columns: [班级, 姓名, 选科, 语文, 数学, 英语, 科目]\n",
      "Index: []\n"
     ]
    }
   ],
   "source": [
    "df11 = pd.merge(col,test_df,on=[\"姓名\"])\n",
    "print(df11)"
   ]
  },
  {
   "cell_type": "markdown",
   "metadata": {},
   "source": [
    "### 2、\n",
    "在第一次周测中，请求出每个班级选修物理或化学同学的语数英总分的平均值。哪个班级最高？"
   ]
  },
  {
   "cell_type": "code",
   "execution_count": 277,
   "metadata": {},
   "outputs": [
    {
     "data": {
      "text/html": [
       "<div>\n",
       "<style scoped>\n",
       "    .dataframe tbody tr th:only-of-type {\n",
       "        vertical-align: middle;\n",
       "    }\n",
       "\n",
       "    .dataframe tbody tr th {\n",
       "        vertical-align: top;\n",
       "    }\n",
       "\n",
       "    .dataframe thead th {\n",
       "        text-align: right;\n",
       "    }\n",
       "</style>\n",
       "<table border=\"1\" class=\"dataframe\">\n",
       "  <thead>\n",
       "    <tr style=\"text-align: right;\">\n",
       "      <th></th>\n",
       "      <th>班级</th>\n",
       "      <th>姓名</th>\n",
       "      <th>选科</th>\n",
       "      <th>语文</th>\n",
       "      <th>数学</th>\n",
       "      <th>英语</th>\n",
       "      <th>科目</th>\n",
       "    </tr>\n",
       "  </thead>\n",
       "  <tbody>\n",
       "    <tr>\n",
       "      <th>0</th>\n",
       "      <td>1</td>\n",
       "      <td>吴刚</td>\n",
       "      <td>地理</td>\n",
       "      <td>93</td>\n",
       "      <td>95</td>\n",
       "      <td>82</td>\n",
       "      <td>69</td>\n",
       "    </tr>\n",
       "    <tr>\n",
       "      <th>1</th>\n",
       "      <td>1</td>\n",
       "      <td>卢楠</td>\n",
       "      <td>物理</td>\n",
       "      <td>108</td>\n",
       "      <td>77</td>\n",
       "      <td>90</td>\n",
       "      <td>94</td>\n",
       "    </tr>\n",
       "    <tr>\n",
       "      <th>2</th>\n",
       "      <td>1</td>\n",
       "      <td>唐秀兰</td>\n",
       "      <td>历史</td>\n",
       "      <td>88</td>\n",
       "      <td>72</td>\n",
       "      <td>95</td>\n",
       "      <td>85</td>\n",
       "    </tr>\n",
       "    <tr>\n",
       "      <th>3</th>\n",
       "      <td>1</td>\n",
       "      <td>张刚</td>\n",
       "      <td>化学</td>\n",
       "      <td>85</td>\n",
       "      <td>88</td>\n",
       "      <td>102</td>\n",
       "      <td>76</td>\n",
       "    </tr>\n",
       "    <tr>\n",
       "      <th>4</th>\n",
       "      <td>1</td>\n",
       "      <td>姜洋</td>\n",
       "      <td>历史</td>\n",
       "      <td>104</td>\n",
       "      <td>99</td>\n",
       "      <td>84</td>\n",
       "      <td>86</td>\n",
       "    </tr>\n",
       "  </tbody>\n",
       "</table>\n",
       "</div>"
      ],
      "text/plain": [
       "   班级   姓名  选科   语文  数学   英语  科目\n",
       "0   1   吴刚  地理   93  95   82  69\n",
       "1   1   卢楠  物理  108  77   90  94\n",
       "2   1  唐秀兰  历史   88  72   95  85\n",
       "3   1   张刚  化学   85  88  102  76\n",
       "4   1   姜洋  历史  104  99   84  86"
      ]
     },
     "execution_count": 277,
     "metadata": {},
     "output_type": "execute_result"
    }
   ],
   "source": [
    "df.head()"
   ]
  },
  {
   "cell_type": "code",
   "execution_count": 314,
   "metadata": {
    "scrolled": true
   },
   "outputs": [
    {
     "data": {
      "text/html": [
       "<div>\n",
       "<style scoped>\n",
       "    .dataframe tbody tr th:only-of-type {\n",
       "        vertical-align: middle;\n",
       "    }\n",
       "\n",
       "    .dataframe tbody tr th {\n",
       "        vertical-align: top;\n",
       "    }\n",
       "\n",
       "    .dataframe thead th {\n",
       "        text-align: right;\n",
       "    }\n",
       "</style>\n",
       "<table border=\"1\" class=\"dataframe\">\n",
       "  <thead>\n",
       "    <tr style=\"text-align: right;\">\n",
       "      <th></th>\n",
       "      <th>班级</th>\n",
       "      <th>姓名</th>\n",
       "      <th>选科</th>\n",
       "      <th>语文</th>\n",
       "      <th>数学</th>\n",
       "      <th>英语</th>\n",
       "      <th>科目</th>\n",
       "    </tr>\n",
       "  </thead>\n",
       "  <tbody>\n",
       "    <tr>\n",
       "      <th>1</th>\n",
       "      <td>1</td>\n",
       "      <td>卢楠</td>\n",
       "      <td>物理</td>\n",
       "      <td>108</td>\n",
       "      <td>77</td>\n",
       "      <td>90</td>\n",
       "      <td>94</td>\n",
       "    </tr>\n",
       "    <tr>\n",
       "      <th>3</th>\n",
       "      <td>1</td>\n",
       "      <td>张刚</td>\n",
       "      <td>化学</td>\n",
       "      <td>85</td>\n",
       "      <td>88</td>\n",
       "      <td>102</td>\n",
       "      <td>76</td>\n",
       "    </tr>\n",
       "    <tr>\n",
       "      <th>7</th>\n",
       "      <td>1</td>\n",
       "      <td>张秀云</td>\n",
       "      <td>物理</td>\n",
       "      <td>100</td>\n",
       "      <td>98</td>\n",
       "      <td>90</td>\n",
       "      <td>90</td>\n",
       "    </tr>\n",
       "    <tr>\n",
       "      <th>12</th>\n",
       "      <td>1</td>\n",
       "      <td>陈柳</td>\n",
       "      <td>化学</td>\n",
       "      <td>117</td>\n",
       "      <td>58</td>\n",
       "      <td>86</td>\n",
       "      <td>83</td>\n",
       "    </tr>\n",
       "    <tr>\n",
       "      <th>15</th>\n",
       "      <td>1</td>\n",
       "      <td>葛丽</td>\n",
       "      <td>物理</td>\n",
       "      <td>118</td>\n",
       "      <td>65</td>\n",
       "      <td>108</td>\n",
       "      <td>67</td>\n",
       "    </tr>\n",
       "    <tr>\n",
       "      <th>...</th>\n",
       "      <td>...</td>\n",
       "      <td>...</td>\n",
       "      <td>...</td>\n",
       "      <td>...</td>\n",
       "      <td>...</td>\n",
       "      <td>...</td>\n",
       "      <td>...</td>\n",
       "    </tr>\n",
       "    <tr>\n",
       "      <th>886</th>\n",
       "      <td>11</td>\n",
       "      <td>蔡兵</td>\n",
       "      <td>物理</td>\n",
       "      <td>98</td>\n",
       "      <td>61</td>\n",
       "      <td>83</td>\n",
       "      <td>106</td>\n",
       "    </tr>\n",
       "    <tr>\n",
       "      <th>888</th>\n",
       "      <td>11</td>\n",
       "      <td>刘柳</td>\n",
       "      <td>物理</td>\n",
       "      <td>97</td>\n",
       "      <td>116</td>\n",
       "      <td>82</td>\n",
       "      <td>88</td>\n",
       "    </tr>\n",
       "    <tr>\n",
       "      <th>889</th>\n",
       "      <td>11</td>\n",
       "      <td>宋龙</td>\n",
       "      <td>化学</td>\n",
       "      <td>94</td>\n",
       "      <td>75</td>\n",
       "      <td>64</td>\n",
       "      <td>79</td>\n",
       "    </tr>\n",
       "    <tr>\n",
       "      <th>894</th>\n",
       "      <td>11</td>\n",
       "      <td>夏刚</td>\n",
       "      <td>化学</td>\n",
       "      <td>99</td>\n",
       "      <td>82</td>\n",
       "      <td>77</td>\n",
       "      <td>80</td>\n",
       "    </tr>\n",
       "    <tr>\n",
       "      <th>895</th>\n",
       "      <td>11</td>\n",
       "      <td>权玉珍</td>\n",
       "      <td>物理</td>\n",
       "      <td>108</td>\n",
       "      <td>77</td>\n",
       "      <td>78</td>\n",
       "      <td>82</td>\n",
       "    </tr>\n",
       "  </tbody>\n",
       "</table>\n",
       "<p>377 rows × 7 columns</p>\n",
       "</div>"
      ],
      "text/plain": [
       "     班级   姓名  选科   语文   数学   英语   科目\n",
       "1     1   卢楠  物理  108   77   90   94\n",
       "3     1   张刚  化学   85   88  102   76\n",
       "7     1  张秀云  物理  100   98   90   90\n",
       "12    1   陈柳  化学  117   58   86   83\n",
       "15    1   葛丽  物理  118   65  108   67\n",
       "..   ..  ...  ..  ...  ...  ...  ...\n",
       "886  11   蔡兵  物理   98   61   83  106\n",
       "888  11   刘柳  物理   97  116   82   88\n",
       "889  11   宋龙  化学   94   75   64   79\n",
       "894  11   夏刚  化学   99   82   77   80\n",
       "895  11  权玉珍  物理  108   77   78   82\n",
       "\n",
       "[377 rows x 7 columns]"
      ]
     },
     "execution_count": 314,
     "metadata": {},
     "output_type": "execute_result"
    }
   ],
   "source": [
    "df2 = df.query('(选科 == [\"物理\", \"化学\"] )')\n",
    "# df2.index\n",
    "# df2.values\n",
    "df2"
   ]
  },
  {
   "cell_type": "code",
   "execution_count": 315,
   "metadata": {
    "scrolled": true
   },
   "outputs": [
    {
     "data": {
      "text/plain": [
       "1      275\n",
       "3      275\n",
       "7      288\n",
       "12     261\n",
       "15     291\n",
       "      ... \n",
       "886    242\n",
       "888    295\n",
       "889    233\n",
       "894    258\n",
       "895    263\n",
       "Length: 377, dtype: int64"
      ]
     },
     "execution_count": 315,
     "metadata": {},
     "output_type": "execute_result"
    }
   ],
   "source": [
    "sum = df2.语文+df2.数学+df2.英语\n",
    "sum"
   ]
  },
  {
   "cell_type": "code",
   "execution_count": 316,
   "metadata": {
    "scrolled": true
   },
   "outputs": [
    {
     "data": {
      "text/html": [
       "<div>\n",
       "<style scoped>\n",
       "    .dataframe tbody tr th:only-of-type {\n",
       "        vertical-align: middle;\n",
       "    }\n",
       "\n",
       "    .dataframe tbody tr th {\n",
       "        vertical-align: top;\n",
       "    }\n",
       "\n",
       "    .dataframe thead th {\n",
       "        text-align: right;\n",
       "    }\n",
       "</style>\n",
       "<table border=\"1\" class=\"dataframe\">\n",
       "  <thead>\n",
       "    <tr style=\"text-align: right;\">\n",
       "      <th></th>\n",
       "      <th>班级</th>\n",
       "      <th>姓名</th>\n",
       "      <th>语数英总分</th>\n",
       "    </tr>\n",
       "  </thead>\n",
       "  <tbody>\n",
       "    <tr>\n",
       "      <th>1</th>\n",
       "      <td>1</td>\n",
       "      <td>卢楠</td>\n",
       "      <td>275</td>\n",
       "    </tr>\n",
       "    <tr>\n",
       "      <th>3</th>\n",
       "      <td>1</td>\n",
       "      <td>张刚</td>\n",
       "      <td>275</td>\n",
       "    </tr>\n",
       "    <tr>\n",
       "      <th>7</th>\n",
       "      <td>1</td>\n",
       "      <td>张秀云</td>\n",
       "      <td>288</td>\n",
       "    </tr>\n",
       "    <tr>\n",
       "      <th>12</th>\n",
       "      <td>1</td>\n",
       "      <td>陈柳</td>\n",
       "      <td>261</td>\n",
       "    </tr>\n",
       "    <tr>\n",
       "      <th>15</th>\n",
       "      <td>1</td>\n",
       "      <td>葛丽</td>\n",
       "      <td>291</td>\n",
       "    </tr>\n",
       "    <tr>\n",
       "      <th>...</th>\n",
       "      <td>...</td>\n",
       "      <td>...</td>\n",
       "      <td>...</td>\n",
       "    </tr>\n",
       "    <tr>\n",
       "      <th>886</th>\n",
       "      <td>11</td>\n",
       "      <td>蔡兵</td>\n",
       "      <td>242</td>\n",
       "    </tr>\n",
       "    <tr>\n",
       "      <th>888</th>\n",
       "      <td>11</td>\n",
       "      <td>刘柳</td>\n",
       "      <td>295</td>\n",
       "    </tr>\n",
       "    <tr>\n",
       "      <th>889</th>\n",
       "      <td>11</td>\n",
       "      <td>宋龙</td>\n",
       "      <td>233</td>\n",
       "    </tr>\n",
       "    <tr>\n",
       "      <th>894</th>\n",
       "      <td>11</td>\n",
       "      <td>夏刚</td>\n",
       "      <td>258</td>\n",
       "    </tr>\n",
       "    <tr>\n",
       "      <th>895</th>\n",
       "      <td>11</td>\n",
       "      <td>权玉珍</td>\n",
       "      <td>263</td>\n",
       "    </tr>\n",
       "  </tbody>\n",
       "</table>\n",
       "<p>377 rows × 3 columns</p>\n",
       "</div>"
      ],
      "text/plain": [
       "     班级   姓名  语数英总分\n",
       "1     1   卢楠    275\n",
       "3     1   张刚    275\n",
       "7     1  张秀云    288\n",
       "12    1   陈柳    261\n",
       "15    1   葛丽    291\n",
       "..   ..  ...    ...\n",
       "886  11   蔡兵    242\n",
       "888  11   刘柳    295\n",
       "889  11   宋龙    233\n",
       "894  11   夏刚    258\n",
       "895  11  权玉珍    263\n",
       "\n",
       "[377 rows x 3 columns]"
      ]
     },
     "execution_count": 316,
     "metadata": {},
     "output_type": "execute_result"
    }
   ],
   "source": [
    "df3 = pd.DataFrame(data = {'班级': df2.班级, '姓名':df2.姓名,\n",
    "                          '语数英总分': list(df2.语文+df2.数学+df2.英语)},\n",
    "                  index = df2.index)\n",
    "\n",
    "\n",
    "df3"
   ]
  },
  {
   "cell_type": "code",
   "execution_count": 317,
   "metadata": {
    "scrolled": true
   },
   "outputs": [
    {
     "data": {
      "text/plain": [
       "班级\n",
       "1     274.727273\n",
       "2     281.818182\n",
       "3     269.794118\n",
       "4     265.522727\n",
       "5     268.676471\n",
       "6     272.894737\n",
       "7     270.818182\n",
       "8     268.162162\n",
       "9     270.071429\n",
       "10    268.675676\n",
       "11    262.076923\n",
       "Name: 语数英总分, dtype: float64"
      ]
     },
     "execution_count": 317,
     "metadata": {},
     "output_type": "execute_result"
    }
   ],
   "source": [
    "condition = [\"班级\"]\n",
    "df4 = df3.groupby(condition)[\"语数英总分\"].mean()\n",
    "df4"
   ]
  },
  {
   "cell_type": "code",
   "execution_count": 308,
   "metadata": {},
   "outputs": [
    {
     "data": {
      "text/plain": [
       "281.8181818181818"
      ]
     },
     "execution_count": 308,
     "metadata": {},
     "output_type": "execute_result"
    }
   ],
   "source": [
    "df4.max()"
   ]
  },
  {
   "cell_type": "code",
   "execution_count": 319,
   "metadata": {},
   "outputs": [
    {
     "data": {
      "text/html": [
       "<div>\n",
       "<style scoped>\n",
       "    .dataframe tbody tr th:only-of-type {\n",
       "        vertical-align: middle;\n",
       "    }\n",
       "\n",
       "    .dataframe tbody tr th {\n",
       "        vertical-align: top;\n",
       "    }\n",
       "\n",
       "    .dataframe thead th {\n",
       "        text-align: right;\n",
       "    }\n",
       "</style>\n",
       "<table border=\"1\" class=\"dataframe\">\n",
       "  <thead>\n",
       "    <tr style=\"text-align: right;\">\n",
       "      <th></th>\n",
       "      <th>班级</th>\n",
       "    </tr>\n",
       "  </thead>\n",
       "  <tbody>\n",
       "    <tr>\n",
       "      <th>0</th>\n",
       "      <td>2</td>\n",
       "    </tr>\n",
       "  </tbody>\n",
       "</table>\n",
       "</div>"
      ],
      "text/plain": [
       "   班级\n",
       "0   2"
      ]
     },
     "execution_count": 319,
     "metadata": {},
     "output_type": "execute_result"
    }
   ],
   "source": [
    "col=df4[df4==df4.max()].reset_index()[[\"班级\"]] #查看重复次数\n",
    "col"
   ]
  },
  {
   "cell_type": "code",
   "execution_count": null,
   "metadata": {},
   "outputs": [],
   "source": []
  },
  {
   "cell_type": "markdown",
   "metadata": {},
   "source": [
    "### 3、\n",
    "学生在该学期的总评计算方式是各次考试总分的加权平均值，其中周测成绩权重为50%（每次测验权重相等，即3.125%），期中权重为20%，期末权重为30%。请结合nlargest函数找出年级中总评前十的同学。"
   ]
  },
  {
   "cell_type": "code",
   "execution_count": 365,
   "metadata": {
    "scrolled": true
   },
   "outputs": [
    {
     "data": {
      "text/html": [
       "<div>\n",
       "<style scoped>\n",
       "    .dataframe tbody tr th:only-of-type {\n",
       "        vertical-align: middle;\n",
       "    }\n",
       "\n",
       "    .dataframe tbody tr th {\n",
       "        vertical-align: top;\n",
       "    }\n",
       "\n",
       "    .dataframe thead th {\n",
       "        text-align: right;\n",
       "    }\n",
       "</style>\n",
       "<table border=\"1\" class=\"dataframe\">\n",
       "  <thead>\n",
       "    <tr style=\"text-align: right;\">\n",
       "      <th></th>\n",
       "      <th>班级</th>\n",
       "      <th>姓名</th>\n",
       "      <th>选科</th>\n",
       "      <th>语文</th>\n",
       "      <th>数学</th>\n",
       "      <th>英语</th>\n",
       "      <th>科目</th>\n",
       "      <th>加权</th>\n",
       "    </tr>\n",
       "  </thead>\n",
       "  <tbody>\n",
       "    <tr>\n",
       "      <th>0</th>\n",
       "      <td>1</td>\n",
       "      <td>吴刚</td>\n",
       "      <td>地理</td>\n",
       "      <td>93</td>\n",
       "      <td>95</td>\n",
       "      <td>82</td>\n",
       "      <td>69</td>\n",
       "      <td>10.59375</td>\n",
       "    </tr>\n",
       "    <tr>\n",
       "      <th>1</th>\n",
       "      <td>1</td>\n",
       "      <td>卢楠</td>\n",
       "      <td>物理</td>\n",
       "      <td>108</td>\n",
       "      <td>77</td>\n",
       "      <td>90</td>\n",
       "      <td>94</td>\n",
       "      <td>11.53125</td>\n",
       "    </tr>\n",
       "    <tr>\n",
       "      <th>2</th>\n",
       "      <td>1</td>\n",
       "      <td>唐秀兰</td>\n",
       "      <td>历史</td>\n",
       "      <td>88</td>\n",
       "      <td>72</td>\n",
       "      <td>95</td>\n",
       "      <td>85</td>\n",
       "      <td>10.62500</td>\n",
       "    </tr>\n",
       "    <tr>\n",
       "      <th>3</th>\n",
       "      <td>1</td>\n",
       "      <td>张刚</td>\n",
       "      <td>化学</td>\n",
       "      <td>85</td>\n",
       "      <td>88</td>\n",
       "      <td>102</td>\n",
       "      <td>76</td>\n",
       "      <td>10.96875</td>\n",
       "    </tr>\n",
       "    <tr>\n",
       "      <th>4</th>\n",
       "      <td>1</td>\n",
       "      <td>姜洋</td>\n",
       "      <td>历史</td>\n",
       "      <td>104</td>\n",
       "      <td>99</td>\n",
       "      <td>84</td>\n",
       "      <td>86</td>\n",
       "      <td>11.65625</td>\n",
       "    </tr>\n",
       "    <tr>\n",
       "      <th>...</th>\n",
       "      <td>...</td>\n",
       "      <td>...</td>\n",
       "      <td>...</td>\n",
       "      <td>...</td>\n",
       "      <td>...</td>\n",
       "      <td>...</td>\n",
       "      <td>...</td>\n",
       "      <td>...</td>\n",
       "    </tr>\n",
       "    <tr>\n",
       "      <th>891</th>\n",
       "      <td>11</td>\n",
       "      <td>申建国</td>\n",
       "      <td>历史</td>\n",
       "      <td>85</td>\n",
       "      <td>60</td>\n",
       "      <td>98</td>\n",
       "      <td>80</td>\n",
       "      <td>10.09375</td>\n",
       "    </tr>\n",
       "    <tr>\n",
       "      <th>892</th>\n",
       "      <td>11</td>\n",
       "      <td>裴勇</td>\n",
       "      <td>历史</td>\n",
       "      <td>118</td>\n",
       "      <td>95</td>\n",
       "      <td>94</td>\n",
       "      <td>72</td>\n",
       "      <td>11.84375</td>\n",
       "    </tr>\n",
       "    <tr>\n",
       "      <th>893</th>\n",
       "      <td>11</td>\n",
       "      <td>王文</td>\n",
       "      <td>历史</td>\n",
       "      <td>92</td>\n",
       "      <td>71</td>\n",
       "      <td>87</td>\n",
       "      <td>62</td>\n",
       "      <td>9.75000</td>\n",
       "    </tr>\n",
       "    <tr>\n",
       "      <th>894</th>\n",
       "      <td>11</td>\n",
       "      <td>夏刚</td>\n",
       "      <td>化学</td>\n",
       "      <td>99</td>\n",
       "      <td>82</td>\n",
       "      <td>77</td>\n",
       "      <td>80</td>\n",
       "      <td>10.56250</td>\n",
       "    </tr>\n",
       "    <tr>\n",
       "      <th>895</th>\n",
       "      <td>11</td>\n",
       "      <td>权玉珍</td>\n",
       "      <td>物理</td>\n",
       "      <td>108</td>\n",
       "      <td>77</td>\n",
       "      <td>78</td>\n",
       "      <td>82</td>\n",
       "      <td>10.78125</td>\n",
       "    </tr>\n",
       "  </tbody>\n",
       "</table>\n",
       "<p>896 rows × 8 columns</p>\n",
       "</div>"
      ],
      "text/plain": [
       "     班级   姓名  选科   语文  数学   英语  科目        加权\n",
       "0     1   吴刚  地理   93  95   82  69  10.59375\n",
       "1     1   卢楠  物理  108  77   90  94  11.53125\n",
       "2     1  唐秀兰  历史   88  72   95  85  10.62500\n",
       "3     1   张刚  化学   85  88  102  76  10.96875\n",
       "4     1   姜洋  历史  104  99   84  86  11.65625\n",
       "..   ..  ...  ..  ...  ..  ...  ..       ...\n",
       "891  11  申建国  历史   85  60   98  80  10.09375\n",
       "892  11   裴勇  历史  118  95   94  72  11.84375\n",
       "893  11   王文  历史   92  71   87  62   9.75000\n",
       "894  11   夏刚  化学   99  82   77  80  10.56250\n",
       "895  11  权玉珍  物理  108  77   78  82  10.78125\n",
       "\n",
       "[896 rows x 8 columns]"
      ]
     },
     "execution_count": 365,
     "metadata": {},
     "output_type": "execute_result"
    }
   ],
   "source": [
    "df_s = pd.read_csv('data/supplement/ex2/第1次周测成绩.csv')#读取表格\n",
    "df_s1=df_s.copy()\n",
    "df_s1.insert(loc=7, column='加权', value=list((df_s1.语文+df_s1.数学+df_s1.英语+df_s1.科目)*0.03125))\n",
    "\n",
    "df_s1"
   ]
  },
  {
   "cell_type": "code",
   "execution_count": 342,
   "metadata": {
    "scrolled": true
   },
   "outputs": [
    {
     "data": {
      "text/plain": [
       "0      10.59375\n",
       "1      11.53125\n",
       "2      10.62500\n",
       "3      10.96875\n",
       "4      11.65625\n",
       "         ...   \n",
       "891    10.09375\n",
       "892    11.84375\n",
       "893     9.75000\n",
       "894    10.56250\n",
       "895    10.78125\n",
       "Name: 加权, Length: 896, dtype: float64"
      ]
     },
     "execution_count": 342,
     "metadata": {},
     "output_type": "execute_result"
    }
   ],
   "source": [
    "col_1=df_s1[\"加权\"] #\n",
    "col_1"
   ]
  },
  {
   "cell_type": "code",
   "execution_count": 359,
   "metadata": {},
   "outputs": [],
   "source": [
    "ss = ['data/supplement/ex2/第1次周测成绩.csv',\n",
    "      'data/supplement/ex2/第2次周测成绩.csv',\n",
    "     'data/supplement/ex2/第3次周测成绩.csv',\n",
    "     'data/supplement/ex2/第4次周测成绩.csv',\n",
    "     'data/supplement/ex2/第5次周测成绩.csv',\n",
    "     'data/supplement/ex2/第6次周测成绩.csv',\n",
    "     'data/supplement/ex2/第7次周测成绩.csv',\n",
    "     'data/supplement/ex2/第8次周测成绩.csv',\n",
    "     'data/supplement/ex2/第9次周测成绩.csv',\n",
    "     'data/supplement/ex2/第10次周测成绩.csv',\n",
    "     'data/supplement/ex2/第11次周测成绩.csv',\n",
    "     'data/supplement/ex2/第12次周测成绩.csv',\n",
    "     'data/supplement/ex2/第13次周测成绩.csv',\n",
    "     'data/supplement/ex2/第14次周测成绩.csv',\n",
    "     'data/supplement/ex2/第15次周测成绩.csv',\n",
    "     'data/supplement/ex2/第16次周测成绩.csv',\n",
    "     'data/supplement/ex2/期末考试成绩.csv',\n",
    "     'data/supplement/ex2/期中考试成绩.csv']"
   ]
  },
  {
   "cell_type": "code",
   "execution_count": 362,
   "metadata": {},
   "outputs": [
    {
     "data": {
      "text/plain": [
       "0      371.94375\n",
       "1      395.54375\n",
       "2      391.28125\n",
       "3      395.83125\n",
       "4      381.65000\n",
       "         ...    \n",
       "891    376.26250\n",
       "892    393.93750\n",
       "893    395.67500\n",
       "894    392.30000\n",
       "895    395.50000\n",
       "Length: 896, dtype: float64"
      ]
     },
     "execution_count": 362,
     "metadata": {},
     "output_type": "execute_result"
    }
   ],
   "source": [
    "def zcj():\n",
    "    n = 16\n",
    "    sc = np.zeros(896)\n",
    "    while(n):\n",
    "        n = n - 1\n",
    "        df = pd.read_csv(ss[n])#读取表格\n",
    "        sc = sc + (df.语文+df.数学+df.英语+df.科目)*0.03125\n",
    "    \n",
    "    df1 = pd.read_csv(ss[17])\n",
    "    sc1 = (df1.语文+df1.数学+df1.英语+df1.科目)*0.2\n",
    "    df2 = pd.read_csv(ss[16])\n",
    "    sc2 = (df2.语文+df2.数学+df2.英语+df2.科目)*0.3\n",
    "    sc = sc + sc1 + sc2\n",
    "    \n",
    "    return sc\n",
    "\n",
    "zcj()"
   ]
  },
  {
   "cell_type": "code",
   "execution_count": 366,
   "metadata": {},
   "outputs": [
    {
     "data": {
      "text/html": [
       "<div>\n",
       "<style scoped>\n",
       "    .dataframe tbody tr th:only-of-type {\n",
       "        vertical-align: middle;\n",
       "    }\n",
       "\n",
       "    .dataframe tbody tr th {\n",
       "        vertical-align: top;\n",
       "    }\n",
       "\n",
       "    .dataframe thead th {\n",
       "        text-align: right;\n",
       "    }\n",
       "</style>\n",
       "<table border=\"1\" class=\"dataframe\">\n",
       "  <thead>\n",
       "    <tr style=\"text-align: right;\">\n",
       "      <th></th>\n",
       "      <th>班级</th>\n",
       "      <th>姓名</th>\n",
       "      <th>总分</th>\n",
       "    </tr>\n",
       "  </thead>\n",
       "  <tbody>\n",
       "    <tr>\n",
       "      <th>0</th>\n",
       "      <td>1</td>\n",
       "      <td>吴刚</td>\n",
       "      <td>371.94375</td>\n",
       "    </tr>\n",
       "    <tr>\n",
       "      <th>1</th>\n",
       "      <td>1</td>\n",
       "      <td>卢楠</td>\n",
       "      <td>395.54375</td>\n",
       "    </tr>\n",
       "    <tr>\n",
       "      <th>2</th>\n",
       "      <td>1</td>\n",
       "      <td>唐秀兰</td>\n",
       "      <td>391.28125</td>\n",
       "    </tr>\n",
       "    <tr>\n",
       "      <th>3</th>\n",
       "      <td>1</td>\n",
       "      <td>张刚</td>\n",
       "      <td>395.83125</td>\n",
       "    </tr>\n",
       "    <tr>\n",
       "      <th>4</th>\n",
       "      <td>1</td>\n",
       "      <td>姜洋</td>\n",
       "      <td>381.65000</td>\n",
       "    </tr>\n",
       "    <tr>\n",
       "      <th>...</th>\n",
       "      <td>...</td>\n",
       "      <td>...</td>\n",
       "      <td>...</td>\n",
       "    </tr>\n",
       "    <tr>\n",
       "      <th>891</th>\n",
       "      <td>11</td>\n",
       "      <td>申建国</td>\n",
       "      <td>376.26250</td>\n",
       "    </tr>\n",
       "    <tr>\n",
       "      <th>892</th>\n",
       "      <td>11</td>\n",
       "      <td>裴勇</td>\n",
       "      <td>393.93750</td>\n",
       "    </tr>\n",
       "    <tr>\n",
       "      <th>893</th>\n",
       "      <td>11</td>\n",
       "      <td>王文</td>\n",
       "      <td>395.67500</td>\n",
       "    </tr>\n",
       "    <tr>\n",
       "      <th>894</th>\n",
       "      <td>11</td>\n",
       "      <td>夏刚</td>\n",
       "      <td>392.30000</td>\n",
       "    </tr>\n",
       "    <tr>\n",
       "      <th>895</th>\n",
       "      <td>11</td>\n",
       "      <td>权玉珍</td>\n",
       "      <td>395.50000</td>\n",
       "    </tr>\n",
       "  </tbody>\n",
       "</table>\n",
       "<p>896 rows × 3 columns</p>\n",
       "</div>"
      ],
      "text/plain": [
       "     班级   姓名         总分\n",
       "0     1   吴刚  371.94375\n",
       "1     1   卢楠  395.54375\n",
       "2     1  唐秀兰  391.28125\n",
       "3     1   张刚  395.83125\n",
       "4     1   姜洋  381.65000\n",
       "..   ..  ...        ...\n",
       "891  11  申建国  376.26250\n",
       "892  11   裴勇  393.93750\n",
       "893  11   王文  395.67500\n",
       "894  11   夏刚  392.30000\n",
       "895  11  权玉珍  395.50000\n",
       "\n",
       "[896 rows x 3 columns]"
      ]
     },
     "execution_count": 366,
     "metadata": {},
     "output_type": "execute_result"
    }
   ],
   "source": [
    "df_sc = pd.DataFrame(data = {'班级': df_s.班级, '姓名':df_s.姓名,\n",
    "                          '总分': list(zcj())},\n",
    "                  index = df_s.index)\n",
    "\n",
    "\n",
    "df_sc"
   ]
  },
  {
   "cell_type": "code",
   "execution_count": 369,
   "metadata": {
    "scrolled": true
   },
   "outputs": [
    {
     "data": {
      "text/html": [
       "<div>\n",
       "<style scoped>\n",
       "    .dataframe tbody tr th:only-of-type {\n",
       "        vertical-align: middle;\n",
       "    }\n",
       "\n",
       "    .dataframe tbody tr th {\n",
       "        vertical-align: top;\n",
       "    }\n",
       "\n",
       "    .dataframe thead th {\n",
       "        text-align: right;\n",
       "    }\n",
       "</style>\n",
       "<table border=\"1\" class=\"dataframe\">\n",
       "  <thead>\n",
       "    <tr style=\"text-align: right;\">\n",
       "      <th></th>\n",
       "      <th>班级</th>\n",
       "      <th>姓名</th>\n",
       "      <th>总分</th>\n",
       "    </tr>\n",
       "  </thead>\n",
       "  <tbody>\n",
       "    <tr>\n",
       "      <th>598</th>\n",
       "      <td>8</td>\n",
       "      <td>王想</td>\n",
       "      <td>427.20000</td>\n",
       "    </tr>\n",
       "    <tr>\n",
       "      <th>163</th>\n",
       "      <td>3</td>\n",
       "      <td>黄萍</td>\n",
       "      <td>413.24375</td>\n",
       "    </tr>\n",
       "    <tr>\n",
       "      <th>503</th>\n",
       "      <td>7</td>\n",
       "      <td>黄文</td>\n",
       "      <td>413.00000</td>\n",
       "    </tr>\n",
       "    <tr>\n",
       "      <th>447</th>\n",
       "      <td>6</td>\n",
       "      <td>黎玉</td>\n",
       "      <td>412.13750</td>\n",
       "    </tr>\n",
       "    <tr>\n",
       "      <th>118</th>\n",
       "      <td>2</td>\n",
       "      <td>王淑英</td>\n",
       "      <td>410.63125</td>\n",
       "    </tr>\n",
       "    <tr>\n",
       "      <th>186</th>\n",
       "      <td>3</td>\n",
       "      <td>慕阳</td>\n",
       "      <td>410.62500</td>\n",
       "    </tr>\n",
       "    <tr>\n",
       "      <th>879</th>\n",
       "      <td>11</td>\n",
       "      <td>杨凤兰</td>\n",
       "      <td>410.47500</td>\n",
       "    </tr>\n",
       "    <tr>\n",
       "      <th>80</th>\n",
       "      <td>1</td>\n",
       "      <td>张欢</td>\n",
       "      <td>410.47500</td>\n",
       "    </tr>\n",
       "    <tr>\n",
       "      <th>500</th>\n",
       "      <td>7</td>\n",
       "      <td>吕雪</td>\n",
       "      <td>410.18750</td>\n",
       "    </tr>\n",
       "    <tr>\n",
       "      <th>289</th>\n",
       "      <td>4</td>\n",
       "      <td>孙桂珍</td>\n",
       "      <td>409.64375</td>\n",
       "    </tr>\n",
       "  </tbody>\n",
       "</table>\n",
       "</div>"
      ],
      "text/plain": [
       "     班级   姓名         总分\n",
       "598   8   王想  427.20000\n",
       "163   3   黄萍  413.24375\n",
       "503   7   黄文  413.00000\n",
       "447   6   黎玉  412.13750\n",
       "118   2  王淑英  410.63125\n",
       "186   3   慕阳  410.62500\n",
       "879  11  杨凤兰  410.47500\n",
       "80    1   张欢  410.47500\n",
       "500   7   吕雪  410.18750\n",
       "289   4  孙桂珍  409.64375"
      ]
     },
     "execution_count": 369,
     "metadata": {},
     "output_type": "execute_result"
    }
   ],
   "source": [
    "df_sc[[\"班级\",\"姓名\",\"总分\"]].nlargest(10,\"总分\")"
   ]
  },
  {
   "cell_type": "code",
   "execution_count": null,
   "metadata": {},
   "outputs": [],
   "source": []
  },
  {
   "cell_type": "markdown",
   "metadata": {},
   "source": [
    "### 4、\n",
    "请统计1班到8班文理科（物化生为理科，政史地为文科）期末考试总分前5的学生，结果格式如下，括号内的为选科分数"
   ]
  },
  {
   "cell_type": "code",
   "execution_count": 191,
   "metadata": {},
   "outputs": [
    {
     "data": {
      "text/html": [
       "<div>\n",
       "<style scoped>\n",
       "    .dataframe tbody tr th:only-of-type {\n",
       "        vertical-align: middle;\n",
       "    }\n",
       "\n",
       "    .dataframe tbody tr th {\n",
       "        vertical-align: top;\n",
       "    }\n",
       "\n",
       "    .dataframe thead th {\n",
       "        text-align: right;\n",
       "    }\n",
       "</style>\n",
       "<table border=\"1\" class=\"dataframe\">\n",
       "  <thead>\n",
       "    <tr style=\"text-align: right;\">\n",
       "      <th></th>\n",
       "      <th>1班（文）</th>\n",
       "      <th>1班（理）</th>\n",
       "      <th>2班（文）</th>\n",
       "      <th>...</th>\n",
       "      <th>8班（理）</th>\n",
       "    </tr>\n",
       "  </thead>\n",
       "  <tbody>\n",
       "    <tr>\n",
       "      <th>0</th>\n",
       "      <td>王大锤：历史（102）</td>\n",
       "      <td>...</td>\n",
       "      <td>...</td>\n",
       "      <td>...</td>\n",
       "      <td>...</td>\n",
       "    </tr>\n",
       "    <tr>\n",
       "      <th>1</th>\n",
       "      <td>...</td>\n",
       "      <td>...</td>\n",
       "      <td>...</td>\n",
       "      <td>...</td>\n",
       "      <td>...</td>\n",
       "    </tr>\n",
       "    <tr>\n",
       "      <th>2</th>\n",
       "      <td>...</td>\n",
       "      <td>...</td>\n",
       "      <td>...</td>\n",
       "      <td>...</td>\n",
       "      <td>...</td>\n",
       "    </tr>\n",
       "    <tr>\n",
       "      <th>3</th>\n",
       "      <td>...</td>\n",
       "      <td>...</td>\n",
       "      <td>...</td>\n",
       "      <td>...</td>\n",
       "      <td>...</td>\n",
       "    </tr>\n",
       "    <tr>\n",
       "      <th>4</th>\n",
       "      <td>...</td>\n",
       "      <td>...</td>\n",
       "      <td>...</td>\n",
       "      <td>...</td>\n",
       "      <td>...</td>\n",
       "    </tr>\n",
       "  </tbody>\n",
       "</table>\n",
       "</div>"
      ],
      "text/plain": [
       "         1班（文） 1班（理） 2班（文）  ... 8班（理）\n",
       "0  王大锤：历史（102）   ...   ...  ...   ...\n",
       "1          ...   ...   ...  ...   ...\n",
       "2          ...   ...   ...  ...   ...\n",
       "3          ...   ...   ...  ...   ...\n",
       "4          ...   ...   ...  ...   ..."
      ]
     },
     "execution_count": 191,
     "metadata": {},
     "output_type": "execute_result"
    }
   ],
   "source": [
    "pd.DataFrame(\n",
    "    {\n",
    "        \"1班（文）\": [\"王大锤：历史（102）\"]+[\"...\"]* 4,\n",
    "        \"1班（理）\": [\"...\"]* 5,\n",
    "        \"2班（文）\": [\"...\"]* 5,\n",
    "        \"...\": [\"...\"]* 5,\n",
    "        \"8班（理）\": [\"...\"]* 5,\n",
    "    }\n",
    ") # 王大锤：历史（102）只是举个例子，表示结果字符串需要按照这个格式来写\n"
   ]
  },
  {
   "cell_type": "code",
   "execution_count": null,
   "metadata": {},
   "outputs": [],
   "source": []
  },
  {
   "cell_type": "code",
   "execution_count": 370,
   "metadata": {},
   "outputs": [],
   "source": [
    "df = pd.read_csv('data/supplement/ex2/期末考试成绩.csv')#读取表格\n"
   ]
  },
  {
   "cell_type": "code",
   "execution_count": 380,
   "metadata": {},
   "outputs": [
    {
     "data": {
      "text/plain": [
       "681"
      ]
     },
     "execution_count": 380,
     "metadata": {},
     "output_type": "execute_result"
    }
   ],
   "source": [
    "df1=df.groupby([\"班级\"]).size()\n",
    "df2 = df1[:8].sum()\n",
    "df2"
   ]
  },
  {
   "cell_type": "code",
   "execution_count": 385,
   "metadata": {},
   "outputs": [
    {
     "data": {
      "text/html": [
       "<div>\n",
       "<style scoped>\n",
       "    .dataframe tbody tr th:only-of-type {\n",
       "        vertical-align: middle;\n",
       "    }\n",
       "\n",
       "    .dataframe tbody tr th {\n",
       "        vertical-align: top;\n",
       "    }\n",
       "\n",
       "    .dataframe thead th {\n",
       "        text-align: right;\n",
       "    }\n",
       "</style>\n",
       "<table border=\"1\" class=\"dataframe\">\n",
       "  <thead>\n",
       "    <tr style=\"text-align: right;\">\n",
       "      <th></th>\n",
       "      <th>班级</th>\n",
       "      <th>姓名</th>\n",
       "      <th>选科</th>\n",
       "      <th>语文</th>\n",
       "      <th>数学</th>\n",
       "      <th>英语</th>\n",
       "      <th>科目</th>\n",
       "    </tr>\n",
       "  </thead>\n",
       "  <tbody>\n",
       "    <tr>\n",
       "      <th>0</th>\n",
       "      <td>1</td>\n",
       "      <td>吴刚</td>\n",
       "      <td>地理</td>\n",
       "      <td>83</td>\n",
       "      <td>51</td>\n",
       "      <td>103</td>\n",
       "      <td>102</td>\n",
       "    </tr>\n",
       "    <tr>\n",
       "      <th>1</th>\n",
       "      <td>1</td>\n",
       "      <td>卢楠</td>\n",
       "      <td>物理</td>\n",
       "      <td>113</td>\n",
       "      <td>81</td>\n",
       "      <td>95</td>\n",
       "      <td>102</td>\n",
       "    </tr>\n",
       "    <tr>\n",
       "      <th>2</th>\n",
       "      <td>1</td>\n",
       "      <td>唐秀兰</td>\n",
       "      <td>历史</td>\n",
       "      <td>111</td>\n",
       "      <td>99</td>\n",
       "      <td>86</td>\n",
       "      <td>115</td>\n",
       "    </tr>\n",
       "    <tr>\n",
       "      <th>3</th>\n",
       "      <td>1</td>\n",
       "      <td>张刚</td>\n",
       "      <td>化学</td>\n",
       "      <td>111</td>\n",
       "      <td>84</td>\n",
       "      <td>87</td>\n",
       "      <td>108</td>\n",
       "    </tr>\n",
       "    <tr>\n",
       "      <th>4</th>\n",
       "      <td>1</td>\n",
       "      <td>姜洋</td>\n",
       "      <td>历史</td>\n",
       "      <td>96</td>\n",
       "      <td>85</td>\n",
       "      <td>84</td>\n",
       "      <td>96</td>\n",
       "    </tr>\n",
       "    <tr>\n",
       "      <th>...</th>\n",
       "      <td>...</td>\n",
       "      <td>...</td>\n",
       "      <td>...</td>\n",
       "      <td>...</td>\n",
       "      <td>...</td>\n",
       "      <td>...</td>\n",
       "      <td>...</td>\n",
       "    </tr>\n",
       "    <tr>\n",
       "      <th>676</th>\n",
       "      <td>8</td>\n",
       "      <td>陈玲</td>\n",
       "      <td>化学</td>\n",
       "      <td>90</td>\n",
       "      <td>79</td>\n",
       "      <td>87</td>\n",
       "      <td>95</td>\n",
       "    </tr>\n",
       "    <tr>\n",
       "      <th>677</th>\n",
       "      <td>8</td>\n",
       "      <td>何成</td>\n",
       "      <td>物理</td>\n",
       "      <td>117</td>\n",
       "      <td>68</td>\n",
       "      <td>92</td>\n",
       "      <td>112</td>\n",
       "    </tr>\n",
       "    <tr>\n",
       "      <th>678</th>\n",
       "      <td>8</td>\n",
       "      <td>封军</td>\n",
       "      <td>政治</td>\n",
       "      <td>77</td>\n",
       "      <td>78</td>\n",
       "      <td>87</td>\n",
       "      <td>101</td>\n",
       "    </tr>\n",
       "    <tr>\n",
       "      <th>679</th>\n",
       "      <td>8</td>\n",
       "      <td>邓瑜</td>\n",
       "      <td>生物</td>\n",
       "      <td>87</td>\n",
       "      <td>87</td>\n",
       "      <td>78</td>\n",
       "      <td>86</td>\n",
       "    </tr>\n",
       "    <tr>\n",
       "      <th>680</th>\n",
       "      <td>8</td>\n",
       "      <td>陈慧</td>\n",
       "      <td>地理</td>\n",
       "      <td>96</td>\n",
       "      <td>77</td>\n",
       "      <td>96</td>\n",
       "      <td>102</td>\n",
       "    </tr>\n",
       "  </tbody>\n",
       "</table>\n",
       "<p>681 rows × 7 columns</p>\n",
       "</div>"
      ],
      "text/plain": [
       "     班级   姓名  选科   语文  数学   英语   科目\n",
       "0     1   吴刚  地理   83  51  103  102\n",
       "1     1   卢楠  物理  113  81   95  102\n",
       "2     1  唐秀兰  历史  111  99   86  115\n",
       "3     1   张刚  化学  111  84   87  108\n",
       "4     1   姜洋  历史   96  85   84   96\n",
       "..   ..  ...  ..  ...  ..  ...  ...\n",
       "676   8   陈玲  化学   90  79   87   95\n",
       "677   8   何成  物理  117  68   92  112\n",
       "678   8   封军  政治   77  78   87  101\n",
       "679   8   邓瑜  生物   87  87   78   86\n",
       "680   8   陈慧  地理   96  77   96  102\n",
       "\n",
       "[681 rows x 7 columns]"
      ]
     },
     "execution_count": 385,
     "metadata": {},
     "output_type": "execute_result"
    }
   ],
   "source": [
    "df3 = df[0:df2]\n",
    "df3"
   ]
  },
  {
   "cell_type": "code",
   "execution_count": 386,
   "metadata": {},
   "outputs": [
    {
     "data": {
      "text/html": [
       "<div>\n",
       "<style scoped>\n",
       "    .dataframe tbody tr th:only-of-type {\n",
       "        vertical-align: middle;\n",
       "    }\n",
       "\n",
       "    .dataframe tbody tr th {\n",
       "        vertical-align: top;\n",
       "    }\n",
       "\n",
       "    .dataframe thead th {\n",
       "        text-align: right;\n",
       "    }\n",
       "</style>\n",
       "<table border=\"1\" class=\"dataframe\">\n",
       "  <thead>\n",
       "    <tr style=\"text-align: right;\">\n",
       "      <th></th>\n",
       "      <th>班级</th>\n",
       "      <th>姓名</th>\n",
       "      <th>选科</th>\n",
       "      <th>语文</th>\n",
       "      <th>数学</th>\n",
       "      <th>英语</th>\n",
       "      <th>科目</th>\n",
       "      <th>总分</th>\n",
       "    </tr>\n",
       "  </thead>\n",
       "  <tbody>\n",
       "    <tr>\n",
       "      <th>0</th>\n",
       "      <td>1</td>\n",
       "      <td>吴刚</td>\n",
       "      <td>地理</td>\n",
       "      <td>83</td>\n",
       "      <td>51</td>\n",
       "      <td>103</td>\n",
       "      <td>102</td>\n",
       "      <td>339</td>\n",
       "    </tr>\n",
       "    <tr>\n",
       "      <th>1</th>\n",
       "      <td>1</td>\n",
       "      <td>卢楠</td>\n",
       "      <td>物理</td>\n",
       "      <td>113</td>\n",
       "      <td>81</td>\n",
       "      <td>95</td>\n",
       "      <td>102</td>\n",
       "      <td>391</td>\n",
       "    </tr>\n",
       "    <tr>\n",
       "      <th>2</th>\n",
       "      <td>1</td>\n",
       "      <td>唐秀兰</td>\n",
       "      <td>历史</td>\n",
       "      <td>111</td>\n",
       "      <td>99</td>\n",
       "      <td>86</td>\n",
       "      <td>115</td>\n",
       "      <td>411</td>\n",
       "    </tr>\n",
       "    <tr>\n",
       "      <th>3</th>\n",
       "      <td>1</td>\n",
       "      <td>张刚</td>\n",
       "      <td>化学</td>\n",
       "      <td>111</td>\n",
       "      <td>84</td>\n",
       "      <td>87</td>\n",
       "      <td>108</td>\n",
       "      <td>390</td>\n",
       "    </tr>\n",
       "    <tr>\n",
       "      <th>4</th>\n",
       "      <td>1</td>\n",
       "      <td>姜洋</td>\n",
       "      <td>历史</td>\n",
       "      <td>96</td>\n",
       "      <td>85</td>\n",
       "      <td>84</td>\n",
       "      <td>96</td>\n",
       "      <td>361</td>\n",
       "    </tr>\n",
       "    <tr>\n",
       "      <th>...</th>\n",
       "      <td>...</td>\n",
       "      <td>...</td>\n",
       "      <td>...</td>\n",
       "      <td>...</td>\n",
       "      <td>...</td>\n",
       "      <td>...</td>\n",
       "      <td>...</td>\n",
       "      <td>...</td>\n",
       "    </tr>\n",
       "    <tr>\n",
       "      <th>676</th>\n",
       "      <td>8</td>\n",
       "      <td>陈玲</td>\n",
       "      <td>化学</td>\n",
       "      <td>90</td>\n",
       "      <td>79</td>\n",
       "      <td>87</td>\n",
       "      <td>95</td>\n",
       "      <td>351</td>\n",
       "    </tr>\n",
       "    <tr>\n",
       "      <th>677</th>\n",
       "      <td>8</td>\n",
       "      <td>何成</td>\n",
       "      <td>物理</td>\n",
       "      <td>117</td>\n",
       "      <td>68</td>\n",
       "      <td>92</td>\n",
       "      <td>112</td>\n",
       "      <td>389</td>\n",
       "    </tr>\n",
       "    <tr>\n",
       "      <th>678</th>\n",
       "      <td>8</td>\n",
       "      <td>封军</td>\n",
       "      <td>政治</td>\n",
       "      <td>77</td>\n",
       "      <td>78</td>\n",
       "      <td>87</td>\n",
       "      <td>101</td>\n",
       "      <td>343</td>\n",
       "    </tr>\n",
       "    <tr>\n",
       "      <th>679</th>\n",
       "      <td>8</td>\n",
       "      <td>邓瑜</td>\n",
       "      <td>生物</td>\n",
       "      <td>87</td>\n",
       "      <td>87</td>\n",
       "      <td>78</td>\n",
       "      <td>86</td>\n",
       "      <td>338</td>\n",
       "    </tr>\n",
       "    <tr>\n",
       "      <th>680</th>\n",
       "      <td>8</td>\n",
       "      <td>陈慧</td>\n",
       "      <td>地理</td>\n",
       "      <td>96</td>\n",
       "      <td>77</td>\n",
       "      <td>96</td>\n",
       "      <td>102</td>\n",
       "      <td>371</td>\n",
       "    </tr>\n",
       "  </tbody>\n",
       "</table>\n",
       "<p>681 rows × 8 columns</p>\n",
       "</div>"
      ],
      "text/plain": [
       "     班级   姓名  选科   语文  数学   英语   科目   总分\n",
       "0     1   吴刚  地理   83  51  103  102  339\n",
       "1     1   卢楠  物理  113  81   95  102  391\n",
       "2     1  唐秀兰  历史  111  99   86  115  411\n",
       "3     1   张刚  化学  111  84   87  108  390\n",
       "4     1   姜洋  历史   96  85   84   96  361\n",
       "..   ..  ...  ..  ...  ..  ...  ...  ...\n",
       "676   8   陈玲  化学   90  79   87   95  351\n",
       "677   8   何成  物理  117  68   92  112  389\n",
       "678   8   封军  政治   77  78   87  101  343\n",
       "679   8   邓瑜  生物   87  87   78   86  338\n",
       "680   8   陈慧  地理   96  77   96  102  371\n",
       "\n",
       "[681 rows x 8 columns]"
      ]
     },
     "execution_count": 386,
     "metadata": {},
     "output_type": "execute_result"
    }
   ],
   "source": [
    "sc = df3.语文+df3.数学+df3.英语+df3.科目\n",
    "df3.insert(loc=7, column='总分', value=list(sc))\n",
    "df3"
   ]
  },
  {
   "cell_type": "code",
   "execution_count": null,
   "metadata": {},
   "outputs": [],
   "source": []
  },
  {
   "cell_type": "code",
   "execution_count": null,
   "metadata": {},
   "outputs": [],
   "source": []
  },
  {
   "cell_type": "code",
   "execution_count": null,
   "metadata": {},
   "outputs": [],
   "source": []
  },
  {
   "cell_type": "code",
   "execution_count": null,
   "metadata": {},
   "outputs": [],
   "source": []
  },
  {
   "cell_type": "code",
   "execution_count": null,
   "metadata": {},
   "outputs": [],
   "source": []
  },
  {
   "cell_type": "code",
   "execution_count": null,
   "metadata": {},
   "outputs": [],
   "source": []
  },
  {
   "cell_type": "markdown",
   "metadata": {},
   "source": [
    "### 5、\n",
    "学生成绩的稳定性可以用每次考试在全年级相同选科学生中的总分排名标准差来度量，请计算每个班级的各科学生成绩稳定性的均值，结果格式如下："
   ]
  },
  {
   "cell_type": "code",
   "execution_count": null,
   "metadata": {},
   "outputs": [],
   "source": [
    "pd.DataFrame(\n",
    "    np.random.rand(11, 6),\n",
    "    index=pd.Index(range(1, 12), name=\"班级\"),\n",
    "    columns=pd.Index(\n",
    "        [\"物理\", \"化学\", \"生物\", \"历史\", \"地理\", \"政治\"],\n",
    "        name=\"选科\",\n",
    "    )\n",
    ")"
   ]
  },
  {
   "cell_type": "code",
   "execution_count": null,
   "metadata": {},
   "outputs": [],
   "source": []
  },
  {
   "cell_type": "code",
   "execution_count": null,
   "metadata": {},
   "outputs": [],
   "source": []
  },
  {
   "cell_type": "code",
   "execution_count": null,
   "metadata": {},
   "outputs": [],
   "source": []
  },
  {
   "cell_type": "code",
   "execution_count": null,
   "metadata": {},
   "outputs": [],
   "source": []
  },
  {
   "cell_type": "markdown",
   "metadata": {},
   "source": [
    "# Ex3：统计商品的审核情况\n",
    "在data/supplement/ex3中存放了两个有关商品审核的信息表，“商品信息.csv”中记录了每个商品的ID号，唯一的识别码以及商品所属的类别，“申请与审核记录.csv”中记录了每个商品的审核信息。已知商品的审核流程如下：由申请人发起商品审核的申请，然后由审核人审核，审核的结果包括通过与不通过两种情况，若商品不通过审核则可以由另一位申请人再次发起申请，直到商品的审核通过。"
   ]
  },
  {
   "cell_type": "code",
   "execution_count": 399,
   "metadata": {},
   "outputs": [
    {
     "data": {
      "text/html": [
       "<div>\n",
       "<style scoped>\n",
       "    .dataframe tbody tr th:only-of-type {\n",
       "        vertical-align: middle;\n",
       "    }\n",
       "\n",
       "    .dataframe tbody tr th {\n",
       "        vertical-align: top;\n",
       "    }\n",
       "\n",
       "    .dataframe thead th {\n",
       "        text-align: right;\n",
       "    }\n",
       "</style>\n",
       "<table border=\"1\" class=\"dataframe\">\n",
       "  <thead>\n",
       "    <tr style=\"text-align: right;\">\n",
       "      <th></th>\n",
       "      <th>ID号</th>\n",
       "      <th>识别码</th>\n",
       "      <th>类别</th>\n",
       "    </tr>\n",
       "  </thead>\n",
       "  <tbody>\n",
       "    <tr>\n",
       "      <th>0</th>\n",
       "      <td>ID 000001</td>\n",
       "      <td>CRtXJUK</td>\n",
       "      <td>T1</td>\n",
       "    </tr>\n",
       "    <tr>\n",
       "      <th>1</th>\n",
       "      <td>ID 000002</td>\n",
       "      <td>RGSxifC</td>\n",
       "      <td>Q1</td>\n",
       "    </tr>\n",
       "    <tr>\n",
       "      <th>2</th>\n",
       "      <td>ID 000003</td>\n",
       "      <td>AboduTp</td>\n",
       "      <td>S1</td>\n",
       "    </tr>\n",
       "    <tr>\n",
       "      <th>3</th>\n",
       "      <td>ID 000004</td>\n",
       "      <td>zlpUeMl</td>\n",
       "      <td>S2</td>\n",
       "    </tr>\n",
       "    <tr>\n",
       "      <th>4</th>\n",
       "      <td>ID 000005</td>\n",
       "      <td>IVQqhIK</td>\n",
       "      <td>S3</td>\n",
       "    </tr>\n",
       "  </tbody>\n",
       "</table>\n",
       "</div>"
      ],
      "text/plain": [
       "         ID号      识别码  类别\n",
       "0  ID 000001  CRtXJUK  T1\n",
       "1  ID 000002  RGSxifC  Q1\n",
       "2  ID 000003  AboduTp  S1\n",
       "3  ID 000004  zlpUeMl  S2\n",
       "4  ID 000005  IVQqhIK  S3"
      ]
     },
     "execution_count": 399,
     "metadata": {},
     "output_type": "execute_result"
    }
   ],
   "source": [
    "df_info = pd.read_csv('data/supplement/ex3/商品信息.csv')\n",
    "\n",
    "df_info.head()"
   ]
  },
  {
   "cell_type": "code",
   "execution_count": 396,
   "metadata": {},
   "outputs": [
    {
     "data": {
      "text/plain": [
       "(26832, 3)"
      ]
     },
     "execution_count": 396,
     "metadata": {},
     "output_type": "execute_result"
    }
   ],
   "source": [
    "df_info.shape"
   ]
  },
  {
   "cell_type": "code",
   "execution_count": 389,
   "metadata": {},
   "outputs": [
    {
     "data": {
      "text/html": [
       "<div>\n",
       "<style scoped>\n",
       "    .dataframe tbody tr th:only-of-type {\n",
       "        vertical-align: middle;\n",
       "    }\n",
       "\n",
       "    .dataframe tbody tr th {\n",
       "        vertical-align: top;\n",
       "    }\n",
       "\n",
       "    .dataframe thead th {\n",
       "        text-align: right;\n",
       "    }\n",
       "</style>\n",
       "<table border=\"1\" class=\"dataframe\">\n",
       "  <thead>\n",
       "    <tr style=\"text-align: right;\">\n",
       "      <th></th>\n",
       "      <th>ID号</th>\n",
       "      <th>申请人</th>\n",
       "      <th>申请时间</th>\n",
       "      <th>审核人</th>\n",
       "      <th>审核时间</th>\n",
       "      <th>结果</th>\n",
       "    </tr>\n",
       "  </thead>\n",
       "  <tbody>\n",
       "    <tr>\n",
       "      <th>0</th>\n",
       "      <td>ID 000001</td>\n",
       "      <td>\\#+3((52\\{</td>\n",
       "      <td>2020-04-19</td>\n",
       "      <td>~1=6\\*183|</td>\n",
       "      <td>2020-05-03</td>\n",
       "      <td>未通过</td>\n",
       "    </tr>\n",
       "    <tr>\n",
       "      <th>1</th>\n",
       "      <td>ID 000001</td>\n",
       "      <td>8@75[1|2\\*</td>\n",
       "      <td>2020-05-10</td>\n",
       "      <td>15![3\\({59</td>\n",
       "      <td>2020-07-17</td>\n",
       "      <td>未通过</td>\n",
       "    </tr>\n",
       "    <tr>\n",
       "      <th>2</th>\n",
       "      <td>ID 000001</td>\n",
       "      <td>}!7)(#^0*7</td>\n",
       "      <td>2020-07-28</td>\n",
       "      <td>3`}04}%@75</td>\n",
       "      <td>2020-08-23</td>\n",
       "      <td>通过</td>\n",
       "    </tr>\n",
       "    <tr>\n",
       "      <th>3</th>\n",
       "      <td>ID 000002</td>\n",
       "      <td>|*{20#9|}5</td>\n",
       "      <td>2020-01-05</td>\n",
       "      <td>={`8]03*4+</td>\n",
       "      <td>2020-03-09</td>\n",
       "      <td>未通过</td>\n",
       "    </tr>\n",
       "    <tr>\n",
       "      <th>4</th>\n",
       "      <td>ID 000002</td>\n",
       "      <td>4~6%)455`[</td>\n",
       "      <td>2020-03-14</td>\n",
       "      <td>=$-36[)|8]</td>\n",
       "      <td>2020-04-21</td>\n",
       "      <td>未通过</td>\n",
       "    </tr>\n",
       "  </tbody>\n",
       "</table>\n",
       "</div>"
      ],
      "text/plain": [
       "         ID号         申请人        申请时间         审核人        审核时间   结果\n",
       "0  ID 000001  \\#+3((52\\{  2020-04-19  ~1=6\\*183|  2020-05-03  未通过\n",
       "1  ID 000001  8@75[1|2\\*  2020-05-10  15![3\\({59  2020-07-17  未通过\n",
       "2  ID 000001  }!7)(#^0*7  2020-07-28  3`}04}%@75  2020-08-23   通过\n",
       "3  ID 000002  |*{20#9|}5  2020-01-05  ={`8]03*4+  2020-03-09  未通过\n",
       "4  ID 000002  4~6%)455`[  2020-03-14  =$-36[)|8]  2020-04-21  未通过"
      ]
     },
     "execution_count": 389,
     "metadata": {},
     "output_type": "execute_result"
    }
   ],
   "source": [
    "df_record = pd.read_csv('data/supplement/ex3/申请与审核记录.csv')\n",
    "\n",
    "df_record.head()"
   ]
  },
  {
   "cell_type": "markdown",
   "metadata": {},
   "source": [
    "### 1、\n",
    "有多少商品最终通过审核？\n"
   ]
  },
  {
   "cell_type": "code",
   "execution_count": 418,
   "metadata": {},
   "outputs": [
    {
     "data": {
      "text/plain": [
       "10848"
      ]
     },
     "execution_count": 418,
     "metadata": {},
     "output_type": "execute_result"
    }
   ],
   "source": [
    "df1= df_record.groupby([\"结果\"]).size()\n",
    "a = df1[\"通过\"]\n",
    "a"
   ]
  },
  {
   "cell_type": "code",
   "execution_count": 419,
   "metadata": {},
   "outputs": [
    {
     "data": {
      "text/plain": [
       "26832"
      ]
     },
     "execution_count": 419,
     "metadata": {},
     "output_type": "execute_result"
    }
   ],
   "source": [
    "b = df_info.shape[0]\n",
    "b"
   ]
  },
  {
   "cell_type": "code",
   "execution_count": 420,
   "metadata": {},
   "outputs": [
    {
     "data": {
      "text/plain": [
       "15984"
      ]
     },
     "execution_count": 420,
     "metadata": {},
     "output_type": "execute_result"
    }
   ],
   "source": [
    "int(b)-int(a)"
   ]
  },
  {
   "cell_type": "markdown",
   "metadata": {},
   "source": [
    "### 2、\n",
    "各类别商品的通过率分别为多少？\n"
   ]
  },
  {
   "cell_type": "code",
   "execution_count": 421,
   "metadata": {
    "scrolled": true
   },
   "outputs": [
    {
     "data": {
      "text/html": [
       "<div>\n",
       "<style scoped>\n",
       "    .dataframe tbody tr th:only-of-type {\n",
       "        vertical-align: middle;\n",
       "    }\n",
       "\n",
       "    .dataframe tbody tr th {\n",
       "        vertical-align: top;\n",
       "    }\n",
       "\n",
       "    .dataframe thead th {\n",
       "        text-align: right;\n",
       "    }\n",
       "</style>\n",
       "<table border=\"1\" class=\"dataframe\">\n",
       "  <thead>\n",
       "    <tr style=\"text-align: right;\">\n",
       "      <th></th>\n",
       "      <th>ID号</th>\n",
       "      <th>识别码</th>\n",
       "      <th>类别</th>\n",
       "    </tr>\n",
       "  </thead>\n",
       "  <tbody>\n",
       "    <tr>\n",
       "      <th>0</th>\n",
       "      <td>ID 000001</td>\n",
       "      <td>CRtXJUK</td>\n",
       "      <td>T1</td>\n",
       "    </tr>\n",
       "    <tr>\n",
       "      <th>1</th>\n",
       "      <td>ID 000002</td>\n",
       "      <td>RGSxifC</td>\n",
       "      <td>Q1</td>\n",
       "    </tr>\n",
       "    <tr>\n",
       "      <th>2</th>\n",
       "      <td>ID 000003</td>\n",
       "      <td>AboduTp</td>\n",
       "      <td>S1</td>\n",
       "    </tr>\n",
       "    <tr>\n",
       "      <th>3</th>\n",
       "      <td>ID 000004</td>\n",
       "      <td>zlpUeMl</td>\n",
       "      <td>S2</td>\n",
       "    </tr>\n",
       "    <tr>\n",
       "      <th>4</th>\n",
       "      <td>ID 000005</td>\n",
       "      <td>IVQqhIK</td>\n",
       "      <td>S3</td>\n",
       "    </tr>\n",
       "    <tr>\n",
       "      <th>...</th>\n",
       "      <td>...</td>\n",
       "      <td>...</td>\n",
       "      <td>...</td>\n",
       "    </tr>\n",
       "    <tr>\n",
       "      <th>26827</th>\n",
       "      <td>ID 026828</td>\n",
       "      <td>RWVzlsn</td>\n",
       "      <td>S2</td>\n",
       "    </tr>\n",
       "    <tr>\n",
       "      <th>26828</th>\n",
       "      <td>ID 026829</td>\n",
       "      <td>GetBGJp</td>\n",
       "      <td>T1</td>\n",
       "    </tr>\n",
       "    <tr>\n",
       "      <th>26829</th>\n",
       "      <td>ID 026830</td>\n",
       "      <td>AXOfdqd</td>\n",
       "      <td>T2</td>\n",
       "    </tr>\n",
       "    <tr>\n",
       "      <th>26830</th>\n",
       "      <td>ID 026831</td>\n",
       "      <td>oBnJLra</td>\n",
       "      <td>T2</td>\n",
       "    </tr>\n",
       "    <tr>\n",
       "      <th>26831</th>\n",
       "      <td>ID 026832</td>\n",
       "      <td>kMekGpT</td>\n",
       "      <td>Q1</td>\n",
       "    </tr>\n",
       "  </tbody>\n",
       "</table>\n",
       "<p>26832 rows × 3 columns</p>\n",
       "</div>"
      ],
      "text/plain": [
       "             ID号      识别码  类别\n",
       "0      ID 000001  CRtXJUK  T1\n",
       "1      ID 000002  RGSxifC  Q1\n",
       "2      ID 000003  AboduTp  S1\n",
       "3      ID 000004  zlpUeMl  S2\n",
       "4      ID 000005  IVQqhIK  S3\n",
       "...          ...      ...  ..\n",
       "26827  ID 026828  RWVzlsn  S2\n",
       "26828  ID 026829  GetBGJp  T1\n",
       "26829  ID 026830  AXOfdqd  T2\n",
       "26830  ID 026831  oBnJLra  T2\n",
       "26831  ID 026832  kMekGpT  Q1\n",
       "\n",
       "[26832 rows x 3 columns]"
      ]
     },
     "execution_count": 421,
     "metadata": {},
     "output_type": "execute_result"
    }
   ],
   "source": [
    "df_info"
   ]
  },
  {
   "cell_type": "code",
   "execution_count": 447,
   "metadata": {
    "scrolled": true
   },
   "outputs": [
    {
     "data": {
      "text/html": [
       "<div>\n",
       "<style scoped>\n",
       "    .dataframe tbody tr th:only-of-type {\n",
       "        vertical-align: middle;\n",
       "    }\n",
       "\n",
       "    .dataframe tbody tr th {\n",
       "        vertical-align: top;\n",
       "    }\n",
       "\n",
       "    .dataframe thead th {\n",
       "        text-align: right;\n",
       "    }\n",
       "</style>\n",
       "<table border=\"1\" class=\"dataframe\">\n",
       "  <thead>\n",
       "    <tr style=\"text-align: right;\">\n",
       "      <th></th>\n",
       "      <th>ID号</th>\n",
       "      <th>申请人</th>\n",
       "      <th>申请时间</th>\n",
       "      <th>审核人</th>\n",
       "      <th>审核时间</th>\n",
       "      <th>结果</th>\n",
       "    </tr>\n",
       "  </thead>\n",
       "  <tbody>\n",
       "    <tr>\n",
       "      <th>0</th>\n",
       "      <td>ID 000001</td>\n",
       "      <td>\\#+3((52\\{</td>\n",
       "      <td>2020-04-19</td>\n",
       "      <td>~1=6\\*183|</td>\n",
       "      <td>2020-05-03</td>\n",
       "      <td>未通过</td>\n",
       "    </tr>\n",
       "    <tr>\n",
       "      <th>1</th>\n",
       "      <td>ID 000001</td>\n",
       "      <td>8@75[1|2\\*</td>\n",
       "      <td>2020-05-10</td>\n",
       "      <td>15![3\\({59</td>\n",
       "      <td>2020-07-17</td>\n",
       "      <td>未通过</td>\n",
       "    </tr>\n",
       "    <tr>\n",
       "      <th>2</th>\n",
       "      <td>ID 000001</td>\n",
       "      <td>}!7)(#^0*7</td>\n",
       "      <td>2020-07-28</td>\n",
       "      <td>3`}04}%@75</td>\n",
       "      <td>2020-08-23</td>\n",
       "      <td>通过</td>\n",
       "    </tr>\n",
       "    <tr>\n",
       "      <th>3</th>\n",
       "      <td>ID 000002</td>\n",
       "      <td>|*{20#9|}5</td>\n",
       "      <td>2020-01-05</td>\n",
       "      <td>={`8]03*4+</td>\n",
       "      <td>2020-03-09</td>\n",
       "      <td>未通过</td>\n",
       "    </tr>\n",
       "    <tr>\n",
       "      <th>4</th>\n",
       "      <td>ID 000002</td>\n",
       "      <td>4~6%)455`[</td>\n",
       "      <td>2020-03-14</td>\n",
       "      <td>=$-36[)|8]</td>\n",
       "      <td>2020-04-21</td>\n",
       "      <td>未通过</td>\n",
       "    </tr>\n",
       "    <tr>\n",
       "      <th>...</th>\n",
       "      <td>...</td>\n",
       "      <td>...</td>\n",
       "      <td>...</td>\n",
       "      <td>...</td>\n",
       "      <td>...</td>\n",
       "      <td>...</td>\n",
       "    </tr>\n",
       "    <tr>\n",
       "      <th>147495</th>\n",
       "      <td>ID 026832</td>\n",
       "      <td>-`$~=9+&amp;`)</td>\n",
       "      <td>2020-02-23</td>\n",
       "      <td>8`32#~-+)}</td>\n",
       "      <td>2020-03-19</td>\n",
       "      <td>未通过</td>\n",
       "    </tr>\n",
       "    <tr>\n",
       "      <th>147496</th>\n",
       "      <td>ID 026832</td>\n",
       "      <td>0()##{3!~~</td>\n",
       "      <td>2020-03-25</td>\n",
       "      <td>*0131$+7*$</td>\n",
       "      <td>2020-05-01</td>\n",
       "      <td>未通过</td>\n",
       "    </tr>\n",
       "    <tr>\n",
       "      <th>147497</th>\n",
       "      <td>ID 026832</td>\n",
       "      <td>|\\7`+7_2-|</td>\n",
       "      <td>2020-05-09</td>\n",
       "      <td>\\[=2\\|\\_1|</td>\n",
       "      <td>2020-05-12</td>\n",
       "      <td>未通过</td>\n",
       "    </tr>\n",
       "    <tr>\n",
       "      <th>147498</th>\n",
       "      <td>ID 026832</td>\n",
       "      <td>+97~|)]+7`</td>\n",
       "      <td>2020-05-13</td>\n",
       "      <td>~}!*494&amp;8`</td>\n",
       "      <td>2020-06-19</td>\n",
       "      <td>未通过</td>\n",
       "    </tr>\n",
       "    <tr>\n",
       "      <th>147499</th>\n",
       "      <td>ID 026832</td>\n",
       "      <td>431+!&amp;3]08</td>\n",
       "      <td>2020-06-27</td>\n",
       "      <td>}]]|_=8\\%0</td>\n",
       "      <td>2020-08-13</td>\n",
       "      <td>未通过</td>\n",
       "    </tr>\n",
       "  </tbody>\n",
       "</table>\n",
       "<p>147500 rows × 6 columns</p>\n",
       "</div>"
      ],
      "text/plain": [
       "              ID号         申请人        申请时间         审核人        审核时间   结果\n",
       "0       ID 000001  \\#+3((52\\{  2020-04-19  ~1=6\\*183|  2020-05-03  未通过\n",
       "1       ID 000001  8@75[1|2\\*  2020-05-10  15![3\\({59  2020-07-17  未通过\n",
       "2       ID 000001  }!7)(#^0*7  2020-07-28  3`}04}%@75  2020-08-23   通过\n",
       "3       ID 000002  |*{20#9|}5  2020-01-05  ={`8]03*4+  2020-03-09  未通过\n",
       "4       ID 000002  4~6%)455`[  2020-03-14  =$-36[)|8]  2020-04-21  未通过\n",
       "...           ...         ...         ...         ...         ...  ...\n",
       "147495  ID 026832  -`$~=9+&`)  2020-02-23  8`32#~-+)}  2020-03-19  未通过\n",
       "147496  ID 026832  0()##{3!~~  2020-03-25  *0131$+7*$  2020-05-01  未通过\n",
       "147497  ID 026832  |\\7`+7_2-|  2020-05-09  \\[=2\\|\\_1|  2020-05-12  未通过\n",
       "147498  ID 026832  +97~|)]+7`  2020-05-13  ~}!*494&8`  2020-06-19  未通过\n",
       "147499  ID 026832  431+!&3]08  2020-06-27  }]]|_=8\\%0  2020-08-13  未通过\n",
       "\n",
       "[147500 rows x 6 columns]"
      ]
     },
     "execution_count": 447,
     "metadata": {},
     "output_type": "execute_result"
    }
   ],
   "source": [
    "df_record"
   ]
  },
  {
   "cell_type": "code",
   "execution_count": 449,
   "metadata": {
    "scrolled": true
   },
   "outputs": [
    {
     "data": {
      "text/html": [
       "<div>\n",
       "<style scoped>\n",
       "    .dataframe tbody tr th:only-of-type {\n",
       "        vertical-align: middle;\n",
       "    }\n",
       "\n",
       "    .dataframe tbody tr th {\n",
       "        vertical-align: top;\n",
       "    }\n",
       "\n",
       "    .dataframe thead th {\n",
       "        text-align: right;\n",
       "    }\n",
       "</style>\n",
       "<table border=\"1\" class=\"dataframe\">\n",
       "  <thead>\n",
       "    <tr style=\"text-align: right;\">\n",
       "      <th></th>\n",
       "      <th>ID号</th>\n",
       "      <th>申请人</th>\n",
       "      <th>申请时间</th>\n",
       "      <th>审核人</th>\n",
       "      <th>审核时间</th>\n",
       "      <th>结果</th>\n",
       "      <th>识别码</th>\n",
       "      <th>类别</th>\n",
       "    </tr>\n",
       "  </thead>\n",
       "  <tbody>\n",
       "    <tr>\n",
       "      <th>0</th>\n",
       "      <td>ID 000001</td>\n",
       "      <td>\\#+3((52\\{</td>\n",
       "      <td>2020-04-19</td>\n",
       "      <td>~1=6\\*183|</td>\n",
       "      <td>2020-05-03</td>\n",
       "      <td>未通过</td>\n",
       "      <td>CRtXJUK</td>\n",
       "      <td>T1</td>\n",
       "    </tr>\n",
       "    <tr>\n",
       "      <th>1</th>\n",
       "      <td>ID 000001</td>\n",
       "      <td>8@75[1|2\\*</td>\n",
       "      <td>2020-05-10</td>\n",
       "      <td>15![3\\({59</td>\n",
       "      <td>2020-07-17</td>\n",
       "      <td>未通过</td>\n",
       "      <td>CRtXJUK</td>\n",
       "      <td>T1</td>\n",
       "    </tr>\n",
       "    <tr>\n",
       "      <th>2</th>\n",
       "      <td>ID 000001</td>\n",
       "      <td>}!7)(#^0*7</td>\n",
       "      <td>2020-07-28</td>\n",
       "      <td>3`}04}%@75</td>\n",
       "      <td>2020-08-23</td>\n",
       "      <td>通过</td>\n",
       "      <td>CRtXJUK</td>\n",
       "      <td>T1</td>\n",
       "    </tr>\n",
       "    <tr>\n",
       "      <th>3</th>\n",
       "      <td>ID 000002</td>\n",
       "      <td>|*{20#9|}5</td>\n",
       "      <td>2020-01-05</td>\n",
       "      <td>={`8]03*4+</td>\n",
       "      <td>2020-03-09</td>\n",
       "      <td>未通过</td>\n",
       "      <td>RGSxifC</td>\n",
       "      <td>Q1</td>\n",
       "    </tr>\n",
       "    <tr>\n",
       "      <th>4</th>\n",
       "      <td>ID 000002</td>\n",
       "      <td>4~6%)455`[</td>\n",
       "      <td>2020-03-14</td>\n",
       "      <td>=$-36[)|8]</td>\n",
       "      <td>2020-04-21</td>\n",
       "      <td>未通过</td>\n",
       "      <td>RGSxifC</td>\n",
       "      <td>Q1</td>\n",
       "    </tr>\n",
       "    <tr>\n",
       "      <th>...</th>\n",
       "      <td>...</td>\n",
       "      <td>...</td>\n",
       "      <td>...</td>\n",
       "      <td>...</td>\n",
       "      <td>...</td>\n",
       "      <td>...</td>\n",
       "      <td>...</td>\n",
       "      <td>...</td>\n",
       "    </tr>\n",
       "    <tr>\n",
       "      <th>147495</th>\n",
       "      <td>ID 026832</td>\n",
       "      <td>-`$~=9+&amp;`)</td>\n",
       "      <td>2020-02-23</td>\n",
       "      <td>8`32#~-+)}</td>\n",
       "      <td>2020-03-19</td>\n",
       "      <td>未通过</td>\n",
       "      <td>kMekGpT</td>\n",
       "      <td>Q1</td>\n",
       "    </tr>\n",
       "    <tr>\n",
       "      <th>147496</th>\n",
       "      <td>ID 026832</td>\n",
       "      <td>0()##{3!~~</td>\n",
       "      <td>2020-03-25</td>\n",
       "      <td>*0131$+7*$</td>\n",
       "      <td>2020-05-01</td>\n",
       "      <td>未通过</td>\n",
       "      <td>kMekGpT</td>\n",
       "      <td>Q1</td>\n",
       "    </tr>\n",
       "    <tr>\n",
       "      <th>147497</th>\n",
       "      <td>ID 026832</td>\n",
       "      <td>|\\7`+7_2-|</td>\n",
       "      <td>2020-05-09</td>\n",
       "      <td>\\[=2\\|\\_1|</td>\n",
       "      <td>2020-05-12</td>\n",
       "      <td>未通过</td>\n",
       "      <td>kMekGpT</td>\n",
       "      <td>Q1</td>\n",
       "    </tr>\n",
       "    <tr>\n",
       "      <th>147498</th>\n",
       "      <td>ID 026832</td>\n",
       "      <td>+97~|)]+7`</td>\n",
       "      <td>2020-05-13</td>\n",
       "      <td>~}!*494&amp;8`</td>\n",
       "      <td>2020-06-19</td>\n",
       "      <td>未通过</td>\n",
       "      <td>kMekGpT</td>\n",
       "      <td>Q1</td>\n",
       "    </tr>\n",
       "    <tr>\n",
       "      <th>147499</th>\n",
       "      <td>ID 026832</td>\n",
       "      <td>431+!&amp;3]08</td>\n",
       "      <td>2020-06-27</td>\n",
       "      <td>}]]|_=8\\%0</td>\n",
       "      <td>2020-08-13</td>\n",
       "      <td>未通过</td>\n",
       "      <td>kMekGpT</td>\n",
       "      <td>Q1</td>\n",
       "    </tr>\n",
       "  </tbody>\n",
       "</table>\n",
       "<p>147500 rows × 8 columns</p>\n",
       "</div>"
      ],
      "text/plain": [
       "              ID号         申请人        申请时间         审核人        审核时间   结果  \\\n",
       "0       ID 000001  \\#+3((52\\{  2020-04-19  ~1=6\\*183|  2020-05-03  未通过   \n",
       "1       ID 000001  8@75[1|2\\*  2020-05-10  15![3\\({59  2020-07-17  未通过   \n",
       "2       ID 000001  }!7)(#^0*7  2020-07-28  3`}04}%@75  2020-08-23   通过   \n",
       "3       ID 000002  |*{20#9|}5  2020-01-05  ={`8]03*4+  2020-03-09  未通过   \n",
       "4       ID 000002  4~6%)455`[  2020-03-14  =$-36[)|8]  2020-04-21  未通过   \n",
       "...           ...         ...         ...         ...         ...  ...   \n",
       "147495  ID 026832  -`$~=9+&`)  2020-02-23  8`32#~-+)}  2020-03-19  未通过   \n",
       "147496  ID 026832  0()##{3!~~  2020-03-25  *0131$+7*$  2020-05-01  未通过   \n",
       "147497  ID 026832  |\\7`+7_2-|  2020-05-09  \\[=2\\|\\_1|  2020-05-12  未通过   \n",
       "147498  ID 026832  +97~|)]+7`  2020-05-13  ~}!*494&8`  2020-06-19  未通过   \n",
       "147499  ID 026832  431+!&3]08  2020-06-27  }]]|_=8\\%0  2020-08-13  未通过   \n",
       "\n",
       "            识别码  类别  \n",
       "0       CRtXJUK  T1  \n",
       "1       CRtXJUK  T1  \n",
       "2       CRtXJUK  T1  \n",
       "3       RGSxifC  Q1  \n",
       "4       RGSxifC  Q1  \n",
       "...         ...  ..  \n",
       "147495  kMekGpT  Q1  \n",
       "147496  kMekGpT  Q1  \n",
       "147497  kMekGpT  Q1  \n",
       "147498  kMekGpT  Q1  \n",
       "147499  kMekGpT  Q1  \n",
       "\n",
       "[147500 rows x 8 columns]"
      ]
     },
     "execution_count": 449,
     "metadata": {},
     "output_type": "execute_result"
    }
   ],
   "source": [
    "df1 = df_record.merge(df_info, on='ID号', how='left')#左连接\n",
    "df1"
   ]
  },
  {
   "cell_type": "code",
   "execution_count": 482,
   "metadata": {
    "scrolled": true
   },
   "outputs": [
    {
     "data": {
      "text/plain": [
       "类别  结果 \n",
       "Q1  未通过    19153\n",
       "    通过      1494\n",
       "Q2  未通过    20010\n",
       "    通过      1613\n",
       "S1  未通过    19552\n",
       "    通过      1538\n",
       "S2  未通过    19162\n",
       "    通过      1548\n",
       "S3  未通过    19529\n",
       "    通过      1582\n",
       "T1  未通过    19324\n",
       "    通过      1509\n",
       "T2  未通过    19922\n",
       "    通过      1564\n",
       "dtype: int64"
      ]
     },
     "execution_count": 482,
     "metadata": {},
     "output_type": "execute_result"
    }
   ],
   "source": [
    "gb = df1.groupby(['类别','结果'])\n",
    "r1 = gb.size()\n",
    "r1"
   ]
  },
  {
   "cell_type": "code",
   "execution_count": 483,
   "metadata": {
    "scrolled": true
   },
   "outputs": [
    {
     "data": {
      "text/plain": [
       "类别\n",
       "Q1    20647\n",
       "Q2    21623\n",
       "S1    21090\n",
       "S2    20710\n",
       "S3    21111\n",
       "T1    20833\n",
       "T2    21486\n",
       "dtype: int64"
      ]
     },
     "execution_count": 483,
     "metadata": {},
     "output_type": "execute_result"
    }
   ],
   "source": [
    "gb2 = df1.groupby(['类别'])\n",
    "r2 = gb2.size()\n",
    "r2"
   ]
  },
  {
   "cell_type": "code",
   "execution_count": null,
   "metadata": {},
   "outputs": [],
   "source": []
  },
  {
   "cell_type": "code",
   "execution_count": null,
   "metadata": {},
   "outputs": [],
   "source": []
  },
  {
   "cell_type": "markdown",
   "metadata": {},
   "source": [
    "### 3、\n",
    "对于类别为“T1”且最终状态为通过的商品，平均审核次数为多少？\n"
   ]
  },
  {
   "cell_type": "code",
   "execution_count": 484,
   "metadata": {
    "scrolled": true
   },
   "outputs": [
    {
     "data": {
      "text/html": [
       "<div>\n",
       "<style scoped>\n",
       "    .dataframe tbody tr th:only-of-type {\n",
       "        vertical-align: middle;\n",
       "    }\n",
       "\n",
       "    .dataframe tbody tr th {\n",
       "        vertical-align: top;\n",
       "    }\n",
       "\n",
       "    .dataframe thead th {\n",
       "        text-align: right;\n",
       "    }\n",
       "</style>\n",
       "<table border=\"1\" class=\"dataframe\">\n",
       "  <thead>\n",
       "    <tr style=\"text-align: right;\">\n",
       "      <th></th>\n",
       "      <th>ID号</th>\n",
       "      <th>申请人</th>\n",
       "      <th>申请时间</th>\n",
       "      <th>审核人</th>\n",
       "      <th>审核时间</th>\n",
       "      <th>结果</th>\n",
       "      <th>识别码</th>\n",
       "      <th>类别</th>\n",
       "    </tr>\n",
       "  </thead>\n",
       "  <tbody>\n",
       "    <tr>\n",
       "      <th>0</th>\n",
       "      <td>ID 000001</td>\n",
       "      <td>\\#+3((52\\{</td>\n",
       "      <td>2020-04-19</td>\n",
       "      <td>~1=6\\*183|</td>\n",
       "      <td>2020-05-03</td>\n",
       "      <td>未通过</td>\n",
       "      <td>CRtXJUK</td>\n",
       "      <td>T1</td>\n",
       "    </tr>\n",
       "    <tr>\n",
       "      <th>1</th>\n",
       "      <td>ID 000001</td>\n",
       "      <td>8@75[1|2\\*</td>\n",
       "      <td>2020-05-10</td>\n",
       "      <td>15![3\\({59</td>\n",
       "      <td>2020-07-17</td>\n",
       "      <td>未通过</td>\n",
       "      <td>CRtXJUK</td>\n",
       "      <td>T1</td>\n",
       "    </tr>\n",
       "    <tr>\n",
       "      <th>2</th>\n",
       "      <td>ID 000001</td>\n",
       "      <td>}!7)(#^0*7</td>\n",
       "      <td>2020-07-28</td>\n",
       "      <td>3`}04}%@75</td>\n",
       "      <td>2020-08-23</td>\n",
       "      <td>通过</td>\n",
       "      <td>CRtXJUK</td>\n",
       "      <td>T1</td>\n",
       "    </tr>\n",
       "    <tr>\n",
       "      <th>3</th>\n",
       "      <td>ID 000002</td>\n",
       "      <td>|*{20#9|}5</td>\n",
       "      <td>2020-01-05</td>\n",
       "      <td>={`8]03*4+</td>\n",
       "      <td>2020-03-09</td>\n",
       "      <td>未通过</td>\n",
       "      <td>RGSxifC</td>\n",
       "      <td>Q1</td>\n",
       "    </tr>\n",
       "    <tr>\n",
       "      <th>4</th>\n",
       "      <td>ID 000002</td>\n",
       "      <td>4~6%)455`[</td>\n",
       "      <td>2020-03-14</td>\n",
       "      <td>=$-36[)|8]</td>\n",
       "      <td>2020-04-21</td>\n",
       "      <td>未通过</td>\n",
       "      <td>RGSxifC</td>\n",
       "      <td>Q1</td>\n",
       "    </tr>\n",
       "    <tr>\n",
       "      <th>...</th>\n",
       "      <td>...</td>\n",
       "      <td>...</td>\n",
       "      <td>...</td>\n",
       "      <td>...</td>\n",
       "      <td>...</td>\n",
       "      <td>...</td>\n",
       "      <td>...</td>\n",
       "      <td>...</td>\n",
       "    </tr>\n",
       "    <tr>\n",
       "      <th>147495</th>\n",
       "      <td>ID 026832</td>\n",
       "      <td>-`$~=9+&amp;`)</td>\n",
       "      <td>2020-02-23</td>\n",
       "      <td>8`32#~-+)}</td>\n",
       "      <td>2020-03-19</td>\n",
       "      <td>未通过</td>\n",
       "      <td>kMekGpT</td>\n",
       "      <td>Q1</td>\n",
       "    </tr>\n",
       "    <tr>\n",
       "      <th>147496</th>\n",
       "      <td>ID 026832</td>\n",
       "      <td>0()##{3!~~</td>\n",
       "      <td>2020-03-25</td>\n",
       "      <td>*0131$+7*$</td>\n",
       "      <td>2020-05-01</td>\n",
       "      <td>未通过</td>\n",
       "      <td>kMekGpT</td>\n",
       "      <td>Q1</td>\n",
       "    </tr>\n",
       "    <tr>\n",
       "      <th>147497</th>\n",
       "      <td>ID 026832</td>\n",
       "      <td>|\\7`+7_2-|</td>\n",
       "      <td>2020-05-09</td>\n",
       "      <td>\\[=2\\|\\_1|</td>\n",
       "      <td>2020-05-12</td>\n",
       "      <td>未通过</td>\n",
       "      <td>kMekGpT</td>\n",
       "      <td>Q1</td>\n",
       "    </tr>\n",
       "    <tr>\n",
       "      <th>147498</th>\n",
       "      <td>ID 026832</td>\n",
       "      <td>+97~|)]+7`</td>\n",
       "      <td>2020-05-13</td>\n",
       "      <td>~}!*494&amp;8`</td>\n",
       "      <td>2020-06-19</td>\n",
       "      <td>未通过</td>\n",
       "      <td>kMekGpT</td>\n",
       "      <td>Q1</td>\n",
       "    </tr>\n",
       "    <tr>\n",
       "      <th>147499</th>\n",
       "      <td>ID 026832</td>\n",
       "      <td>431+!&amp;3]08</td>\n",
       "      <td>2020-06-27</td>\n",
       "      <td>}]]|_=8\\%0</td>\n",
       "      <td>2020-08-13</td>\n",
       "      <td>未通过</td>\n",
       "      <td>kMekGpT</td>\n",
       "      <td>Q1</td>\n",
       "    </tr>\n",
       "  </tbody>\n",
       "</table>\n",
       "<p>147500 rows × 8 columns</p>\n",
       "</div>"
      ],
      "text/plain": [
       "              ID号         申请人        申请时间         审核人        审核时间   结果  \\\n",
       "0       ID 000001  \\#+3((52\\{  2020-04-19  ~1=6\\*183|  2020-05-03  未通过   \n",
       "1       ID 000001  8@75[1|2\\*  2020-05-10  15![3\\({59  2020-07-17  未通过   \n",
       "2       ID 000001  }!7)(#^0*7  2020-07-28  3`}04}%@75  2020-08-23   通过   \n",
       "3       ID 000002  |*{20#9|}5  2020-01-05  ={`8]03*4+  2020-03-09  未通过   \n",
       "4       ID 000002  4~6%)455`[  2020-03-14  =$-36[)|8]  2020-04-21  未通过   \n",
       "...           ...         ...         ...         ...         ...  ...   \n",
       "147495  ID 026832  -`$~=9+&`)  2020-02-23  8`32#~-+)}  2020-03-19  未通过   \n",
       "147496  ID 026832  0()##{3!~~  2020-03-25  *0131$+7*$  2020-05-01  未通过   \n",
       "147497  ID 026832  |\\7`+7_2-|  2020-05-09  \\[=2\\|\\_1|  2020-05-12  未通过   \n",
       "147498  ID 026832  +97~|)]+7`  2020-05-13  ~}!*494&8`  2020-06-19  未通过   \n",
       "147499  ID 026832  431+!&3]08  2020-06-27  }]]|_=8\\%0  2020-08-13  未通过   \n",
       "\n",
       "            识别码  类别  \n",
       "0       CRtXJUK  T1  \n",
       "1       CRtXJUK  T1  \n",
       "2       CRtXJUK  T1  \n",
       "3       RGSxifC  Q1  \n",
       "4       RGSxifC  Q1  \n",
       "...         ...  ..  \n",
       "147495  kMekGpT  Q1  \n",
       "147496  kMekGpT  Q1  \n",
       "147497  kMekGpT  Q1  \n",
       "147498  kMekGpT  Q1  \n",
       "147499  kMekGpT  Q1  \n",
       "\n",
       "[147500 rows x 8 columns]"
      ]
     },
     "execution_count": 484,
     "metadata": {},
     "output_type": "execute_result"
    }
   ],
   "source": [
    "df1"
   ]
  },
  {
   "cell_type": "code",
   "execution_count": null,
   "metadata": {},
   "outputs": [],
   "source": []
  },
  {
   "cell_type": "code",
   "execution_count": null,
   "metadata": {},
   "outputs": [],
   "source": []
  },
  {
   "cell_type": "markdown",
   "metadata": {},
   "source": [
    "### 4、\n",
    "是否存在商品在上一次审核未完成时就提交了下一次审核申请？\n"
   ]
  },
  {
   "cell_type": "code",
   "execution_count": null,
   "metadata": {},
   "outputs": [],
   "source": []
  },
  {
   "cell_type": "code",
   "execution_count": null,
   "metadata": {},
   "outputs": [],
   "source": []
  },
  {
   "cell_type": "markdown",
   "metadata": {},
   "source": [
    "### 5、\n",
    "请对所有审核通过的商品统计第一位申请人和最后一位审核人的信息，返回格式如下："
   ]
  },
  {
   "cell_type": "code",
   "execution_count": null,
   "metadata": {},
   "outputs": [],
   "source": [
    "pd.DataFrame(\n",
    "    {\n",
    "        \"ID号\": [\"ID 000001\"]+[\"...\"]*3,\n",
    "        \"类别\":[\"T1\"]+[\"...\"]*3,\n",
    "        \"申请人\":[\"\\#+3((52\\{\"]+[\"...\"]*3,\n",
    "        \"审核人\":[\"3`}04}%@75\"]+[\"...\"]*3\n",
    "    },\n",
    "    index=[1,2,3,\"...\"]\n",
    ")"
   ]
  },
  {
   "cell_type": "markdown",
   "metadata": {},
   "source": [
    "###### 提示\n",
    "groupby对象上也定义了head和tail方法。"
   ]
  },
  {
   "cell_type": "code",
   "execution_count": null,
   "metadata": {},
   "outputs": [],
   "source": []
  }
 ],
 "metadata": {
  "kernelspec": {
   "display_name": "Python 3",
   "language": "python",
   "name": "python3"
  },
  "language_info": {
   "codemirror_mode": {
    "name": "ipython",
    "version": 3
   },
   "file_extension": ".py",
   "mimetype": "text/x-python",
   "name": "python",
   "nbconvert_exporter": "python",
   "pygments_lexer": "ipython3",
   "version": "3.8.5"
  }
 },
 "nbformat": 4,
 "nbformat_minor": 4
}
