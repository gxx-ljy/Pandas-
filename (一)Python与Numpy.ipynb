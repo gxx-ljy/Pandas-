{
 "cells": [
  {
   "cell_type": "markdown",
   "metadata": {},
   "source": [
    "目录\n",
    "\n",
    "一、Python基础\n",
    "\n",
    "- 列表与推导式\n",
    "- 匿名函数与map  \n",
    "- zip与enumerate\n",
    "    \n",
    "二、Numpy\n",
    "\n",
    "- 数组的构造\n",
    "- - 疑问\n",
    "- 数组的变形与合并    \n",
    "- 数组的切片与索引\n",
    "- 常用函数\n",
    "- 广播机制\n",
    "- 向量与矩阵的计算"
   ]
  },
  {
   "cell_type": "markdown",
   "metadata": {},
   "source": [
    "# 一、Python基础"
   ]
  },
  {
   "cell_type": "markdown",
   "metadata": {},
   "source": [
    "## 1、列表与推导式"
   ]
  },
  {
   "cell_type": "code",
   "execution_count": 21,
   "metadata": {},
   "outputs": [
    {
     "name": "stdout",
     "output_type": "stream",
     "text": [
      "[0, 2, 4, 6, 8]\n",
      "[0, 2, 4, 6, 8]\n"
     ]
    }
   ],
   "source": [
    "#定义一个列表\n",
    "L = []\n",
    "\n",
    "#定义一个函数\n",
    "def my_func(x):\n",
    "    return 2 * x\n",
    "\n",
    "#使用append将数字序列添加到列表中\n",
    "#range代表0，1，2，3，4\n",
    "for i in range(5):\n",
    "    L.append(my_func(i))\n",
    "    \n",
    "#打印L\n",
    "print(L)\n",
    "\n",
    "#简化\n",
    "print([my_func(i) for i in range(5)])"
   ]
  },
  {
   "cell_type": "code",
   "execution_count": 25,
   "metadata": {},
   "outputs": [
    {
     "name": "stdout",
     "output_type": "stream",
     "text": [
      "['Mike likes apple', 'Mike likes banana', 'Amy likes apple', 'Amy likes banana']\n"
     ]
    }
   ],
   "source": [
    "#多层嵌套\n",
    "print([name + ' likes ' + fruit for name in ['Mike', 'Amy'] for fruit in ['apple', 'banana']])"
   ]
  },
  {
   "cell_type": "code",
   "execution_count": 28,
   "metadata": {},
   "outputs": [
    {
     "name": "stdout",
     "output_type": "stream",
     "text": [
      "cat\n",
      "cat\n"
     ]
    }
   ],
   "source": [
    "#if选择条件赋值\n",
    "value = 'cat' if 2 > 1 else 'dog'\n",
    "print(value)\n",
    "\n",
    "#等价\n",
    "a, b = 'cat', 'dog'\n",
    "condition = 2 > 1\n",
    "if condition:\n",
    "    value = a\n",
    "else:\n",
    "    value = b\n",
    "print(value)"
   ]
  },
  {
   "cell_type": "code",
   "execution_count": 29,
   "metadata": {},
   "outputs": [
    {
     "name": "stdout",
     "output_type": "stream",
     "text": [
      "[1, 2, 5, 5, 5]\n"
     ]
    }
   ],
   "source": [
    "#大于5的用5代替\n",
    "L = [1, 2, 5, 7, 9]\n",
    "print([i if i <= 5 else 5 for i in L])"
   ]
  },
  {
   "cell_type": "markdown",
   "metadata": {},
   "source": [
    "## 2、匿名函数与map方法"
   ]
  },
  {
   "cell_type": "code",
   "execution_count": 30,
   "metadata": {},
   "outputs": [
    {
     "name": "stdout",
     "output_type": "stream",
     "text": [
      "6\n",
      "3\n"
     ]
    }
   ],
   "source": [
    "#匿名函数\n",
    "my_func = lambda x: 2*x\n",
    "print(my_func(3))\n",
    "\n",
    "multi_para_func = lambda a, b: a + b\n",
    "print(multi_para_func(1, 2))"
   ]
  },
  {
   "cell_type": "code",
   "execution_count": 31,
   "metadata": {},
   "outputs": [
    {
     "name": "stdout",
     "output_type": "stream",
     "text": [
      "[0, 2, 4, 6, 8]\n"
     ]
    }
   ],
   "source": [
    "#不关心函数名字\n",
    "print([(lambda x: 2*x)(i) for i in range(5)])"
   ]
  },
  {
   "cell_type": "code",
   "execution_count": 34,
   "metadata": {},
   "outputs": [
    {
     "name": "stdout",
     "output_type": "stream",
     "text": [
      "<class 'map'>\n",
      "[0, 2, 4, 6, 8]\n"
     ]
    }
   ],
   "source": [
    "#使用map函数完成匿名函数的映射，返回值为map对象\n",
    "print( type(map(lambda x: 2*x, range(5))) )\n",
    "\n",
    "#转为list\n",
    "print( list(map(lambda x: 2*x, range(5))) )"
   ]
  },
  {
   "cell_type": "code",
   "execution_count": 35,
   "metadata": {},
   "outputs": [
    {
     "name": "stdout",
     "output_type": "stream",
     "text": [
      "['0_a', '1_b', '2_c', '3_d', '4_e']\n"
     ]
    }
   ],
   "source": [
    "#多个输入值的函数映射\n",
    "print(list(map(lambda x, y: str(x)+'_'+y, range(5), list('abcde'))))"
   ]
  },
  {
   "cell_type": "markdown",
   "metadata": {},
   "source": [
    "## 3、 zip对象与enumerate方法"
   ]
  },
  {
   "cell_type": "code",
   "execution_count": 39,
   "metadata": {},
   "outputs": [
    {
     "name": "stdout",
     "output_type": "stream",
     "text": [
      "[('a', 'd', 'h'), ('b', 'e', 'i'), ('c', 'f', 'j')] \n",
      "\n",
      "(('a', 'd', 'h'), ('b', 'e', 'i'), ('c', 'f', 'j')) \n",
      "\n",
      "a d h\n",
      "b e i\n",
      "c f j\n"
     ]
    }
   ],
   "source": [
    "#zip函数把多个可迭代对象打包成一个元组构成的可迭代对象，返回一个zip对象\n",
    "L1, L2, L3 = list('abc'), list('def'), list('hij')\n",
    "\n",
    "#通过tuple, list可以得到相应的打包结果\n",
    "print(list(zip(L1, L2, L3)),'\\n')\n",
    "print(tuple(zip(L1, L2, L3)),'\\n')\n",
    "\n",
    "#循环迭代\n",
    "for i, j, k in zip(L1, L2, L3):\n",
    "     print(i, j, k)"
   ]
  },
  {
   "cell_type": "code",
   "execution_count": 43,
   "metadata": {},
   "outputs": [
    {
     "name": "stdout",
     "output_type": "stream",
     "text": [
      "0 a\n",
      "1 b\n",
      "2 c\n",
      "3 d\n",
      "\n",
      "\n",
      "(0, 'a')\n",
      "(1, 'b')\n",
      "(2, 'c')\n",
      "(3, 'd')\n"
     ]
    }
   ],
   "source": [
    "#enumerate在迭代时绑定迭代元素的遍历序号：\n",
    "L = list('abcd')\n",
    "for index, value in enumerate(L):\n",
    "     print(index, value)\n",
    "\n",
    "print('\\n')\n",
    "for value in enumerate(L):\n",
    "     print(value)"
   ]
  },
  {
   "cell_type": "code",
   "execution_count": 44,
   "metadata": {},
   "outputs": [
    {
     "name": "stdout",
     "output_type": "stream",
     "text": [
      "0 a\n",
      "1 b\n",
      "2 c\n",
      "3 d\n"
     ]
    }
   ],
   "source": [
    "#用zip对象实现这个功能：\n",
    "for index, value in zip(range(len(L)), L):\n",
    "     print(index, value)"
   ]
  },
  {
   "cell_type": "code",
   "execution_count": 45,
   "metadata": {},
   "outputs": [
    {
     "name": "stdout",
     "output_type": "stream",
     "text": [
      "{'a': 'd', 'b': 'e', 'c': 'f'}\n"
     ]
    }
   ],
   "source": [
    "#对两个列表建立字典映射时，可以利用zip对象：\n",
    "print(dict(zip(L1, L2)))"
   ]
  },
  {
   "cell_type": "code",
   "execution_count": 47,
   "metadata": {},
   "outputs": [
    {
     "name": "stdout",
     "output_type": "stream",
     "text": [
      "[('a', 'd', 'h'), ('b', 'e', 'i'), ('c', 'f', 'j')]\n",
      "[('a', 'b', 'c'), ('d', 'e', 'f'), ('h', 'i', 'j')]\n"
     ]
    }
   ],
   "source": [
    "#压缩\n",
    "zipped = list(zip(L1, L2, L3))\n",
    "print(zipped)\n",
    "\n",
    "#前面加上*解压\n",
    "# 三个元组分别对应原来的列表\n",
    "print(list(zip(*zipped)))"
   ]
  },
  {
   "cell_type": "markdown",
   "metadata": {},
   "source": [
    "# 二、numpy基础"
   ]
  },
  {
   "cell_type": "markdown",
   "metadata": {},
   "source": [
    "## 1. np数组的构造"
   ]
  },
  {
   "cell_type": "code",
   "execution_count": 51,
   "metadata": {},
   "outputs": [
    {
     "name": "stdout",
     "output_type": "stream",
     "text": [
      "[1 2 3]\n"
     ]
    }
   ],
   "source": [
    "#通过array来构造：\n",
    "import numpy as np\n",
    "print(np.array([1,2,3]))"
   ]
  },
  {
   "cell_type": "code",
   "execution_count": 53,
   "metadata": {},
   "outputs": [
    {
     "name": "stdout",
     "output_type": "stream",
     "text": [
      "[1.         2.33333333 3.66666667 5.        ]\n",
      "[1 3]\n"
     ]
    }
   ],
   "source": [
    "#等差序列：np.linspace, np.arange\n",
    "print(np.linspace(1,5,4)) # 起始、终止（包含）、样本个数\n",
    "\n",
    "print(np.arange(1,5,2)) # 起始、终止（不包含）、步长"
   ]
  },
  {
   "cell_type": "code",
   "execution_count": 57,
   "metadata": {},
   "outputs": [
    {
     "name": "stdout",
     "output_type": "stream",
     "text": [
      "zero\n",
      " [[0. 0. 0.]\n",
      " [0. 0. 0.]]\n",
      "eye\n",
      " [[1. 0. 0.]\n",
      " [0. 1. 0.]\n",
      " [0. 0. 1.]]\n",
      "eye\n",
      " [[0. 1. 0.]\n",
      " [0. 0. 1.]\n",
      " [0. 0. 0.]]\n",
      "full\n",
      " [[10 10 10]\n",
      " [10 10 10]]\n",
      "full\n",
      " [[1 2 3]\n",
      " [1 2 3]]\n"
     ]
    }
   ],
   "source": [
    "#特殊矩阵：zeros, eye, full\n",
    "\n",
    "print('zero\\n',np.zeros((2,3))) # 维度大小:2行3列\n",
    "\n",
    "print('eye\\n',np.eye(3)) # 3*3的单位矩阵\n",
    "\n",
    "print('eye\\n',np.eye(3, k=1)) # 偏移主对角线1个单位的伪单位矩阵\n",
    "\n",
    "print('full\\n',np.full((2,3), 10)) # 2行3列，10表示填充数值\n",
    "\n",
    "print('full\\n',np.full((2,3), [1,2,3])) # 2行3列，每行填入相同的列表\n"
   ]
  },
  {
   "cell_type": "code",
   "execution_count": 58,
   "metadata": {},
   "outputs": [],
   "source": [
    "#随机矩阵：np.random"
   ]
  },
  {
   "cell_type": "code",
   "execution_count": 60,
   "metadata": {},
   "outputs": [
    {
     "data": {
      "text/plain": [
       "array([0.67364481, 0.44505125, 0.82345719])"
      ]
     },
     "execution_count": 60,
     "metadata": {},
     "output_type": "execute_result"
    }
   ],
   "source": [
    "#rand(x)：0-1均匀分布的随机数组\n",
    "np.random.rand(3) # 生成服从0-1均匀分布的三个随机数"
   ]
  },
  {
   "cell_type": "code",
   "execution_count": 61,
   "metadata": {},
   "outputs": [
    {
     "data": {
      "text/plain": [
       "array([[0.21122415, 0.32824675, 0.27073278],\n",
       "       [0.33321727, 0.62830276, 0.36453297],\n",
       "       [0.83589933, 0.22230049, 0.04559062]])"
      ]
     },
     "execution_count": 61,
     "metadata": {},
     "output_type": "execute_result"
    }
   ],
   "source": [
    "#rand(x,y)：标准正态的随机数组\n",
    "np.random.rand(3, 3) # 3行3列"
   ]
  },
  {
   "cell_type": "code",
   "execution_count": 71,
   "metadata": {},
   "outputs": [
    {
     "name": "stdout",
     "output_type": "stream",
     "text": [
      "[14.09501592  7.98098633  6.79740609]\n",
      "[ 9.95392228  9.53241604 12.54637615]\n"
     ]
    }
   ],
   "source": [
    "#区间a到b上的均匀分布\n",
    "a, b = 5, 15\n",
    "print((b - a) * np.random.rand(3) + a)\n",
    "\n",
    "#使用uniform函数\n",
    "print(np.random.uniform(5, 15, 3))"
   ]
  },
  {
   "cell_type": "code",
   "execution_count": 72,
   "metadata": {},
   "outputs": [
    {
     "data": {
      "text/plain": [
       "array([-0.01221442, -0.34035264,  1.74088235])"
      ]
     },
     "execution_count": 72,
     "metadata": {},
     "output_type": "execute_result"
    }
   ],
   "source": [
    "#randn生成了N(0,I)的标准正态分布：\n",
    "np.random.randn(3)"
   ]
  },
  {
   "cell_type": "code",
   "execution_count": 73,
   "metadata": {},
   "outputs": [
    {
     "data": {
      "text/plain": [
       "array([[ 0.31743304, -0.35421853],\n",
       "       [ 0.02254583, -0.62574491]])"
      ]
     },
     "execution_count": 73,
     "metadata": {},
     "output_type": "execute_result"
    }
   ],
   "source": [
    "np.random.randn(2, 2)"
   ]
  },
  {
   "cell_type": "code",
   "execution_count": 75,
   "metadata": {},
   "outputs": [
    {
     "name": "stdout",
     "output_type": "stream",
     "text": [
      "[ 0.71894969  3.00917229 -2.9243073 ]\n",
      "[-0.13612663  5.32875794  1.26449601]\n"
     ]
    }
   ],
   "source": [
    "#服从方差为𝜎2均值为𝜇的一元正态分布\n",
    "sigma, mu = 2.5, 3\n",
    "print(mu + np.random.randn(3) * sigma)\n",
    "\n",
    "#使用normal函数\n",
    "print(np.random.normal(3, 2.5, 3))"
   ]
  },
  {
   "cell_type": "code",
   "execution_count": 79,
   "metadata": {},
   "outputs": [
    {
     "name": "stdout",
     "output_type": "stream",
     "text": [
      "2\n",
      "[[11 12]\n",
      " [14  7]]\n"
     ]
    }
   ],
   "source": [
    "#randint：随机整数\n",
    "print(np.random.randint(3))\n",
    "\n",
    "#指定指定生成随机整数的最小值最大值（不包含）和维度大小：\n",
    "low, high, size = 5, 15, (2,2) # 生成5到14的随机整数\n",
    "print(np.random.randint(low, high, size))"
   ]
  },
  {
   "cell_type": "code",
   "execution_count": 85,
   "metadata": {},
   "outputs": [
    {
     "name": "stdout",
     "output_type": "stream",
     "text": [
      "0 \n",
      "\n",
      "['c' 'b'] \n",
      "\n",
      "[['c' 'c' 'd']\n",
      " ['c' 'c' 'c']\n",
      " ['c' 'a' 'd']]\n"
     ]
    }
   ],
   "source": [
    "#choice：随机列表抽样,默认抽取方式为有放回抽样\n",
    "print(np.random.choice(3),'\\n')\n",
    "\n",
    "#从给定的列表中，以一定概率和方式抽取结果\n",
    "my_list = ['a', 'b', 'c', 'd']\n",
    "print(np.random.choice(my_list, 2, replace=False, p=[0.1, 0.7, 0.1 ,0.1]),'\\n')\n",
    "\n",
    "#不指定概率时为均匀采样\n",
    "print(np.random.choice(my_list, (3,3)))"
   ]
  },
  {
   "cell_type": "code",
   "execution_count": 87,
   "metadata": {},
   "outputs": [
    {
     "name": "stdout",
     "output_type": "stream",
     "text": [
      "['c' 'd' 'b' 'a'] \n",
      "\n",
      "['c' 'd' 'a' 'b']\n"
     ]
    }
   ],
   "source": [
    "#打散原列表\n",
    "print(np.random.choice(my_list, 4, replace=False, p=[0.25, 0.25, 0.25, 0.25]),'\\n')\n",
    "\n",
    "#使用permutation函数\n",
    "print(np.random.permutation(my_list))"
   ]
  },
  {
   "cell_type": "code",
   "execution_count": 88,
   "metadata": {},
   "outputs": [
    {
     "data": {
      "text/plain": [
       "0.5488135039273248"
      ]
     },
     "execution_count": 88,
     "metadata": {},
     "output_type": "execute_result"
    }
   ],
   "source": [
    "#随机种子，固定随机数的输出结果：\n",
    "np.random.seed(0)\n",
    "np.random.rand()"
   ]
  },
  {
   "cell_type": "code",
   "execution_count": 89,
   "metadata": {},
   "outputs": [
    {
     "data": {
      "text/plain": [
       "0.5488135039273248"
      ]
     },
     "execution_count": 89,
     "metadata": {},
     "output_type": "execute_result"
    }
   ],
   "source": [
    "np.random.seed(0)\n",
    "np.random.rand()"
   ]
  },
  {
   "cell_type": "code",
   "execution_count": 90,
   "metadata": {},
   "outputs": [
    {
     "data": {
      "text/plain": [
       "0.417022004702574"
      ]
     },
     "execution_count": 90,
     "metadata": {},
     "output_type": "execute_result"
    }
   ],
   "source": [
    "np.random.seed(1)\n",
    "np.random.rand()"
   ]
  },
  {
   "cell_type": "code",
   "execution_count": 91,
   "metadata": {},
   "outputs": [
    {
     "data": {
      "text/plain": [
       "0.417022004702574"
      ]
     },
     "execution_count": 91,
     "metadata": {},
     "output_type": "execute_result"
    }
   ],
   "source": [
    "np.random.seed(1)\n",
    "np.random.rand()"
   ]
  },
  {
   "cell_type": "markdown",
   "metadata": {},
   "source": [
    "## 2. np数组的变形与合并"
   ]
  },
  {
   "cell_type": "code",
   "execution_count": 94,
   "metadata": {},
   "outputs": [
    {
     "name": "stdout",
     "output_type": "stream",
     "text": [
      "[[0. 0. 0.]\n",
      " [0. 0. 0.]] \n",
      "\n",
      "[[0. 0.]\n",
      " [0. 0.]\n",
      " [0. 0.]]\n"
     ]
    }
   ],
   "source": [
    "#转置：T\n",
    "print(np.zeros((2,3)),'\\n')\n",
    "print(np.zeros((2,3)).T)"
   ]
  },
  {
   "cell_type": "code",
   "execution_count": 97,
   "metadata": {},
   "outputs": [
    {
     "name": "stdout",
     "output_type": "stream",
     "text": [
      "[[0. 0. 0.]\n",
      " [0. 0. 0.]\n",
      " [0. 0. 0.]\n",
      " [0. 0. 0.]] \n",
      "\n",
      "[[0. 0. 0. 0. 0. 0.]\n",
      " [0. 0. 0. 0. 0. 0.]]\n"
     ]
    }
   ],
   "source": [
    "#二维数组\n",
    "#r_ 上下合并\n",
    "print(np.r_[np.zeros((2,3)),np.zeros((2,3))],'\\n')\n",
    "\n",
    "#c_ 左右合并\n",
    "print(np.c_[np.zeros((2,3)),np.zeros((2,3))])"
   ]
  },
  {
   "cell_type": "code",
   "execution_count": 111,
   "metadata": {},
   "outputs": [
    {
     "name": "stdout",
     "output_type": "stream",
     "text": [
      "all the input arrays must have same number of dimensions, but the array at index 0 has 1 dimension(s) and the array at index 1 has 2 dimension(s) \n",
      "\n"
     ]
    }
   ],
   "source": [
    "#一维数组和二维数组进行合并时，应当把其视作列向量，在长度匹配的情况下只能够使用左右合并的c_操作：\n",
    "try:\n",
    "     np.r_[np.array([0,0]),np.zeros((2,1))]\n",
    "except Exception as e:\n",
    "     Err_Msg = e\n",
    "print(Err_Msg,'\\n')"
   ]
  },
  {
   "cell_type": "code",
   "execution_count": 117,
   "metadata": {},
   "outputs": [
    {
     "name": "stdout",
     "output_type": "stream",
     "text": [
      "[0 0] \n",
      "\n",
      "[0. 0.] \n",
      "\n",
      "[0. 0. 0. 0.] \n",
      "\n",
      "[[0. 0.]\n",
      " [0. 0.]] \n",
      "\n"
     ]
    }
   ],
   "source": [
    "print(np.array([0,0]),'\\n')\n",
    "\n",
    "print(np.zeros(2),'\\n')\n",
    "\n",
    "print(np.r_[np.array([0,0]),np.zeros(2)],'\\n')\n",
    "\n",
    "print(np.c_[np.array([0,0]),np.zeros(2)],'\\n')"
   ]
  },
  {
   "cell_type": "code",
   "execution_count": 115,
   "metadata": {},
   "outputs": [
    {
     "name": "stdout",
     "output_type": "stream",
     "text": [
      "[0 0] \n",
      "\n",
      "[[0. 0. 0.]\n",
      " [0. 0. 0.]] \n",
      "\n",
      "[[0. 0. 0. 0.]\n",
      " [0. 0. 0. 0.]]\n"
     ]
    }
   ],
   "source": [
    "print(np.array([0,0]),'\\n')\n",
    "\n",
    "print(np.zeros((2,3)),'\\n')\n",
    "\n",
    "print(np.c_[np.array([0,0]),np.zeros((2,3))])"
   ]
  },
  {
   "cell_type": "code",
   "execution_count": 116,
   "metadata": {},
   "outputs": [
    {
     "ename": "ValueError",
     "evalue": "all the input arrays must have same number of dimensions, but the array at index 0 has 1 dimension(s) and the array at index 1 has 2 dimension(s)",
     "output_type": "error",
     "traceback": [
      "\u001b[1;31m---------------------------------------------------------------------------\u001b[0m",
      "\u001b[1;31mValueError\u001b[0m                                Traceback (most recent call last)",
      "\u001b[1;32m<ipython-input-116-345c9158cff8>\u001b[0m in \u001b[0;36m<module>\u001b[1;34m\u001b[0m\n\u001b[1;32m----> 1\u001b[1;33m \u001b[0mprint\u001b[0m\u001b[1;33m(\u001b[0m\u001b[0mnp\u001b[0m\u001b[1;33m.\u001b[0m\u001b[0mr_\u001b[0m\u001b[1;33m[\u001b[0m\u001b[0mnp\u001b[0m\u001b[1;33m.\u001b[0m\u001b[0marray\u001b[0m\u001b[1;33m(\u001b[0m\u001b[1;33m[\u001b[0m\u001b[1;36m0\u001b[0m\u001b[1;33m,\u001b[0m\u001b[1;36m0\u001b[0m\u001b[1;33m]\u001b[0m\u001b[1;33m)\u001b[0m\u001b[1;33m,\u001b[0m\u001b[0mnp\u001b[0m\u001b[1;33m.\u001b[0m\u001b[0mzeros\u001b[0m\u001b[1;33m(\u001b[0m\u001b[1;33m(\u001b[0m\u001b[1;36m2\u001b[0m\u001b[1;33m,\u001b[0m\u001b[1;36m3\u001b[0m\u001b[1;33m)\u001b[0m\u001b[1;33m)\u001b[0m\u001b[1;33m]\u001b[0m\u001b[1;33m)\u001b[0m\u001b[1;33m\u001b[0m\u001b[1;33m\u001b[0m\u001b[0m\n\u001b[0m",
      "\u001b[1;32m~\\anaconda3\\lib\\site-packages\\numpy\\lib\\index_tricks.py\u001b[0m in \u001b[0;36m__getitem__\u001b[1;34m(self, key)\u001b[0m\n\u001b[0;32m    404\u001b[0m                 \u001b[0mobjs\u001b[0m\u001b[1;33m[\u001b[0m\u001b[0mk\u001b[0m\u001b[1;33m]\u001b[0m \u001b[1;33m=\u001b[0m \u001b[0mobjs\u001b[0m\u001b[1;33m[\u001b[0m\u001b[0mk\u001b[0m\u001b[1;33m]\u001b[0m\u001b[1;33m.\u001b[0m\u001b[0mastype\u001b[0m\u001b[1;33m(\u001b[0m\u001b[0mfinal_dtype\u001b[0m\u001b[1;33m)\u001b[0m\u001b[1;33m\u001b[0m\u001b[1;33m\u001b[0m\u001b[0m\n\u001b[0;32m    405\u001b[0m \u001b[1;33m\u001b[0m\u001b[0m\n\u001b[1;32m--> 406\u001b[1;33m         \u001b[0mres\u001b[0m \u001b[1;33m=\u001b[0m \u001b[0mself\u001b[0m\u001b[1;33m.\u001b[0m\u001b[0mconcatenate\u001b[0m\u001b[1;33m(\u001b[0m\u001b[0mtuple\u001b[0m\u001b[1;33m(\u001b[0m\u001b[0mobjs\u001b[0m\u001b[1;33m)\u001b[0m\u001b[1;33m,\u001b[0m \u001b[0maxis\u001b[0m\u001b[1;33m=\u001b[0m\u001b[0maxis\u001b[0m\u001b[1;33m)\u001b[0m\u001b[1;33m\u001b[0m\u001b[1;33m\u001b[0m\u001b[0m\n\u001b[0m\u001b[0;32m    407\u001b[0m \u001b[1;33m\u001b[0m\u001b[0m\n\u001b[0;32m    408\u001b[0m         \u001b[1;32mif\u001b[0m \u001b[0mmatrix\u001b[0m\u001b[1;33m:\u001b[0m\u001b[1;33m\u001b[0m\u001b[1;33m\u001b[0m\u001b[0m\n",
      "\u001b[1;32m<__array_function__ internals>\u001b[0m in \u001b[0;36mconcatenate\u001b[1;34m(*args, **kwargs)\u001b[0m\n",
      "\u001b[1;31mValueError\u001b[0m: all the input arrays must have same number of dimensions, but the array at index 0 has 1 dimension(s) and the array at index 1 has 2 dimension(s)"
     ]
    }
   ],
   "source": [
    "print(np.r_[np.array([0,0]),np.zeros((2,3))])"
   ]
  },
  {
   "cell_type": "markdown",
   "metadata": {},
   "source": [
    "# 疑问"
   ]
  },
  {
   "cell_type": "code",
   "execution_count": 127,
   "metadata": {},
   "outputs": [
    {
     "name": "stdout",
     "output_type": "stream",
     "text": [
      "[[0. 0.]\n",
      " [0. 0.]] \n",
      "\n",
      "[0. 0. 0. 0.]\n"
     ]
    }
   ],
   "source": [
    "#r_ 上下合并\n",
    "print(np.r_[np.zeros((1,2)),np.zeros((1,2))],'\\n')\n",
    "\n",
    "print(np.r_[np.array([0,0]),np.zeros(2)])"
   ]
  },
  {
   "cell_type": "code",
   "execution_count": 129,
   "metadata": {},
   "outputs": [
    {
     "name": "stdout",
     "output_type": "stream",
     "text": [
      "[[0. 0. 0. 0.]] \n",
      "\n",
      "[[0. 0.]\n",
      " [0. 0.]]\n"
     ]
    }
   ],
   "source": [
    "#c_ 左右合并\n",
    "print(np.c_[np.zeros((1,2)),np.zeros((1,2))],'\\n')\n",
    "\n",
    "print(np.c_[np.array([0,0]),np.zeros(2)])"
   ]
  },
  {
   "cell_type": "code",
   "execution_count": 135,
   "metadata": {},
   "outputs": [
    {
     "data": {
      "text/plain": [
       "(1, 2)"
      ]
     },
     "execution_count": 135,
     "metadata": {},
     "output_type": "execute_result"
    }
   ],
   "source": [
    "np.zeros((1,2)).shape"
   ]
  },
  {
   "cell_type": "code",
   "execution_count": 176,
   "metadata": {},
   "outputs": [
    {
     "name": "stdout",
     "output_type": "stream",
     "text": [
      "[0 0] \n",
      " [0. 0.]\n"
     ]
    }
   ],
   "source": [
    "#长得像行向量的列向量\n",
    "print(np.array([0,0]),'\\n',np.zeros(2))"
   ]
  },
  {
   "cell_type": "code",
   "execution_count": 136,
   "metadata": {},
   "outputs": [
    {
     "data": {
      "text/plain": [
       "(2,)"
      ]
     },
     "execution_count": 136,
     "metadata": {},
     "output_type": "execute_result"
    }
   ],
   "source": [
    "np.array([0,0]).shape"
   ]
  },
  {
   "cell_type": "code",
   "execution_count": 137,
   "metadata": {},
   "outputs": [
    {
     "data": {
      "text/plain": [
       "(2,)"
      ]
     },
     "execution_count": 137,
     "metadata": {},
     "output_type": "execute_result"
    }
   ],
   "source": [
    "np.zeros(2).shape"
   ]
  },
  {
   "cell_type": "code",
   "execution_count": 175,
   "metadata": {},
   "outputs": [
    {
     "data": {
      "text/plain": [
       "(4,)"
      ]
     },
     "execution_count": 175,
     "metadata": {},
     "output_type": "execute_result"
    }
   ],
   "source": [
    "c = np.r_[np.array([0,0]),np.zeros(2)]\n",
    "c.shape"
   ]
  },
  {
   "cell_type": "markdown",
   "metadata": {},
   "source": [
    "![01](./01.jpg)"
   ]
  },
  {
   "cell_type": "code",
   "execution_count": null,
   "metadata": {},
   "outputs": [],
   "source": []
  },
  {
   "cell_type": "code",
   "execution_count": 140,
   "metadata": {},
   "outputs": [
    {
     "name": "stdout",
     "output_type": "stream",
     "text": [
      "[[0 1 2 3]\n",
      " [4 5 6 7]] \n",
      "\n",
      "[[0 1]\n",
      " [2 3]\n",
      " [4 5]\n",
      " [6 7]] \n",
      "\n",
      "[[0 2]\n",
      " [4 6]\n",
      " [1 3]\n",
      " [5 7]] \n",
      "\n",
      "[[0 1]\n",
      " [2 3]\n",
      " [4 5]\n",
      " [6 7]]\n"
     ]
    }
   ],
   "source": [
    "#维度变换：reshape:把原数组按照新的维度重新排列。\n",
    "\n",
    "target = np.arange(8).reshape(2,4)\n",
    "print(target,'\\n')\n",
    "\n",
    "#C模式,按照行读取和填充(默认)\n",
    "print(target.reshape((4,2), order='C'),'\\n') \n",
    "\n",
    "#F模式,按照列读取和填充\n",
    "print(target.reshape((4,2), order='F'),'\\n')\n",
    "\n",
    "#数组的大小是确定的，reshape允许有一个维度存在空缺，此时只需填充-1即可：\n",
    "print(target.reshape((4,-1)))"
   ]
  },
  {
   "cell_type": "code",
   "execution_count": 143,
   "metadata": {},
   "outputs": [
    {
     "name": "stdout",
     "output_type": "stream",
     "text": [
      "[[1.]\n",
      " [1.]\n",
      " [1.]] \n",
      "\n",
      "[1. 1. 1.]\n"
     ]
    }
   ],
   "source": [
    "#常用操作\n",
    "target = np.ones((3,1))\n",
    "print(target,'\\n')\n",
    "\n",
    "print(target.reshape(-1))"
   ]
  },
  {
   "cell_type": "markdown",
   "metadata": {},
   "source": [
    "## 3. np数组的切片与索引"
   ]
  },
  {
   "cell_type": "code",
   "execution_count": 147,
   "metadata": {},
   "outputs": [
    {
     "name": "stdout",
     "output_type": "stream",
     "text": [
      "[[0 1 2]\n",
      " [3 4 5]\n",
      " [6 7 8]] \n",
      "\n",
      "[[0 2]\n",
      " [3 5]] \n",
      "\n",
      "[[0 2]\n",
      " [6 8]] \n",
      "\n",
      "[[3 5]\n",
      " [6 8]] \n",
      "\n",
      "[0 2 4 6 8]\n"
     ]
    }
   ],
   "source": [
    "#数组的切片模式支持使用slice类型的start:end:step切片，还可以直接传入列表指定某个维度的索引进行切片：\n",
    "target = np.arange(9).reshape(3,3)\n",
    "print(target,'\\n')\n",
    "\n",
    "print(target[:-1, [0,2]],'\\n')\n",
    "\n",
    "#此外，还可以利用np.ix_在对应的维度上使用布尔索引，但此时不能使用slice切片：\n",
    "print(target[np.ix_([True, False, True], [True, False, True])],'\\n')\n",
    "\n",
    "print(target[np.ix_([1,2], [True, False, True])],'\\n')\n",
    "\n",
    "#当数组维度为1维时，可以直接进行布尔索引，而无需np.ix_：\n",
    "new = target.reshape(-1)\n",
    "print(new[new%2==0])"
   ]
  },
  {
   "cell_type": "markdown",
   "metadata": {},
   "source": [
    "## 4. 常用函数"
   ]
  },
  {
   "cell_type": "code",
   "execution_count": 149,
   "metadata": {},
   "outputs": [
    {
     "data": {
      "text/plain": [
       "array([5, 1, 5, 5])"
      ]
     },
     "execution_count": 149,
     "metadata": {},
     "output_type": "execute_result"
    }
   ],
   "source": [
    "#where: 指定满足条件与不满足条件位置对应的填充值：\n",
    "a = np.array([-1,1,-1,0])\n",
    "np.where(a>0, a, 5) # 对应位置为True时填充a对应元素，否则填充5"
   ]
  },
  {
   "cell_type": "code",
   "execution_count": 150,
   "metadata": {},
   "outputs": [
    {
     "name": "stdout",
     "output_type": "stream",
     "text": [
      "(array([0, 1, 3, 4, 5], dtype=int64),)\n",
      "4\n",
      "1\n"
     ]
    }
   ],
   "source": [
    "#返回索引\n",
    "#nonzero返回非零数的索\n",
    "a = np.array([-2,-5,0,1,3,-1])\n",
    "print(np.nonzero(a))\n",
    "\n",
    "#argmax返回最大值的索引\n",
    "print(a.argmax())\n",
    "\n",
    "#argmin返回最小值的索引：\n",
    "print(a.argmin())"
   ]
  },
  {
   "cell_type": "code",
   "execution_count": 151,
   "metadata": {},
   "outputs": [
    {
     "name": "stdout",
     "output_type": "stream",
     "text": [
      "True\n",
      "False\n"
     ]
    }
   ],
   "source": [
    "#any指当序列至少 存在一个 True或非零元素时返回True，否则返回False\n",
    "a = np.array([0,1])\n",
    "print(a.any())\n",
    "\n",
    "#all指当序列元素 全为 True或非零元素时返回True，否则返回False\n",
    "print(a.all())"
   ]
  },
  {
   "cell_type": "code",
   "execution_count": 153,
   "metadata": {},
   "outputs": [
    {
     "name": "stdout",
     "output_type": "stream",
     "text": [
      "[1 2 8]\n",
      "[1 3 7]\n",
      "[1 2]\n"
     ]
    }
   ],
   "source": [
    "#cumprod累乘函数\n",
    "a = np.array([1,2,4])\n",
    "print(a.cumprod())\n",
    "\n",
    "#cumsum累加函数\n",
    "print(a.cumsum())\n",
    "\n",
    "#diff表示和前一个元素做差，由于第一个元素为缺失值，因此在默认参数情况下，返回长度是原数组减1\n",
    "print(np.diff(a))"
   ]
  },
  {
   "cell_type": "code",
   "execution_count": 155,
   "metadata": {},
   "outputs": [
    {
     "name": "stdout",
     "output_type": "stream",
     "text": [
      "[0 1 2 3 4]\n",
      "4\n",
      "2.0\n"
     ]
    }
   ],
   "source": [
    "#统计函数\n",
    "#常用的统计函数包括max, min, mean, median, std, var, sum, quantile\n",
    "target = np.arange(5)\n",
    "print(target)\n",
    "\n",
    "print(target.max())\n",
    "\n",
    "#分位数计算是全局方法，因此不能通过array.quantile的方法调用：\n",
    "print(np.quantile(target, 0.5)) # 0.5分位数"
   ]
  },
  {
   "cell_type": "code",
   "execution_count": 157,
   "metadata": {},
   "outputs": [
    {
     "name": "stdout",
     "output_type": "stream",
     "text": [
      "[ 1.  2. nan]\n",
      "nan\n",
      "2.0\n",
      "1.5\n"
     ]
    }
   ],
   "source": [
    "target = np.array([1, 2, np.nan])\n",
    "print(target)\n",
    "\n",
    "#对于含有缺失值的数组，它们返回的结果也是缺失值\n",
    "print(target.max())\n",
    "\n",
    "#略过缺失值，必须使用nan*类型的函数\n",
    "print(np.nanmax(target))\n",
    "\n",
    "#上述的几个统计函数都有对应的nan*函数。\n",
    "print(np.nanquantile(target, 0.5))"
   ]
  },
  {
   "cell_type": "code",
   "execution_count": 158,
   "metadata": {},
   "outputs": [
    {
     "name": "stdout",
     "output_type": "stream",
     "text": [
      "[[ 11.66666667 -16.66666667]\n",
      " [-16.66666667  38.66666667]]\n",
      "[[ 1.         -0.78470603]\n",
      " [-0.78470603  1.        ]]\n"
     ]
    }
   ],
   "source": [
    "target1 = np.array([1,3,5,9])\n",
    "target2 = np.array([1,5,3,-9])\n",
    "\n",
    "#协方差cov\n",
    "print(np.cov(target1, target2),'\\n')\n",
    "\n",
    "#相关系数corrcoef\n",
    "print(np.corrcoef(target1, target2))"
   ]
  },
  {
   "cell_type": "code",
   "execution_count": 160,
   "metadata": {},
   "outputs": [
    {
     "name": "stdout",
     "output_type": "stream",
     "text": [
      "[[1 2 3]\n",
      " [4 5 6]\n",
      " [7 8 9]] \n",
      "\n",
      "[12 15 18] \n",
      "\n",
      "[ 6 15 24]\n"
     ]
    }
   ],
   "source": [
    "#axis参数，\n",
    "target = np.arange(1,10).reshape(3,-1)\n",
    "print(target,'\\n')\n",
    "\n",
    "#axis=0时，按列统计\n",
    "print(target.sum(0),'\\n')\n",
    "\n",
    "#axis=1时，按行统计\n",
    "print(target.sum(1))"
   ]
  },
  {
   "cell_type": "markdown",
   "metadata": {},
   "source": [
    "## 5. 广播机制"
   ]
  },
  {
   "cell_type": "code",
   "execution_count": 161,
   "metadata": {},
   "outputs": [
    {
     "name": "stdout",
     "output_type": "stream",
     "text": [
      "[[4. 4.]\n",
      " [4. 4.]]\n",
      "[[0.25 0.25]\n",
      " [0.25 0.25]]\n"
     ]
    }
   ],
   "source": [
    "#广播机制用于处理两个不同维度数组之间的操作\n",
    "\n",
    "#标量和数组的操作\n",
    "#标量会自动把大小扩充为数组大小，之后进行逐元素操作：\n",
    "\n",
    "res = 3 * np.ones((2,2)) + 1\n",
    "print(res)\n",
    "\n",
    "res = 1 / res\n",
    "print(res)"
   ]
  },
  {
   "cell_type": "code",
   "execution_count": 164,
   "metadata": {},
   "outputs": [
    {
     "name": "stdout",
     "output_type": "stream",
     "text": [
      "[[1. 1.]\n",
      " [1. 1.]\n",
      " [1. 1.]]\n"
     ]
    }
   ],
   "source": [
    "#二维数组之间的操作\n",
    "#当两个数组维度完全一致时，使用对应元素的操作，否则会报错，\n",
    "res = np.ones((3,2))\n",
    "print(res)"
   ]
  },
  {
   "cell_type": "code",
   "execution_count": 165,
   "metadata": {},
   "outputs": [
    {
     "name": "stdout",
     "output_type": "stream",
     "text": [
      "[[2. 3.]\n",
      " [2. 3.]\n",
      " [2. 3.]]\n"
     ]
    }
   ],
   "source": [
    "#除非其中的某个数组的维度是𝑚×1或者1×𝑛，那么会扩充其具有1的维度为另一个数组对应维度的大小。\n",
    "#例如，1×2数组和3×2数组做逐元素运算时会把第一个数组扩充为3×2，扩充时的对应数值进行赋值。\n",
    "#但是，需要注意的是，如果第一个数组的维度是1×3，那么由于在第二维上的大小不匹配且不为1，此时报错。\n",
    "\n",
    "print(res * np.array([[2,3]])) # 第二个数组扩充第一维度为3"
   ]
  },
  {
   "cell_type": "code",
   "execution_count": 166,
   "metadata": {},
   "outputs": [
    {
     "name": "stdout",
     "output_type": "stream",
     "text": [
      "[[2. 2.]\n",
      " [3. 3.]\n",
      " [4. 4.]]\n"
     ]
    }
   ],
   "source": [
    "print(res * np.array([[2],[3],[4]])) # 第二个数组扩充第二维度为2"
   ]
  },
  {
   "cell_type": "code",
   "execution_count": 167,
   "metadata": {},
   "outputs": [
    {
     "name": "stdout",
     "output_type": "stream",
     "text": [
      "[[2. 2.]\n",
      " [2. 2.]\n",
      " [2. 2.]]\n"
     ]
    }
   ],
   "source": [
    "print(res * np.array([[2]])) # 等价于两次扩充，第二个数组两个维度分别扩充为3和2"
   ]
  },
  {
   "cell_type": "code",
   "execution_count": 168,
   "metadata": {},
   "outputs": [
    {
     "data": {
      "text/plain": [
       "array([[2., 2., 2.],\n",
       "       [2., 2., 2.]])"
      ]
     },
     "execution_count": 168,
     "metadata": {},
     "output_type": "execute_result"
    }
   ],
   "source": [
    "#一维数组与二维数组的操作\n",
    "\n",
    "#当一维数组𝐴𝑘与二维数组𝐵𝑚,𝑛操作时，等价于把一维数组视作𝐴1,𝑘的二维数组，使用的广播法则与【b】中一致，当𝑘!=𝑛且𝑘,𝑛都不是1时报错。\n",
    "\n",
    "np.ones(3) + np.ones((2,3))"
   ]
  },
  {
   "cell_type": "code",
   "execution_count": 169,
   "metadata": {},
   "outputs": [
    {
     "data": {
      "text/plain": [
       "array([[2., 2., 2.],\n",
       "       [2., 2., 2.]])"
      ]
     },
     "execution_count": 169,
     "metadata": {},
     "output_type": "execute_result"
    }
   ],
   "source": [
    "np.ones(3) + np.ones((2,1))"
   ]
  },
  {
   "cell_type": "code",
   "execution_count": 170,
   "metadata": {},
   "outputs": [
    {
     "data": {
      "text/plain": [
       "array([[2., 2., 2.],\n",
       "       [2., 2., 2.]])"
      ]
     },
     "execution_count": 170,
     "metadata": {},
     "output_type": "execute_result"
    }
   ],
   "source": [
    "np.ones(1) + np.ones((2,3))"
   ]
  },
  {
   "cell_type": "markdown",
   "metadata": {},
   "source": [
    "## 6. 向量与矩阵的计算"
   ]
  },
  {
   "cell_type": "code",
   "execution_count": 171,
   "metadata": {},
   "outputs": [
    {
     "data": {
      "text/plain": [
       "22"
      ]
     },
     "execution_count": 171,
     "metadata": {},
     "output_type": "execute_result"
    }
   ],
   "source": [
    "#向量内积：dot\n",
    "a = np.array([1,2,3])\n",
    "b = np.array([1,3,5])\n",
    "a.dot(b)\n",
    "#1*1+2*3+3*5"
   ]
  },
  {
   "cell_type": "markdown",
   "metadata": {},
   "source": [
    "向量范数和矩阵范数：np.linalg.norm\n",
    "\n",
    "在矩阵范数的计算中，最重要的是ord参数，可选值如下：\n",
    "\n",
    "| ord | norm for matrices | norm for vectors |\n",
    "| :---- | ----: | ----: |\n",
    "| None   | Frobenius norm | 2-norm |\n",
    "| 'fro'  | Frobenius norm  | / |\n",
    "| 'nuc'  | nuclear norm    | / |\n",
    "| inf    | max(sum(abs(x), axis=1))   | max(abs(x)) |\n",
    "| -inf   | min(sum(abs(x), axis=1))  |  min(abs(x)) |\n",
    "| 0      | /   |  sum(x != 0) |\n",
    "| 1      | max(sum(abs(x), axis=0))  |  as below |\n",
    "| -1     | min(sum(abs(x), axis=0))   |  as below |\n",
    "| 2      | 2-norm (largest sing. value) | as below |\n",
    "| -2     | smallest singular value    | as below |\n",
    "| other  | /   | sum(abs(x)\\*\\*ord)\\*\\*(1./ord) |\n",
    "\n"
   ]
  },
  {
   "cell_type": "code",
   "execution_count": 177,
   "metadata": {},
   "outputs": [
    {
     "name": "stdout",
     "output_type": "stream",
     "text": [
      "[[0 1]\n",
      " [2 3]]\n",
      "3.7416573867739413\n",
      "5.0\n",
      "3.702459173643833\n"
     ]
    }
   ],
   "source": [
    "matrix_target =  np.arange(4).reshape(-1,2)\n",
    "print(matrix_target)\n",
    "\n",
    "print(np.linalg.norm(matrix_target, 'fro'))\n",
    "\n",
    "print(np.linalg.norm(matrix_target, np.inf))\n",
    "\n",
    "print(np.linalg.norm(matrix_target, 2))"
   ]
  },
  {
   "cell_type": "code",
   "execution_count": 178,
   "metadata": {},
   "outputs": [
    {
     "name": "stdout",
     "output_type": "stream",
     "text": [
      "[0 1 2 3]\n",
      "3.0\n",
      "3.7416573867739413\n",
      "3.3019272488946263\n"
     ]
    }
   ],
   "source": [
    "vector_target =  np.arange(4)\n",
    "print(vector_target)\n",
    "\n",
    "print(np.linalg.norm(vector_target, np.inf))\n",
    "\n",
    "print(np.linalg.norm(vector_target, 2))\n",
    "\n",
    "print(np.linalg.norm(vector_target, 3))"
   ]
  },
  {
   "cell_type": "code",
   "execution_count": 179,
   "metadata": {},
   "outputs": [
    {
     "name": "stdout",
     "output_type": "stream",
     "text": [
      "[[0 1]\n",
      " [2 3]]\n",
      "[[-4 -3]\n",
      " [-2 -1]]\n",
      "[[ -2  -1]\n",
      " [-14  -9]]\n"
     ]
    }
   ],
   "source": [
    "#矩阵乘法：@\n",
    "a = np.arange(4).reshape(-1,2)\n",
    "print(a)\n",
    "\n",
    "b = np.arange(-4,0).reshape(-1,2)\n",
    "print(b)\n",
    "\n",
    "print(a@b)"
   ]
  },
  {
   "cell_type": "markdown",
   "metadata": {},
   "source": [
    "## 三、练习"
   ]
  },
  {
   "cell_type": "code",
   "execution_count": 180,
   "metadata": {},
   "outputs": [
    {
     "data": {
      "text/plain": [
       "True"
      ]
     },
     "execution_count": 180,
     "metadata": {},
     "output_type": "execute_result"
    }
   ],
   "source": [
    "#Ex1：利用列表推导式写矩阵乘法\n",
    "#一般的矩阵乘法根据公式，可以由三重循环写出，请将其改写为列表推导式的形式。\n",
    "\n",
    "M1 = np.random.rand(2,3)\n",
    "M2 = np.random.rand(3,4)\n",
    "res = np.empty((M1.shape[0],M2.shape[1]))\n",
    "for i in range(M1.shape[0]):\n",
    "    for j in range(M2.shape[1]):\n",
    "        item = 0\n",
    "        for k in range(M1.shape[1]):\n",
    "            item += M1[i][k] * M2[k][j]\n",
    "        res[i][j] = item\n",
    "(np.abs((M1@M2 - res) < 1e-15)).all() # 排除数值误差"
   ]
  },
  {
   "cell_type": "code",
   "execution_count": 194,
   "metadata": {},
   "outputs": [
    {
     "name": "stdout",
     "output_type": "stream",
     "text": [
      "[[0.5488135  0.71518937 0.60276338]\n",
      " [0.54488318 0.4236548  0.64589411]] \n",
      "\n",
      " [[0.5488135  0.71518937 0.60276338]\n",
      " [0.54488318 0.4236548  0.64589411]] \n",
      "\n",
      "[[0.84920503 0.92019544 0.94731748 1.37428751]\n",
      " [0.6197338  0.76625728 0.77879738 1.13884855]] \n",
      "\n",
      " [[0.8492050332765654, 0.9201954386455283, 0.9473174754148058, 1.3742875058416857], [0.6197337964575249, 0.7662572840289622, 0.7787973807055315, 1.1388485499974779]]\n"
     ]
    },
    {
     "data": {
      "text/plain": [
       "True"
      ]
     },
     "execution_count": 194,
     "metadata": {},
     "output_type": "execute_result"
    }
   ],
   "source": [
    "np.random.seed(0)\n",
    "M1 = np.random.rand(2,3)\n",
    "M2 = np.random.rand(3,4)\n",
    "print(M1,'\\n\\n',M1,'\\n')\n",
    "\n",
    "res = [[sum([M1[i][k] * M2[k][j] \n",
    "             for k in range(M1.shape[1])\n",
    "            ]) \n",
    "        for j in range(M2.shape[1])\n",
    "       ] \n",
    "       for i in range(M1.shape[0])\n",
    "      ]\n",
    "\n",
    "print(M1@M2,'\\n\\n',res)\n",
    "\n",
    "(np.abs((M1@M2 - res) < 1e-15)).all()"
   ]
  },
  {
   "cell_type": "markdown",
   "metadata": {},
   "source": [
    "### Ex2：更新矩阵\n",
    "设矩阵 $A_{m×n}$ ，现在对 $A$ 中的每一个元素进行更新生成矩阵 $B$ ，更新方法是 $B_{ij}=A_{ij}\\sum_{k=1}^n\\frac{1}{A_{ik}}$ ，例如下面的矩阵为 $A$ ，则 $B_{2,2}=5\\times(\\frac{1}{4}+\\frac{1}{5}+\\frac{1}{6})=\\frac{37}{12}$ ，请利用 `Numpy` 高效实现。\n",
    "$$\\begin{split}A=\\left[ \\begin{matrix} 1 & 2 &3\\\\4&5&6\\\\7&8&9 \\end{matrix} \\right]\\end{split}$$"
   ]
  },
  {
   "cell_type": "code",
   "execution_count": 204,
   "metadata": {},
   "outputs": [
    {
     "name": "stdout",
     "output_type": "stream",
     "text": [
      "[[1 2 3]\n",
      " [4 5 6]\n",
      " [7 8 9]] \n",
      "\n",
      "[[1.         0.5        0.33333333]\n",
      " [0.25       0.2        0.16666667]\n",
      " [0.14285714 0.125      0.11111111]] \n",
      "\n",
      "[1.83333333 0.61666667 0.37896825] \n",
      "\n",
      "[[1.83333333]\n",
      " [0.61666667]\n",
      " [0.37896825]] \n",
      "\n",
      "[[1.83333333 3.66666667 5.5       ]\n",
      " [2.46666667 3.08333333 3.7       ]\n",
      " [2.65277778 3.03174603 3.41071429]]\n"
     ]
    }
   ],
   "source": [
    "A = np.arange(1,10).reshape(3,-1)\n",
    "print(A,'\\n')\n",
    "print(1/A,'\\n')\n",
    "print((1/A).sum(1),'\\n')\n",
    "print((1/A).sum(1).reshape(-1,1),'\\n')\n",
    "\n",
    "B = A*(1/A).sum(1).reshape(-1,1)\n",
    "print(B)"
   ]
  },
  {
   "cell_type": "markdown",
   "metadata": {},
   "source": [
    "### Ex3：卡方统计量\n",
    "\n",
    "设矩阵$A_{m\\times n}$，记$B_{ij} = \\frac{(\\sum_{i=1}^mA_{ij})\\times (\\sum_{j=1}^nA_{ij})}{\\sum_{i=1}^m\\sum_{j=1}^nA_{ij}}$，定义卡方值如下：\n",
    "$$\\chi^2 = \\sum_{i=1}^m\\sum_{j=1}^n\\frac{(A_{ij}-B_{ij})^2}{B_{ij}}$$\n",
    "请利用`Numpy`对给定的矩阵$A$计算$\\chi^2$ "
   ]
  },
  {
   "cell_type": "code",
   "execution_count": 216,
   "metadata": {
    "scrolled": true
   },
   "outputs": [
    {
     "name": "stdout",
     "output_type": "stream",
     "text": [
      "[[15 10 13 13 17]\n",
      " [19 13 15 12 14]\n",
      " [17 16 18 18 11]\n",
      " [16 17 17 18 11]\n",
      " [15 19 18 19 14]\n",
      " [13 10 13 15 10]\n",
      " [12 13 18 11 13]\n",
      " [13 13 17 10 11]] \n",
      "\n",
      "[120 111 129 116 101] \n",
      "\n",
      "[[68]\n",
      " [73]\n",
      " [80]\n",
      " [79]\n",
      " [85]\n",
      " [61]\n",
      " [67]\n",
      " [64]] \n",
      "\n",
      "577 \n",
      "\n",
      "[[14.14211438 13.08145581 15.20277296 13.67071057 11.90294627]\n",
      " [15.18197574 14.04332756 16.32062392 14.67590988 12.77816291]\n",
      " [16.63778163 15.38994801 17.88561525 16.08318891 14.0034662 ]\n",
      " [16.42980936 15.19757366 17.66204506 15.88214905 13.82842288]\n",
      " [17.67764298 16.35181976 19.0034662  17.08838821 14.87868284]\n",
      " [12.68630849 11.73483536 13.63778163 12.26343154 10.67764298]\n",
      " [13.93414211 12.88908146 14.97920277 13.46967071 11.72790295]\n",
      " [13.3102253  12.31195841 14.3084922  12.86655113 11.20277296]] \n",
      "\n",
      "11.842696601945802\n"
     ]
    }
   ],
   "source": [
    "np.random.seed(0)\n",
    "A = np.random.randint(10, 20, (8, 5))\n",
    "print(A,'\\n')\n",
    "\n",
    "print(A.sum(0),'\\n')#按列求和\n",
    "print(A.sum(1).reshape(-1,1),'\\n')#按行求和\n",
    "print(A.sum(),'\\n')\n",
    "\n",
    "B = (A.sum(1).reshape(-1,1) * A.sum(0)) / A.sum()\n",
    "print(B,'\\n')\n",
    "\n",
    "print(((A - B) ** 2 / B).sum())"
   ]
  },
  {
   "cell_type": "markdown",
   "metadata": {},
   "source": [
    "### Ex4：改进矩阵计算的性能\n",
    "设$Z$为$m×n$的矩阵，$B$和$U$分别是$m×p$和$p×n$的矩阵，$B_i$为$B$的第$i$行，$U_j$为$U$的第$j$列，下面定义$\\displaystyle R=\\sum_{i=1}^m\\sum_{j=1}^n\\|B_i-U_j\\|_2^2Z_{ij}$，其中$\\|\\mathbf{a}\\|_2^2$表示向量$a$的分量平方和$\\sum_i a_i^2$。\n",
    "\n",
    "现有某人根据如下给定的样例数据计算$R$的值，请充分利用`Numpy`中的函数，基于此问题改进这段代码的性能。"
   ]
  },
  {
   "cell_type": "code",
   "execution_count": 217,
   "metadata": {},
   "outputs": [
    {
     "data": {
      "text/plain": [
       "100566"
      ]
     },
     "execution_count": 217,
     "metadata": {},
     "output_type": "execute_result"
    }
   ],
   "source": [
    "np.random.seed(0)\n",
    "m, n, p = 100, 80, 50\n",
    "B = np.random.randint(0, 2, (m, p))\n",
    "U = np.random.randint(0, 2, (p, n))\n",
    "Z = np.random.randint(0, 2, (m, n))\n",
    "def solution(B=B, U=U, Z=Z):\n",
    "    L_res = []\n",
    "    for i in range(m):\n",
    "        for j in range(n):\n",
    "            norm_value = ((B[i]-U[:,j])**2).sum()\n",
    "            L_res.append(norm_value*Z[i][j])\n",
    "    return sum(L_res)\n",
    "solution(B, U, Z)"
   ]
  },
  {
   "cell_type": "markdown",
   "metadata": {},
   "source": [
    "令 $Y_{ij} = \\|B_i-U_j\\|_2^2$，则 $\\displaystyle R=\\sum_{i=1}^m\\sum_{j=1}^n Y_{ij}Z_{ij}$\n",
    " ，这在 Numpy 中可以用逐元素的乘法后求和实现，因此问题转化为了如何构造 $Y$ 矩阵。\n",
    "$$\n",
    "\\begin{split}Y_{ij} &= \\|B_i-U_j\\|_2^2\\\\\n",
    "&=\\sum_{k=1}^p(B_{ik}-U_{kj})^2\\\\\n",
    "&=\\sum_{k=1}^p B_{ik}^2+\\sum_{k=1}^p U_{kj}^2-2\\sum_{k=1}^p B_{ik}U_{kj}\\\\\\end{split}\n",
    "$$\n",
    " \n",
    "从上式可以看出，第一第二项分别为 $B$ 的行平方和与 $U$ 的列平方和，第三项是两倍的内积。因此，$Y$  矩阵可以写为三个部分，第一个部分是 $m\\times n$ 的全 $1$ 矩阵每行乘以 $B$ 对应行的行平方和，第二个部分是相同大小的全 $1$ 矩阵每列乘以 $U$ 对应列的列平方和，第三个部分恰为 $B$ 矩阵与 $U$ 矩阵乘积的两倍。从而结果如下："
   ]
  },
  {
   "cell_type": "code",
   "execution_count": 223,
   "metadata": {},
   "outputs": [
    {
     "data": {
      "text/plain": [
       "100566"
      ]
     },
     "execution_count": 223,
     "metadata": {},
     "output_type": "execute_result"
    }
   ],
   "source": [
    "(((B**2).sum(1).reshape(-1,1) + (U**2).sum(0) - 2*B@U)*Z).sum()"
   ]
  },
  {
   "cell_type": "code",
   "execution_count": 228,
   "metadata": {},
   "outputs": [
    {
     "name": "stdout",
     "output_type": "stream",
     "text": [
      "[[0 1 1 ... 1 0 1]\n",
      " [0 1 1 ... 1 1 0]\n",
      " [1 0 0 ... 1 1 1]\n",
      " ...\n",
      " [1 0 0 ... 1 1 0]\n",
      " [0 0 0 ... 1 1 0]\n",
      " [0 1 1 ... 1 1 1]] \n",
      "\n",
      "[30 26 26 19 23 28 32 28 27 23 21 27 25 28 26 22 27 27 24 15 21 25 24 26\n",
      " 22 29 27 31 30 25 27 25 27 24 25 24 21 28 25 29 24 22 24 25 25 25 33 27\n",
      " 25 25 29 21 28 31 24 26 26 24 32 28 22 27 31 27 24 20 23 25 25 29 20 22\n",
      " 24 29 27 23 30 20 25 24 26 26 26 15 29 30 31 30 28 30 24 16 25 20 26 28\n",
      " 20 23 28 23] \n",
      "\n",
      "[[30]\n",
      " [26]\n",
      " [26]\n",
      " [19]\n",
      " [23]\n",
      " [28]\n",
      " [32]\n",
      " [28]\n",
      " [27]\n",
      " [23]\n",
      " [21]\n",
      " [27]\n",
      " [25]\n",
      " [28]\n",
      " [26]\n",
      " [22]\n",
      " [27]\n",
      " [27]\n",
      " [24]\n",
      " [15]\n",
      " [21]\n",
      " [25]\n",
      " [24]\n",
      " [26]\n",
      " [22]\n",
      " [29]\n",
      " [27]\n",
      " [31]\n",
      " [30]\n",
      " [25]\n",
      " [27]\n",
      " [25]\n",
      " [27]\n",
      " [24]\n",
      " [25]\n",
      " [24]\n",
      " [21]\n",
      " [28]\n",
      " [25]\n",
      " [29]\n",
      " [24]\n",
      " [22]\n",
      " [24]\n",
      " [25]\n",
      " [25]\n",
      " [25]\n",
      " [33]\n",
      " [27]\n",
      " [25]\n",
      " [25]\n",
      " [29]\n",
      " [21]\n",
      " [28]\n",
      " [31]\n",
      " [24]\n",
      " [26]\n",
      " [26]\n",
      " [24]\n",
      " [32]\n",
      " [28]\n",
      " [22]\n",
      " [27]\n",
      " [31]\n",
      " [27]\n",
      " [24]\n",
      " [20]\n",
      " [23]\n",
      " [25]\n",
      " [25]\n",
      " [29]\n",
      " [20]\n",
      " [22]\n",
      " [24]\n",
      " [29]\n",
      " [27]\n",
      " [23]\n",
      " [30]\n",
      " [20]\n",
      " [25]\n",
      " [24]\n",
      " [26]\n",
      " [26]\n",
      " [26]\n",
      " [15]\n",
      " [29]\n",
      " [30]\n",
      " [31]\n",
      " [30]\n",
      " [28]\n",
      " [30]\n",
      " [24]\n",
      " [16]\n",
      " [25]\n",
      " [20]\n",
      " [26]\n",
      " [28]\n",
      " [20]\n",
      " [23]\n",
      " [28]\n",
      " [23]] \n",
      "\n",
      "[[1 0 1 ... 1 1 0]\n",
      " [0 0 0 ... 0 0 1]\n",
      " [0 1 0 ... 0 1 1]\n",
      " ...\n",
      " [1 0 1 ... 1 0 1]\n",
      " [0 0 1 ... 0 0 0]\n",
      " [1 1 0 ... 0 0 1]] \n",
      "\n",
      "[27 26 25 32 26 21 24 27 27 29 26 25 23 29 27 22 24 29 30 29 25 24 21 25\n",
      " 24 25 27 28 26 25 24 27 28 27 26 24 22 27 28 28 23 21 26 23 32 26 22 24\n",
      " 21 28 19 25 22 22 28 27 24 28 25 16 25 27 25 26 24 22 26 21 22 27 23 26\n",
      " 25 27 25 20 27 29 25 26] \n",
      "\n",
      "[[32 34 24 ... 30 32 34]\n",
      " [24 26 30 ... 28 30 28]\n",
      " [26 30 30 ... 32 24 32]\n",
      " ...\n",
      " [26 24 30 ... 22 22 24]\n",
      " [30 28 32 ... 30 30 30]\n",
      " [24 22 26 ... 16 26 24]] \n",
      "\n",
      "[[25  0  0 ... 29  0  0]\n",
      " [ 0 26 21 ... 27 21  0]\n",
      " [27  0 21 ...  0 27 20]\n",
      " ...\n",
      " [ 0 25  0 ... 30 26  0]\n",
      " [25  0  0 ... 27 23  0]\n",
      " [ 0  0  0 ...  0  0 25]] \n",
      "\n",
      "100566 \n",
      "\n"
     ]
    }
   ],
   "source": [
    "print(B**2,'\\n')\n",
    "\n",
    "print((B**2).sum(1),'\\n')\n",
    "\n",
    "print((B**2).sum(1).reshape(-1,1),'\\n')\n",
    "\n",
    "print((U**2),'\\n')\n",
    "\n",
    "print((U**2).sum(0),'\\n')\n",
    "\n",
    "print(2*B@U,'\\n')\n",
    "\n",
    "print(((B**2).sum(1).reshape(-1,1) + (U**2).sum(0) - 2*B@U)*Z,'\\n')\n",
    "\n",
    "print((((B**2).sum(1).reshape(-1,1) + (U**2).sum(0) - 2*B@U)*Z).sum(),'\\n')"
   ]
  },
  {
   "cell_type": "code",
   "execution_count": null,
   "metadata": {},
   "outputs": [],
   "source": [
    "#性能"
   ]
  },
  {
   "cell_type": "code",
   "execution_count": 224,
   "metadata": {},
   "outputs": [
    {
     "name": "stdout",
     "output_type": "stream",
     "text": [
      "59.8 ms ± 5.03 ms per loop (mean ± std. dev. of 7 runs, 30 loops each)\n"
     ]
    }
   ],
   "source": [
    "%timeit -n 30 solution(B, U, Z)"
   ]
  },
  {
   "cell_type": "code",
   "execution_count": 225,
   "metadata": {},
   "outputs": [
    {
     "name": "stdout",
     "output_type": "stream",
     "text": [
      "884 µs ± 197 µs per loop (mean ± std. dev. of 7 runs, 30 loops each)\n"
     ]
    }
   ],
   "source": [
    "%timeit -n 30 ((np.ones((m,n))*(B**2).sum(1).reshape(-1,1) +\\\n",
    "                  np.ones((m,n))*(U**2).sum(0) - 2*B@U)*Z).sum()"
   ]
  },
  {
   "cell_type": "markdown",
   "metadata": {},
   "source": [
    "### Ex5：连续整数的最大长度\n",
    "\n",
    "输入一个整数的`Numpy`数组，返回其中严格递增连续整数子数组的最大长度，正向是指递增方向。例如，输入\\[1,2,5,6,7\\]，\\[5,6,7\\]为具有最大长度的连续整数子数组，因此输出3；输入\\[3,2,1,2,3,4,6\\]，\\[1,2,3,4\\]为具有最大长度的连续整数子数组，因此输出4。请充分利用`Numpy`的内置函数完成。（提示：考虑使用`nonzero, diff`函数）"
   ]
  },
  {
   "cell_type": "code",
   "execution_count": 218,
   "metadata": {},
   "outputs": [
    {
     "data": {
      "text/plain": [
       "3"
      ]
     },
     "execution_count": 218,
     "metadata": {},
     "output_type": "execute_result"
    }
   ],
   "source": [
    "f = lambda x:np.diff(np.nonzero(np.r_[1,np.diff(x)!=1,1])).max()\n",
    "\n",
    "f([1,2,5,6,7])"
   ]
  },
  {
   "cell_type": "code",
   "execution_count": 222,
   "metadata": {},
   "outputs": [
    {
     "name": "stdout",
     "output_type": "stream",
     "text": [
      "[False  True False False]\n",
      "[1 0 1 0 0 1]\n",
      "(array([0, 2, 5], dtype=int64),)\n",
      "[[2 3]]\n"
     ]
    }
   ],
   "source": [
    "x = [1,2,5,6,7]\n",
    "\n",
    "print(np.diff(x)!=1)#diff返回差值\n",
    "\n",
    "print(np.r_[1,np.diff(x)!=1,1])\n",
    "\n",
    "print(np.nonzero(np.r_[1,np.diff(x)!=1,1]))#nonzero返回非零索引\n",
    "\n",
    "print(np.diff(np.nonzero(np.r_[1,np.diff(x)!=1,1])))"
   ]
  },
  {
   "cell_type": "code",
   "execution_count": null,
   "metadata": {},
   "outputs": [],
   "source": []
  }
 ],
 "metadata": {
  "kernelspec": {
   "display_name": "Python 3",
   "language": "python",
   "name": "python3"
  },
  "language_info": {
   "codemirror_mode": {
    "name": "ipython",
    "version": 3
   },
   "file_extension": ".py",
   "mimetype": "text/x-python",
   "name": "python",
   "nbconvert_exporter": "python",
   "pygments_lexer": "ipython3",
   "version": "3.8.5"
  }
 },
 "nbformat": 4,
 "nbformat_minor": 4
}
