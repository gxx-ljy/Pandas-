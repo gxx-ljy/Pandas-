{
 "cells": [
  {
   "cell_type": "code",
   "execution_count": 1,
   "metadata": {},
   "outputs": [],
   "source": [
    "import numpy as np\n",
    "\n",
    "import pandas as pd\n",
    "\n",
    "import matplotlib.pyplot as plt"
   ]
  },
  {
   "cell_type": "markdown",
   "metadata": {},
   "source": [
    "##### 注意\n",
    "在补充习题中不得使用任何for循环。"
   ]
  },
  {
   "cell_type": "markdown",
   "metadata": {},
   "source": [
    "# Ex1：NumPy的向量化运算\n",
    "### 1、\n",
    "给定一个正整数列表，请找出缺失的最小正整数。"
   ]
  },
  {
   "cell_type": "code",
   "execution_count": 2,
   "metadata": {},
   "outputs": [],
   "source": [
    "def find_miss(arr):\n",
    "    arr[arr[arr <= len(arr)] - 1] = 0\n",
    "    ans = np.nonzero(arr)\n",
    "    return (ans[0][0] if len(ans[0]) else len(arr)) + 1"
   ]
  },
  {
   "cell_type": "code",
   "execution_count": 4,
   "metadata": {},
   "outputs": [
    {
     "data": {
      "text/plain": [
       "4"
      ]
     },
     "execution_count": 4,
     "metadata": {},
     "output_type": "execute_result"
    }
   ],
   "source": [
    "arr = np.array([6,3,5,1,2])\n",
    "find_miss(arr)"
   ]
  },
  {
   "cell_type": "code",
   "execution_count": null,
   "metadata": {},
   "outputs": [],
   "source": []
  },
  {
   "cell_type": "code",
   "execution_count": 30,
   "metadata": {},
   "outputs": [
    {
     "data": {
      "text/plain": [
       "array([6, 3, 5, 1, 2])"
      ]
     },
     "execution_count": 30,
     "metadata": {},
     "output_type": "execute_result"
    }
   ],
   "source": [
    "arr = np.array([6,3,5,1,2])\n",
    "arr"
   ]
  },
  {
   "cell_type": "code",
   "execution_count": 31,
   "metadata": {},
   "outputs": [
    {
     "data": {
      "text/plain": [
       "array([False,  True,  True,  True,  True])"
      ]
     },
     "execution_count": 31,
     "metadata": {},
     "output_type": "execute_result"
    }
   ],
   "source": [
    "arr <= len(arr)"
   ]
  },
  {
   "cell_type": "code",
   "execution_count": 33,
   "metadata": {},
   "outputs": [
    {
     "data": {
      "text/plain": [
       "array([2, 4, 0, 1])"
      ]
     },
     "execution_count": 33,
     "metadata": {},
     "output_type": "execute_result"
    }
   ],
   "source": [
    "arr[arr <= len(arr)] - 1"
   ]
  },
  {
   "cell_type": "code",
   "execution_count": 27,
   "metadata": {},
   "outputs": [
    {
     "data": {
      "text/plain": [
       "array([0, 0, 0, 1, 0])"
      ]
     },
     "execution_count": 27,
     "metadata": {},
     "output_type": "execute_result"
    }
   ],
   "source": [
    "arr[arr[arr <= len(arr)] - 1] = 0\n",
    "arr"
   ]
  },
  {
   "cell_type": "code",
   "execution_count": 28,
   "metadata": {},
   "outputs": [
    {
     "data": {
      "text/plain": [
       "(array([3], dtype=int64),)"
      ]
     },
     "execution_count": 28,
     "metadata": {},
     "output_type": "execute_result"
    }
   ],
   "source": [
    "ans = np.nonzero(arr)\n",
    "ans"
   ]
  },
  {
   "cell_type": "code",
   "execution_count": 29,
   "metadata": {},
   "outputs": [
    {
     "data": {
      "text/plain": [
       "4"
      ]
     },
     "execution_count": 29,
     "metadata": {},
     "output_type": "execute_result"
    }
   ],
   "source": [
    "(ans[0][0] if len(ans[0]) else len(arr)) + 1"
   ]
  },
  {
   "cell_type": "code",
   "execution_count": null,
   "metadata": {},
   "outputs": [],
   "source": []
  },
  {
   "cell_type": "code",
   "execution_count": null,
   "metadata": {},
   "outputs": [],
   "source": []
  },
  {
   "cell_type": "code",
   "execution_count": null,
   "metadata": {},
   "outputs": [],
   "source": []
  },
  {
   "cell_type": "markdown",
   "metadata": {},
   "source": [
    "### 2、\n",
    "设计一个生成二维NumPy数组的函数get_res()，其输入为正整数n，返回的数组构造方式如下：第1行填入1个1，第2行在上一行填入位置的下一列连续填入2个2，第3行在第二行最后一个填入位置的下一列连续填入3个3，…，第n行在第n-1行最后一个填入位置的下一列连续填入n个n。"
   ]
  },
  {
   "cell_type": "code",
   "execution_count": 5,
   "metadata": {},
   "outputs": [],
   "source": [
    "def get_res(n):\n",
    "    ans = np.zeros((n, n * (n+1) // 2))\n",
    "    x_idx = np.repeat(range(1, n+1), range(1, n+1))\n",
    "    ans[x_idx-1, range(ans.shape[1])] = x_idx\n",
    "    return ans"
   ]
  },
  {
   "cell_type": "code",
   "execution_count": 6,
   "metadata": {},
   "outputs": [
    {
     "data": {
      "text/plain": [
       "array([[1., 0., 0., 0., 0., 0., 0., 0., 0., 0., 0., 0., 0., 0., 0.],\n",
       "       [0., 2., 2., 0., 0., 0., 0., 0., 0., 0., 0., 0., 0., 0., 0.],\n",
       "       [0., 0., 0., 3., 3., 3., 0., 0., 0., 0., 0., 0., 0., 0., 0.],\n",
       "       [0., 0., 0., 0., 0., 0., 4., 4., 4., 4., 0., 0., 0., 0., 0.],\n",
       "       [0., 0., 0., 0., 0., 0., 0., 0., 0., 0., 5., 5., 5., 5., 5.]])"
      ]
     },
     "execution_count": 6,
     "metadata": {},
     "output_type": "execute_result"
    }
   ],
   "source": [
    "n = 5\n",
    "get_res(n)"
   ]
  },
  {
   "cell_type": "code",
   "execution_count": null,
   "metadata": {},
   "outputs": [],
   "source": []
  },
  {
   "cell_type": "markdown",
   "metadata": {},
   "source": [
    "### 3、\n",
    "点 $A$ 初始位置在数轴原点处，现进行n步简单随机游走，即每一步以等概率向左或向右移动长度为1的距离，记该点最终的位置为 $S_n$ ，则可以证明\n",
    "$$\\lim_{n\\rightarrow+\\infty}\\frac{\\mathbb{E}|S_n|}{\\sqrt{n}}=\\sqrt{\\frac{2}{\\pi}}$$\n",
    " \n",
    " \n",
    " \n",
    "现取n为5000进行1000次试验，且每次试验中用 $\\frac{1}{100}\\sum_{k=1}^{100}|S_n|$\n",
    " \n",
    " 来代替 $\\mathbb{E}|S_n|$ 。此时可以计算得到1000个 $\\mathbb{E}|S_n|$\n",
    " \n",
    " \n",
    " 的估计值，请计算这些估计值的均值、0.05分位数和0.95分位数。"
   ]
  },
  {
   "cell_type": "code",
   "execution_count": 7,
   "metadata": {},
   "outputs": [],
   "source": [
    "walks = np.array([-1, 1])[np.random.randint(0, 2, (1000, 100, 5000))]\n",
    "estimate = np.abs(walks.sum(-1)).mean(-1) / np.sqrt(5000) - np.sqrt(2 / np.pi)"
   ]
  },
  {
   "cell_type": "code",
   "execution_count": 8,
   "metadata": {},
   "outputs": [
    {
     "data": {
      "text/plain": [
       "0.0011766489508805264"
      ]
     },
     "execution_count": 8,
     "metadata": {},
     "output_type": "execute_result"
    }
   ],
   "source": [
    "estimate.mean()"
   ]
  },
  {
   "cell_type": "code",
   "execution_count": 9,
   "metadata": {},
   "outputs": [
    {
     "data": {
      "text/plain": [
       "-0.09793370024192573"
      ]
     },
     "execution_count": 9,
     "metadata": {},
     "output_type": "execute_result"
    }
   ],
   "source": [
    "np.quantile(estimate, 0.05)"
   ]
  },
  {
   "cell_type": "code",
   "execution_count": 10,
   "metadata": {},
   "outputs": [
    {
     "data": {
      "text/plain": [
       "0.09987235072719895"
      ]
     },
     "execution_count": 10,
     "metadata": {},
     "output_type": "execute_result"
    }
   ],
   "source": [
    "np.quantile(estimate, 0.95)"
   ]
  },
  {
   "cell_type": "code",
   "execution_count": null,
   "metadata": {},
   "outputs": [],
   "source": []
  },
  {
   "cell_type": "markdown",
   "metadata": {},
   "source": [
    "### 4、\n",
    "在二维平面上有n个点，每个点具有k维特征，点的坐标数据记录在node_xy中，点的特征数据记录在node_fea中。现要计算所有点的相关矩阵 $S$ ，点a和点b的相关系数定义如下\n",
    "$$S_{ab} = \\frac{\\sigma_{ab}}{2} + \\frac{\\lambda_{ab}}{2}$$\n",
    " \n",
    " \n",
    "其中，若记点a特征为 $A$ ，点b特征为 $B$ ，则有\n",
    "$$\\sigma_{ab} = \\frac{\\sum_{i=1}^kA_iB_i}{\\sqrt{\\sum_{i=1}^kA^2_i}\\sqrt{\\sum_{i=1}^kB^2_i}}$$\n",
    " \n",
    "对于点a而言，将所有点到点a的二维平面距离进行排序，从而得到每个点到点a的距离排名，距离最近（排名为1）的点是点a自身，记点b的排名为 $r^{(a)}_b$\n",
    " ，则定义\n",
    "$$\\lambda_{ab} = 1 - \\frac{2\\times (r^{(a)}_b-1)}{n-1}$$\n",
    " \n",
    "请对于给定的node_xy和node_fea计算相关矩阵 $S$ 。（提示：使用np.argsort()）"
   ]
  },
  {
   "cell_type": "code",
   "execution_count": 11,
   "metadata": {},
   "outputs": [],
   "source": [
    "def get_S(node_xy, node_fea):\n",
    "    sq_sum = (node_fea ** 2).sum(-1)\n",
    "    sigma = (node_fea @ node_fea.T) / np.sqrt(sq_sum[:, None] * sq_sum)\n",
    "    x, y = node_xy[:, 0], node_xy[:, 1]\n",
    "    dist = np.sqrt((x - x[:, None]) ** 2 + (y - y[:, None]) ** 2)\n",
    "    rank = dist.argsort(1).argsort(1)\n",
    "    lamda = 1 - 2 * rank / (node_fea.shape[0] - 1)\n",
    "    return (sigma + lamda) / 2"
   ]
  },
  {
   "cell_type": "code",
   "execution_count": 12,
   "metadata": {
    "scrolled": true
   },
   "outputs": [
    {
     "data": {
      "text/plain": [
       "array([[ 1.        ,  0.22457492, -0.0631893 ,  0.49786201,  0.74886174],\n",
       "       [-0.02542508,  1.        ,  0.49119664,  0.70800423,  0.21287902],\n",
       "       [-0.0631893 ,  0.74119664,  1.        ,  0.41246708,  0.16940849],\n",
       "       [-0.00213799,  0.70800423,  0.41246708,  1.        ,  0.2498435 ],\n",
       "       [ 0.74886174,  0.21287902, -0.08059151,  0.4998435 ,  1.        ]])"
      ]
     },
     "execution_count": 12,
     "metadata": {},
     "output_type": "execute_result"
    }
   ],
   "source": [
    "n, k = 5, 2\n",
    "np.random.seed(1)\n",
    "node_xy = np.random.rand(n, 2)\n",
    "node_fea = np.random.rand(n, k)\n",
    "get_S(node_xy, node_fea)"
   ]
  },
  {
   "cell_type": "code",
   "execution_count": null,
   "metadata": {},
   "outputs": [],
   "source": []
  },
  {
   "cell_type": "markdown",
   "metadata": {},
   "source": [
    "# Ex2：统计学生的成绩情况\n",
    "在data/supplement/ex2目录下存放了某校高三第一学期的学生成绩情况，包含16次周测成绩、期中考试成绩和期末考试成绩，科目一栏的成绩表示学生选课的成绩。所有的表中，相同的行表示的是同一位同学。请完成以下练习："
   ]
  },
  {
   "cell_type": "code",
   "execution_count": 227,
   "metadata": {},
   "outputs": [
    {
     "data": {
      "text/html": [
       "<div>\n",
       "<style scoped>\n",
       "    .dataframe tbody tr th:only-of-type {\n",
       "        vertical-align: middle;\n",
       "    }\n",
       "\n",
       "    .dataframe tbody tr th {\n",
       "        vertical-align: top;\n",
       "    }\n",
       "\n",
       "    .dataframe thead th {\n",
       "        text-align: right;\n",
       "    }\n",
       "</style>\n",
       "<table border=\"1\" class=\"dataframe\">\n",
       "  <thead>\n",
       "    <tr style=\"text-align: right;\">\n",
       "      <th></th>\n",
       "      <th>班级</th>\n",
       "      <th>姓名</th>\n",
       "      <th>选科</th>\n",
       "      <th>语文</th>\n",
       "      <th>数学</th>\n",
       "      <th>英语</th>\n",
       "      <th>科目</th>\n",
       "    </tr>\n",
       "  </thead>\n",
       "  <tbody>\n",
       "    <tr>\n",
       "      <th>0</th>\n",
       "      <td>1</td>\n",
       "      <td>吴刚</td>\n",
       "      <td>地理</td>\n",
       "      <td>93</td>\n",
       "      <td>95</td>\n",
       "      <td>82</td>\n",
       "      <td>69</td>\n",
       "    </tr>\n",
       "    <tr>\n",
       "      <th>1</th>\n",
       "      <td>1</td>\n",
       "      <td>卢楠</td>\n",
       "      <td>物理</td>\n",
       "      <td>108</td>\n",
       "      <td>77</td>\n",
       "      <td>90</td>\n",
       "      <td>94</td>\n",
       "    </tr>\n",
       "    <tr>\n",
       "      <th>2</th>\n",
       "      <td>1</td>\n",
       "      <td>唐秀兰</td>\n",
       "      <td>历史</td>\n",
       "      <td>88</td>\n",
       "      <td>72</td>\n",
       "      <td>95</td>\n",
       "      <td>85</td>\n",
       "    </tr>\n",
       "    <tr>\n",
       "      <th>3</th>\n",
       "      <td>1</td>\n",
       "      <td>张刚</td>\n",
       "      <td>化学</td>\n",
       "      <td>85</td>\n",
       "      <td>88</td>\n",
       "      <td>102</td>\n",
       "      <td>76</td>\n",
       "    </tr>\n",
       "    <tr>\n",
       "      <th>4</th>\n",
       "      <td>1</td>\n",
       "      <td>姜洋</td>\n",
       "      <td>历史</td>\n",
       "      <td>104</td>\n",
       "      <td>99</td>\n",
       "      <td>84</td>\n",
       "      <td>86</td>\n",
       "    </tr>\n",
       "  </tbody>\n",
       "</table>\n",
       "</div>"
      ],
      "text/plain": [
       "   班级   姓名  选科   语文  数学   英语  科目\n",
       "0   1   吴刚  地理   93  95   82  69\n",
       "1   1   卢楠  物理  108  77   90  94\n",
       "2   1  唐秀兰  历史   88  72   95  85\n",
       "3   1   张刚  化学   85  88  102  76\n",
       "4   1   姜洋  历史  104  99   84  86"
      ]
     },
     "execution_count": 227,
     "metadata": {},
     "output_type": "execute_result"
    }
   ],
   "source": [
    "df = pd.read_csv('data/supplement/ex2/第1次周测成绩.csv')\n",
    "\n",
    "df.head()"
   ]
  },
  {
   "cell_type": "markdown",
   "metadata": {},
   "source": [
    "### 1、\n",
    "该校高三年级中是否存在姓名相同的学生？"
   ]
  },
  {
   "cell_type": "code",
   "execution_count": 13,
   "metadata": {},
   "outputs": [
    {
     "data": {
      "text/plain": [
       "True"
      ]
     },
     "execution_count": 13,
     "metadata": {},
     "output_type": "execute_result"
    }
   ],
   "source": [
    "df = pd.read_csv(\"data/supplement/ex2/第1次周测成绩.csv\")\n",
    "df.姓名.nunique() == df.shape[0]"
   ]
  },
  {
   "cell_type": "code",
   "execution_count": null,
   "metadata": {},
   "outputs": [],
   "source": []
  },
  {
   "cell_type": "markdown",
   "metadata": {},
   "source": [
    "### 2、\n",
    "在第一次周测中，请求出每个班级选修物理或化学同学的语数英总分的平均值。哪个班级最高？"
   ]
  },
  {
   "cell_type": "code",
   "execution_count": 15,
   "metadata": {},
   "outputs": [
    {
     "data": {
      "text/plain": [
       "2"
      ]
     },
     "execution_count": 15,
     "metadata": {},
     "output_type": "execute_result"
    }
   ],
   "source": [
    "df[df.选科.isin([\"物理\", \"化学\"])].groupby(\"班级\").apply(lambda x: x.iloc[:, -4:-1].sum(1).mean()).idxmax()"
   ]
  },
  {
   "cell_type": "code",
   "execution_count": null,
   "metadata": {},
   "outputs": [],
   "source": []
  },
  {
   "cell_type": "markdown",
   "metadata": {},
   "source": [
    "### 3、\n",
    "学生在该学期的总评计算方式是各次考试总分的加权平均值，其中周测成绩权重为50%（每次测验权重相等，即3.125%），期中权重为20%，期末权重为30%。请结合nlargest函数找出年级中总评前十的同学。"
   ]
  },
  {
   "cell_type": "code",
   "execution_count": 16,
   "metadata": {},
   "outputs": [
    {
     "data": {
      "text/plain": [
       "姓名\n",
       "黄秀荣    430.40000\n",
       "包健     426.93125\n",
       "左娟     424.38125\n",
       "刘欢     423.68750\n",
       "史阳     422.31250\n",
       "李浩     421.68125\n",
       "李琴     421.63125\n",
       "齐峰     421.42500\n",
       "郎佳     420.33125\n",
       "戴杨     420.27500\n",
       "dtype: float64"
      ]
     },
     "execution_count": 16,
     "metadata": {},
     "output_type": "execute_result"
    }
   ],
   "source": [
    "files = list(map(lambda i: \"第%s次周测成绩\"%(i+1), range(16)))\n",
    "files += [\"期中考试成绩\", \"期末考试成绩\"]\n",
    "path = \"data/supplement/ex2/%s.csv\"\n",
    "dfs = list(map(lambda i: pd.read_csv(path%i), files))\n",
    "df = pd.concat(dfs, keys=files).droplevel(1, axis=0)\n",
    "df[\"总分\"] = df.iloc[:, -4:].sum(1)\n",
    "df = df.set_index(\"姓名\", append=True)[\"总分\"].unstack(0)\n",
    "res = (df.values * np.r_[np.repeat(0.5/16, 16), [0.2, 0.3]]).sum(1)\n",
    "students = pd.Series(res, index=df.index).nlargest(10)\n",
    "students"
   ]
  },
  {
   "cell_type": "code",
   "execution_count": null,
   "metadata": {},
   "outputs": [],
   "source": []
  },
  {
   "cell_type": "markdown",
   "metadata": {},
   "source": [
    "### 4、\n",
    "请统计1班到8班文理科（物化生为理科，政史地为文科）期末考试总分前5的学生，结果格式如下，括号内的为选科分数"
   ]
  },
  {
   "cell_type": "code",
   "execution_count": 17,
   "metadata": {},
   "outputs": [
    {
     "data": {
      "text/html": [
       "<div>\n",
       "<style scoped>\n",
       "    .dataframe tbody tr th:only-of-type {\n",
       "        vertical-align: middle;\n",
       "    }\n",
       "\n",
       "    .dataframe tbody tr th {\n",
       "        vertical-align: top;\n",
       "    }\n",
       "\n",
       "    .dataframe thead th {\n",
       "        text-align: right;\n",
       "    }\n",
       "</style>\n",
       "<table border=\"1\" class=\"dataframe\">\n",
       "  <thead>\n",
       "    <tr style=\"text-align: right;\">\n",
       "      <th></th>\n",
       "      <th>1班（文）</th>\n",
       "      <th>1班（理）</th>\n",
       "      <th>2班（文）</th>\n",
       "      <th>2班（理）</th>\n",
       "      <th>3班（文）</th>\n",
       "      <th>3班（理）</th>\n",
       "      <th>4班（文）</th>\n",
       "      <th>4班（理）</th>\n",
       "      <th>5班（文）</th>\n",
       "      <th>5班（理）</th>\n",
       "      <th>6班（文）</th>\n",
       "      <th>6班（理）</th>\n",
       "      <th>7班（文）</th>\n",
       "      <th>7班（理）</th>\n",
       "      <th>8班（文）</th>\n",
       "      <th>8班（理）</th>\n",
       "    </tr>\n",
       "  </thead>\n",
       "  <tbody>\n",
       "    <tr>\n",
       "      <th>0</th>\n",
       "      <td>秦利：地理（116）</td>\n",
       "      <td>张欢：物理（105）</td>\n",
       "      <td>燕丽娟：历史（103）</td>\n",
       "      <td>王淑英：化学（115）</td>\n",
       "      <td>黄萍：地理（96）</td>\n",
       "      <td>殷志强：物理（134）</td>\n",
       "      <td>何阳：地理（121）</td>\n",
       "      <td>田帆：物理（129）</td>\n",
       "      <td>李桂芝：历史（111）</td>\n",
       "      <td>林婷：物理（106）</td>\n",
       "      <td>齐峰：政治（93）</td>\n",
       "      <td>宋博：物理（114）</td>\n",
       "      <td>金阳：历史（108）</td>\n",
       "      <td>张畅：生物（123）</td>\n",
       "      <td>韩坤：地理（110）</td>\n",
       "      <td>王想：物理（115）</td>\n",
       "    </tr>\n",
       "    <tr>\n",
       "      <th>1</th>\n",
       "      <td>王雷：地理（116）</td>\n",
       "      <td>周颖：生物（111）</td>\n",
       "      <td>李飞：地理（104）</td>\n",
       "      <td>徐佳：化学（114）</td>\n",
       "      <td>郝丽娟：地理（105）</td>\n",
       "      <td>钟玉梅：物理（126）</td>\n",
       "      <td>卢飞：地理（108）</td>\n",
       "      <td>黄勇：物理（141）</td>\n",
       "      <td>罗建华：历史（94）</td>\n",
       "      <td>关斌：物理（139）</td>\n",
       "      <td>汤秀芳：地理（114）</td>\n",
       "      <td>杜海燕：物理（136）</td>\n",
       "      <td>陈丹丹：历史（89）</td>\n",
       "      <td>田磊：化学（108）</td>\n",
       "      <td>张林：历史（102）</td>\n",
       "      <td>刘娜：化学（102）</td>\n",
       "    </tr>\n",
       "    <tr>\n",
       "      <th>2</th>\n",
       "      <td>刘婷婷：地理（115）</td>\n",
       "      <td>陈云：化学（114）</td>\n",
       "      <td>戴宇：政治（104）</td>\n",
       "      <td>张勇：物理（125）</td>\n",
       "      <td>张飞：地理（111）</td>\n",
       "      <td>杜想：化学（106）</td>\n",
       "      <td>房娟：地理（117）</td>\n",
       "      <td>何伟：化学（118）</td>\n",
       "      <td>赵柳：历史（94）</td>\n",
       "      <td>彭桂兰：化学（101）</td>\n",
       "      <td>江莉：政治（105）</td>\n",
       "      <td>程桂珍：化学（97）</td>\n",
       "      <td>卢桂芝：历史（106）</td>\n",
       "      <td>吕雪：物理（127）</td>\n",
       "      <td>李小红：历史（105）</td>\n",
       "      <td>黎想：化学（118）</td>\n",
       "    </tr>\n",
       "    <tr>\n",
       "      <th>3</th>\n",
       "      <td>唐秀兰：历史（115）</td>\n",
       "      <td>陈柳：化学（103）</td>\n",
       "      <td>张建平：历史（105）</td>\n",
       "      <td>龙鑫：物理（121）</td>\n",
       "      <td>任玉梅：地理（107）</td>\n",
       "      <td>张洋：化学（116）</td>\n",
       "      <td>王帆：历史（110）</td>\n",
       "      <td>孙桂珍：物理（141）</td>\n",
       "      <td>谭鑫：地理（108）</td>\n",
       "      <td>叶平：物理（131）</td>\n",
       "      <td>张玉：地理（106）</td>\n",
       "      <td>窦畅：化学（125）</td>\n",
       "      <td>马亮：历史（111）</td>\n",
       "      <td>胡玉：化学（125）</td>\n",
       "      <td>冯磊：地理（99）</td>\n",
       "      <td>严琳：化学（125）</td>\n",
       "    </tr>\n",
       "    <tr>\n",
       "      <th>4</th>\n",
       "      <td>龙晨：地理（106）</td>\n",
       "      <td>王婷：化学（103）</td>\n",
       "      <td>李楠：历史（114）</td>\n",
       "      <td>周凤兰：生物（99）</td>\n",
       "      <td>王玉：地理（115）</td>\n",
       "      <td>蔡玲：化学（109）</td>\n",
       "      <td>王华：历史（100）</td>\n",
       "      <td>赵云：生物（92）</td>\n",
       "      <td>鲁瑞：历史（100）</td>\n",
       "      <td>钟辉：化学（119）</td>\n",
       "      <td>徐红：历史（91）</td>\n",
       "      <td>黎玉：物理（136）</td>\n",
       "      <td>杨桂兰：政治（100）</td>\n",
       "      <td>康华：化学（122）</td>\n",
       "      <td>陈楠：地理（113）</td>\n",
       "      <td>张桂香：物理（124）</td>\n",
       "    </tr>\n",
       "  </tbody>\n",
       "</table>\n",
       "</div>"
      ],
      "text/plain": [
       "         1班（文）       1班（理）        2班（文）        2班（理）        3班（文）  \\\n",
       "0   秦利：地理（116）  张欢：物理（105）  燕丽娟：历史（103）  王淑英：化学（115）    黄萍：地理（96）   \n",
       "1   王雷：地理（116）  周颖：生物（111）   李飞：地理（104）   徐佳：化学（114）  郝丽娟：地理（105）   \n",
       "2  刘婷婷：地理（115）  陈云：化学（114）   戴宇：政治（104）   张勇：物理（125）   张飞：地理（111）   \n",
       "3  唐秀兰：历史（115）  陈柳：化学（103）  张建平：历史（105）   龙鑫：物理（121）  任玉梅：地理（107）   \n",
       "4   龙晨：地理（106）  王婷：化学（103）   李楠：历史（114）   周凤兰：生物（99）   王玉：地理（115）   \n",
       "\n",
       "         3班（理）       4班（文）        4班（理）        5班（文）        5班（理）  \\\n",
       "0  殷志强：物理（134）  何阳：地理（121）   田帆：物理（129）  李桂芝：历史（111）   林婷：物理（106）   \n",
       "1  钟玉梅：物理（126）  卢飞：地理（108）   黄勇：物理（141）   罗建华：历史（94）   关斌：物理（139）   \n",
       "2   杜想：化学（106）  房娟：地理（117）   何伟：化学（118）    赵柳：历史（94）  彭桂兰：化学（101）   \n",
       "3   张洋：化学（116）  王帆：历史（110）  孙桂珍：物理（141）   谭鑫：地理（108）   叶平：物理（131）   \n",
       "4   蔡玲：化学（109）  王华：历史（100）    赵云：生物（92）   鲁瑞：历史（100）   钟辉：化学（119）   \n",
       "\n",
       "         6班（文）        6班（理）        7班（文）       7班（理）        8班（文）        8班（理）  \n",
       "0    齐峰：政治（93）   宋博：物理（114）   金阳：历史（108）  张畅：生物（123）   韩坤：地理（110）   王想：物理（115）  \n",
       "1  汤秀芳：地理（114）  杜海燕：物理（136）   陈丹丹：历史（89）  田磊：化学（108）   张林：历史（102）   刘娜：化学（102）  \n",
       "2   江莉：政治（105）   程桂珍：化学（97）  卢桂芝：历史（106）  吕雪：物理（127）  李小红：历史（105）   黎想：化学（118）  \n",
       "3   张玉：地理（106）   窦畅：化学（125）   马亮：历史（111）  胡玉：化学（125）    冯磊：地理（99）   严琳：化学（125）  \n",
       "4    徐红：历史（91）   黎玉：物理（136）  杨桂兰：政治（100）  康华：化学（122）   陈楠：地理（113）  张桂香：物理（124）  "
      ]
     },
     "execution_count": 17,
     "metadata": {},
     "output_type": "execute_result"
    }
   ],
   "source": [
    "course_map = dict(zip(\n",
    "    [\"物理\", \"化学\", \"生物\", \"历史\", \"政治\", \"地理\"],\n",
    "    [\"（理）\"] * 3 + [\"（文）\"] * 3,\n",
    "))\n",
    "def func_top5_inner(df):\n",
    "    df[\"总分\"] = df.iloc[:, -5:-1].sum(1)\n",
    "    df = df.sort_values(\"总分\", ascending=False).iloc[:5]\n",
    "    score = df[\"科目\"].astype(\"string\")\n",
    "    res = df[\"姓名\"] + \"：\" + df[\"选科\"] + \"（\" + score + \"）\"\n",
    "    return res.reset_index(drop=True)\n",
    "def func_top5(df):\n",
    "    df[\"文理\"] = df.选科.replace(course_map)\n",
    "    return df.groupby(\"文理\").apply(func_top5_inner)\n",
    "df = dfs[-1].query(\"班级 <= 8\")\n",
    "res = df.groupby(\"班级\").apply(func_top5).T\n",
    "res.columns = res.columns.map(lambda x: \"%d班\"%x[0] + x[1])\n",
    "res"
   ]
  },
  {
   "cell_type": "code",
   "execution_count": null,
   "metadata": {},
   "outputs": [],
   "source": []
  },
  {
   "cell_type": "markdown",
   "metadata": {},
   "source": [
    "### 5、\n",
    "学生成绩的稳定性可以用每次考试在全年级相同选科学生中的总分排名标准差来度量，请计算每个班级的各科学生成绩稳定性的均值，结果格式如下："
   ]
  },
  {
   "cell_type": "code",
   "execution_count": null,
   "metadata": {},
   "outputs": [],
   "source": [
    "pd.DataFrame(\n",
    "    np.random.rand(11, 6),\n",
    "    index=pd.Index(range(1, 12), name=\"班级\"),\n",
    "    columns=pd.Index(\n",
    "        [\"物理\", \"化学\", \"生物\", \"历史\", \"地理\", \"政治\"],\n",
    "        name=\"选科\",\n",
    "    )\n",
    ")"
   ]
  },
  {
   "cell_type": "code",
   "execution_count": 18,
   "metadata": {},
   "outputs": [
    {
     "data": {
      "text/html": [
       "<div>\n",
       "<style scoped>\n",
       "    .dataframe tbody tr th:only-of-type {\n",
       "        vertical-align: middle;\n",
       "    }\n",
       "\n",
       "    .dataframe tbody tr th {\n",
       "        vertical-align: top;\n",
       "    }\n",
       "\n",
       "    .dataframe thead th {\n",
       "        text-align: right;\n",
       "    }\n",
       "</style>\n",
       "<table border=\"1\" class=\"dataframe\">\n",
       "  <thead>\n",
       "    <tr style=\"text-align: right;\">\n",
       "      <th>选科</th>\n",
       "      <th>物理</th>\n",
       "      <th>化学</th>\n",
       "      <th>生物</th>\n",
       "      <th>历史</th>\n",
       "      <th>地理</th>\n",
       "      <th>政治</th>\n",
       "    </tr>\n",
       "    <tr>\n",
       "      <th>班级</th>\n",
       "      <th></th>\n",
       "      <th></th>\n",
       "      <th></th>\n",
       "      <th></th>\n",
       "      <th></th>\n",
       "      <th></th>\n",
       "    </tr>\n",
       "  </thead>\n",
       "  <tbody>\n",
       "    <tr>\n",
       "      <th>1</th>\n",
       "      <td>36.145785</td>\n",
       "      <td>71.123275</td>\n",
       "      <td>47.905771</td>\n",
       "      <td>37.686440</td>\n",
       "      <td>34.938192</td>\n",
       "      <td>26.934054</td>\n",
       "    </tr>\n",
       "    <tr>\n",
       "      <th>2</th>\n",
       "      <td>38.868956</td>\n",
       "      <td>70.116562</td>\n",
       "      <td>48.394368</td>\n",
       "      <td>39.495012</td>\n",
       "      <td>35.498685</td>\n",
       "      <td>26.682999</td>\n",
       "    </tr>\n",
       "    <tr>\n",
       "      <th>3</th>\n",
       "      <td>38.722614</td>\n",
       "      <td>75.090907</td>\n",
       "      <td>47.091807</td>\n",
       "      <td>38.271326</td>\n",
       "      <td>38.558896</td>\n",
       "      <td>27.574519</td>\n",
       "    </tr>\n",
       "    <tr>\n",
       "      <th>4</th>\n",
       "      <td>38.256357</td>\n",
       "      <td>70.934602</td>\n",
       "      <td>47.576877</td>\n",
       "      <td>38.507239</td>\n",
       "      <td>36.602089</td>\n",
       "      <td>28.351219</td>\n",
       "    </tr>\n",
       "    <tr>\n",
       "      <th>5</th>\n",
       "      <td>38.397798</td>\n",
       "      <td>72.132075</td>\n",
       "      <td>47.419773</td>\n",
       "      <td>36.919986</td>\n",
       "      <td>36.555557</td>\n",
       "      <td>24.545272</td>\n",
       "    </tr>\n",
       "    <tr>\n",
       "      <th>6</th>\n",
       "      <td>36.811151</td>\n",
       "      <td>68.205272</td>\n",
       "      <td>49.240808</td>\n",
       "      <td>38.288654</td>\n",
       "      <td>35.047769</td>\n",
       "      <td>28.235608</td>\n",
       "    </tr>\n",
       "    <tr>\n",
       "      <th>7</th>\n",
       "      <td>38.292788</td>\n",
       "      <td>71.099573</td>\n",
       "      <td>47.191711</td>\n",
       "      <td>37.796623</td>\n",
       "      <td>36.289223</td>\n",
       "      <td>27.433563</td>\n",
       "    </tr>\n",
       "    <tr>\n",
       "      <th>8</th>\n",
       "      <td>38.756076</td>\n",
       "      <td>71.971925</td>\n",
       "      <td>49.498229</td>\n",
       "      <td>36.839744</td>\n",
       "      <td>36.559538</td>\n",
       "      <td>27.615383</td>\n",
       "    </tr>\n",
       "    <tr>\n",
       "      <th>9</th>\n",
       "      <td>36.393109</td>\n",
       "      <td>65.635409</td>\n",
       "      <td>47.021174</td>\n",
       "      <td>39.539784</td>\n",
       "      <td>37.959470</td>\n",
       "      <td>27.108505</td>\n",
       "    </tr>\n",
       "    <tr>\n",
       "      <th>10</th>\n",
       "      <td>37.255653</td>\n",
       "      <td>70.950467</td>\n",
       "      <td>45.388135</td>\n",
       "      <td>39.582554</td>\n",
       "      <td>36.654365</td>\n",
       "      <td>26.551890</td>\n",
       "    </tr>\n",
       "    <tr>\n",
       "      <th>11</th>\n",
       "      <td>35.271938</td>\n",
       "      <td>71.234354</td>\n",
       "      <td>44.001268</td>\n",
       "      <td>35.405623</td>\n",
       "      <td>37.673577</td>\n",
       "      <td>26.462157</td>\n",
       "    </tr>\n",
       "  </tbody>\n",
       "</table>\n",
       "</div>"
      ],
      "text/plain": [
       "选科         物理         化学         生物         历史         地理         政治\n",
       "班级                                                                  \n",
       "1   36.145785  71.123275  47.905771  37.686440  34.938192  26.934054\n",
       "2   38.868956  70.116562  48.394368  39.495012  35.498685  26.682999\n",
       "3   38.722614  75.090907  47.091807  38.271326  38.558896  27.574519\n",
       "4   38.256357  70.934602  47.576877  38.507239  36.602089  28.351219\n",
       "5   38.397798  72.132075  47.419773  36.919986  36.555557  24.545272\n",
       "6   36.811151  68.205272  49.240808  38.288654  35.047769  28.235608\n",
       "7   38.292788  71.099573  47.191711  37.796623  36.289223  27.433563\n",
       "8   38.756076  71.971925  49.498229  36.839744  36.559538  27.615383\n",
       "9   36.393109  65.635409  47.021174  39.539784  37.959470  27.108505\n",
       "10  37.255653  70.950467  45.388135  39.582554  36.654365  26.551890\n",
       "11  35.271938  71.234354  44.001268  35.405623  37.673577  26.462157"
      ]
     },
     "execution_count": 18,
     "metadata": {},
     "output_type": "execute_result"
    }
   ],
   "source": [
    "df = pd.concat(dfs, keys=files).droplevel(1, axis=0)\n",
    "df = df.reset_index().rename(columns={\"index\": \"考试\"})\n",
    "df[\"总分\"] = df.iloc[:, -4:].sum(1)\n",
    "df[\"排名\"] = df.groupby([\"选科\", \"考试\"])[\"总分\"].rank(method=\"min\")\n",
    "df = df.groupby([\"班级\", \"姓名\", \"选科\"])[\"排名\"].std()\n",
    "df = df.groupby([\"班级\", \"选科\"]).mean().unstack(-1)\n",
    "res = df.reindex([\"物理\", \"化学\", \"生物\", \"历史\", \"地理\", \"政治\"], axis=1)\n",
    "res"
   ]
  },
  {
   "cell_type": "code",
   "execution_count": null,
   "metadata": {},
   "outputs": [],
   "source": []
  },
  {
   "cell_type": "markdown",
   "metadata": {},
   "source": [
    "# Ex3：统计商品的审核情况\n",
    "在data/supplement/ex3中存放了两个有关商品审核的信息表，“商品信息.csv”中记录了每个商品的ID号，唯一的识别码以及商品所属的类别，“申请与审核记录.csv”中记录了每个商品的审核信息。已知商品的审核流程如下：由申请人发起商品审核的申请，然后由审核人审核，审核的结果包括通过与不通过两种情况，若商品不通过审核则可以由另一位申请人再次发起申请，直到商品的审核通过。"
   ]
  },
  {
   "cell_type": "code",
   "execution_count": 399,
   "metadata": {},
   "outputs": [
    {
     "data": {
      "text/html": [
       "<div>\n",
       "<style scoped>\n",
       "    .dataframe tbody tr th:only-of-type {\n",
       "        vertical-align: middle;\n",
       "    }\n",
       "\n",
       "    .dataframe tbody tr th {\n",
       "        vertical-align: top;\n",
       "    }\n",
       "\n",
       "    .dataframe thead th {\n",
       "        text-align: right;\n",
       "    }\n",
       "</style>\n",
       "<table border=\"1\" class=\"dataframe\">\n",
       "  <thead>\n",
       "    <tr style=\"text-align: right;\">\n",
       "      <th></th>\n",
       "      <th>ID号</th>\n",
       "      <th>识别码</th>\n",
       "      <th>类别</th>\n",
       "    </tr>\n",
       "  </thead>\n",
       "  <tbody>\n",
       "    <tr>\n",
       "      <th>0</th>\n",
       "      <td>ID 000001</td>\n",
       "      <td>CRtXJUK</td>\n",
       "      <td>T1</td>\n",
       "    </tr>\n",
       "    <tr>\n",
       "      <th>1</th>\n",
       "      <td>ID 000002</td>\n",
       "      <td>RGSxifC</td>\n",
       "      <td>Q1</td>\n",
       "    </tr>\n",
       "    <tr>\n",
       "      <th>2</th>\n",
       "      <td>ID 000003</td>\n",
       "      <td>AboduTp</td>\n",
       "      <td>S1</td>\n",
       "    </tr>\n",
       "    <tr>\n",
       "      <th>3</th>\n",
       "      <td>ID 000004</td>\n",
       "      <td>zlpUeMl</td>\n",
       "      <td>S2</td>\n",
       "    </tr>\n",
       "    <tr>\n",
       "      <th>4</th>\n",
       "      <td>ID 000005</td>\n",
       "      <td>IVQqhIK</td>\n",
       "      <td>S3</td>\n",
       "    </tr>\n",
       "  </tbody>\n",
       "</table>\n",
       "</div>"
      ],
      "text/plain": [
       "         ID号      识别码  类别\n",
       "0  ID 000001  CRtXJUK  T1\n",
       "1  ID 000002  RGSxifC  Q1\n",
       "2  ID 000003  AboduTp  S1\n",
       "3  ID 000004  zlpUeMl  S2\n",
       "4  ID 000005  IVQqhIK  S3"
      ]
     },
     "execution_count": 399,
     "metadata": {},
     "output_type": "execute_result"
    }
   ],
   "source": [
    "df_info = pd.read_csv('data/supplement/ex3/商品信息.csv')\n",
    "\n",
    "df_info.head()"
   ]
  },
  {
   "cell_type": "code",
   "execution_count": 389,
   "metadata": {},
   "outputs": [
    {
     "data": {
      "text/html": [
       "<div>\n",
       "<style scoped>\n",
       "    .dataframe tbody tr th:only-of-type {\n",
       "        vertical-align: middle;\n",
       "    }\n",
       "\n",
       "    .dataframe tbody tr th {\n",
       "        vertical-align: top;\n",
       "    }\n",
       "\n",
       "    .dataframe thead th {\n",
       "        text-align: right;\n",
       "    }\n",
       "</style>\n",
       "<table border=\"1\" class=\"dataframe\">\n",
       "  <thead>\n",
       "    <tr style=\"text-align: right;\">\n",
       "      <th></th>\n",
       "      <th>ID号</th>\n",
       "      <th>申请人</th>\n",
       "      <th>申请时间</th>\n",
       "      <th>审核人</th>\n",
       "      <th>审核时间</th>\n",
       "      <th>结果</th>\n",
       "    </tr>\n",
       "  </thead>\n",
       "  <tbody>\n",
       "    <tr>\n",
       "      <th>0</th>\n",
       "      <td>ID 000001</td>\n",
       "      <td>\\#+3((52\\{</td>\n",
       "      <td>2020-04-19</td>\n",
       "      <td>~1=6\\*183|</td>\n",
       "      <td>2020-05-03</td>\n",
       "      <td>未通过</td>\n",
       "    </tr>\n",
       "    <tr>\n",
       "      <th>1</th>\n",
       "      <td>ID 000001</td>\n",
       "      <td>8@75[1|2\\*</td>\n",
       "      <td>2020-05-10</td>\n",
       "      <td>15![3\\({59</td>\n",
       "      <td>2020-07-17</td>\n",
       "      <td>未通过</td>\n",
       "    </tr>\n",
       "    <tr>\n",
       "      <th>2</th>\n",
       "      <td>ID 000001</td>\n",
       "      <td>}!7)(#^0*7</td>\n",
       "      <td>2020-07-28</td>\n",
       "      <td>3`}04}%@75</td>\n",
       "      <td>2020-08-23</td>\n",
       "      <td>通过</td>\n",
       "    </tr>\n",
       "    <tr>\n",
       "      <th>3</th>\n",
       "      <td>ID 000002</td>\n",
       "      <td>|*{20#9|}5</td>\n",
       "      <td>2020-01-05</td>\n",
       "      <td>={`8]03*4+</td>\n",
       "      <td>2020-03-09</td>\n",
       "      <td>未通过</td>\n",
       "    </tr>\n",
       "    <tr>\n",
       "      <th>4</th>\n",
       "      <td>ID 000002</td>\n",
       "      <td>4~6%)455`[</td>\n",
       "      <td>2020-03-14</td>\n",
       "      <td>=$-36[)|8]</td>\n",
       "      <td>2020-04-21</td>\n",
       "      <td>未通过</td>\n",
       "    </tr>\n",
       "  </tbody>\n",
       "</table>\n",
       "</div>"
      ],
      "text/plain": [
       "         ID号         申请人        申请时间         审核人        审核时间   结果\n",
       "0  ID 000001  \\#+3((52\\{  2020-04-19  ~1=6\\*183|  2020-05-03  未通过\n",
       "1  ID 000001  8@75[1|2\\*  2020-05-10  15![3\\({59  2020-07-17  未通过\n",
       "2  ID 000001  }!7)(#^0*7  2020-07-28  3`}04}%@75  2020-08-23   通过\n",
       "3  ID 000002  |*{20#9|}5  2020-01-05  ={`8]03*4+  2020-03-09  未通过\n",
       "4  ID 000002  4~6%)455`[  2020-03-14  =$-36[)|8]  2020-04-21  未通过"
      ]
     },
     "execution_count": 389,
     "metadata": {},
     "output_type": "execute_result"
    }
   ],
   "source": [
    "df_record = pd.read_csv('data/supplement/ex3/申请与审核记录.csv')\n",
    "\n",
    "df_record.head()"
   ]
  },
  {
   "cell_type": "markdown",
   "metadata": {},
   "source": [
    "### 1、\n",
    "有多少商品最终通过审核？\n"
   ]
  },
  {
   "cell_type": "code",
   "execution_count": 19,
   "metadata": {},
   "outputs": [
    {
     "data": {
      "text/plain": [
       "10848"
      ]
     },
     "execution_count": 19,
     "metadata": {},
     "output_type": "execute_result"
    }
   ],
   "source": [
    "df_info = pd.read_csv('data/supplement/ex3/商品信息.csv')\n",
    "df_record = pd.read_csv('data/supplement/ex3/申请与审核记录.csv')\n",
    "(df_record[\"结果\"] == \"通过\").sum()"
   ]
  },
  {
   "cell_type": "code",
   "execution_count": null,
   "metadata": {},
   "outputs": [],
   "source": []
  },
  {
   "cell_type": "markdown",
   "metadata": {},
   "source": [
    "### 2、\n",
    "各类别商品的通过率分别为多少？\n"
   ]
  },
  {
   "cell_type": "code",
   "execution_count": 20,
   "metadata": {},
   "outputs": [
    {
     "data": {
      "text/plain": [
       "类别\n",
       "Q1    0.395866\n",
       "Q2    0.406604\n",
       "S1    0.402618\n",
       "S2    0.408443\n",
       "S3    0.414896\n",
       "T1    0.398679\n",
       "T2    0.402781\n",
       "dtype: float64"
      ]
     },
     "execution_count": 20,
     "metadata": {},
     "output_type": "execute_result"
    }
   ],
   "source": [
    "df = df_record.merge(df_info, how=\"left\", on=\"ID号\")\n",
    "df.groupby(\"类别\").apply(lambda x: (x[\"结果\"] == \"通过\").sum() / x[\"ID号\"].nunique())"
   ]
  },
  {
   "cell_type": "code",
   "execution_count": null,
   "metadata": {},
   "outputs": [],
   "source": []
  },
  {
   "cell_type": "markdown",
   "metadata": {},
   "source": [
    "### 3、\n",
    "对于类别为“T1”且最终状态为通过的商品，平均审核次数为多少？\n"
   ]
  },
  {
   "cell_type": "code",
   "execution_count": 21,
   "metadata": {},
   "outputs": [
    {
     "data": {
      "text/plain": [
       "5.547382372432074"
      ]
     },
     "execution_count": 21,
     "metadata": {},
     "output_type": "execute_result"
    }
   ],
   "source": [
    "grouper = df[df[\"类别\"]==\"T1\"].groupby(\"ID号\")[\"结果\"]\n",
    "grouper.count()[grouper.agg(lambda x: x.iloc[-1]==\"通过\")].mean()"
   ]
  },
  {
   "cell_type": "code",
   "execution_count": null,
   "metadata": {},
   "outputs": [],
   "source": []
  },
  {
   "cell_type": "markdown",
   "metadata": {},
   "source": [
    "### 4、\n",
    "是否存在商品在上一次审核未完成时就提交了下一次审核申请？\n"
   ]
  },
  {
   "cell_type": "code",
   "execution_count": 22,
   "metadata": {},
   "outputs": [
    {
     "data": {
      "text/plain": [
       "True"
      ]
     },
     "execution_count": 22,
     "metadata": {},
     "output_type": "execute_result"
    }
   ],
   "source": [
    "idx = df[\"ID号\"].duplicated().values\n",
    "time1 = df[\"申请时间\"].iloc[1:][idx[1:]].reset_index(drop=True)\n",
    "time2 = df[\"审核时间\"].iloc[:-1][idx[1:]].reset_index(drop=True)\n",
    "(time1 >= time2).all() # True则不存在\n"
   ]
  },
  {
   "cell_type": "code",
   "execution_count": null,
   "metadata": {},
   "outputs": [],
   "source": []
  },
  {
   "cell_type": "markdown",
   "metadata": {},
   "source": [
    "### 5、\n",
    "请对所有审核通过的商品统计第一位申请人和最后一位审核人的信息，返回格式如下："
   ]
  },
  {
   "cell_type": "code",
   "execution_count": null,
   "metadata": {},
   "outputs": [],
   "source": [
    "pd.DataFrame(\n",
    "    {\n",
    "        \"ID号\": [\"ID 000001\"]+[\"...\"]*3,\n",
    "        \"类别\":[\"T1\"]+[\"...\"]*3,\n",
    "        \"申请人\":[\"\\#+3((52\\{\"]+[\"...\"]*3,\n",
    "        \"审核人\":[\"3`}04}%@75\"]+[\"...\"]*3\n",
    "    },\n",
    "    index=[1,2,3,\"...\"]\n",
    ")"
   ]
  },
  {
   "cell_type": "markdown",
   "metadata": {},
   "source": [
    "###### 提示\n",
    "groupby对象上也定义了head和tail方法。"
   ]
  },
  {
   "cell_type": "code",
   "execution_count": 23,
   "metadata": {},
   "outputs": [
    {
     "data": {
      "text/html": [
       "<div>\n",
       "<style scoped>\n",
       "    .dataframe tbody tr th:only-of-type {\n",
       "        vertical-align: middle;\n",
       "    }\n",
       "\n",
       "    .dataframe tbody tr th {\n",
       "        vertical-align: top;\n",
       "    }\n",
       "\n",
       "    .dataframe thead th {\n",
       "        text-align: right;\n",
       "    }\n",
       "</style>\n",
       "<table border=\"1\" class=\"dataframe\">\n",
       "  <thead>\n",
       "    <tr style=\"text-align: right;\">\n",
       "      <th></th>\n",
       "      <th>ID号</th>\n",
       "      <th>类别</th>\n",
       "      <th>申请人</th>\n",
       "      <th>审核人</th>\n",
       "    </tr>\n",
       "  </thead>\n",
       "  <tbody>\n",
       "    <tr>\n",
       "      <th>0</th>\n",
       "      <td>ID 000001</td>\n",
       "      <td>T1</td>\n",
       "      <td>\\#+3((52\\{</td>\n",
       "      <td>3`}04}%@75</td>\n",
       "    </tr>\n",
       "    <tr>\n",
       "      <th>1</th>\n",
       "      <td>ID 000002</td>\n",
       "      <td>Q1</td>\n",
       "      <td>|*{20#9|}5</td>\n",
       "      <td>[3=5@|[0{9</td>\n",
       "    </tr>\n",
       "    <tr>\n",
       "      <th>2</th>\n",
       "      <td>ID 000003</td>\n",
       "      <td>S1</td>\n",
       "      <td>8!&amp;|48\\\\##</td>\n",
       "      <td>5_*{@&amp;#*9}</td>\n",
       "    </tr>\n",
       "    <tr>\n",
       "      <th>3</th>\n",
       "      <td>ID 000004</td>\n",
       "      <td>S2</td>\n",
       "      <td>8#=#)3_[10</td>\n",
       "      <td>^)1-\\)#3*\\</td>\n",
       "    </tr>\n",
       "    <tr>\n",
       "      <th>4</th>\n",
       "      <td>ID 000005</td>\n",
       "      <td>S3</td>\n",
       "      <td>=_@@9(2|#|</td>\n",
       "      <td>^7#10{&amp;3^6</td>\n",
       "    </tr>\n",
       "    <tr>\n",
       "      <th>...</th>\n",
       "      <td>...</td>\n",
       "      <td>...</td>\n",
       "      <td>...</td>\n",
       "      <td>...</td>\n",
       "    </tr>\n",
       "    <tr>\n",
       "      <th>26827</th>\n",
       "      <td>ID 026828</td>\n",
       "      <td>S2</td>\n",
       "      <td>\\##{~+^9!3</td>\n",
       "      <td>@`^=@!{0#@</td>\n",
       "    </tr>\n",
       "    <tr>\n",
       "      <th>26828</th>\n",
       "      <td>ID 026829</td>\n",
       "      <td>T1</td>\n",
       "      <td>!=1{)^%-@\\</td>\n",
       "      <td>&amp;]3]$)18=5</td>\n",
       "    </tr>\n",
       "    <tr>\n",
       "      <th>26829</th>\n",
       "      <td>ID 026830</td>\n",
       "      <td>T2</td>\n",
       "      <td>@`=(2@03^0</td>\n",
       "      <td>[_7\\=*\\(#8</td>\n",
       "    </tr>\n",
       "    <tr>\n",
       "      <th>26830</th>\n",
       "      <td>ID 026831</td>\n",
       "      <td>T2</td>\n",
       "      <td>64+%-|$$~#</td>\n",
       "      <td>_&amp;}~(017*`</td>\n",
       "    </tr>\n",
       "    <tr>\n",
       "      <th>26831</th>\n",
       "      <td>ID 026832</td>\n",
       "      <td>Q1</td>\n",
       "      <td>_&amp;+#]%|@7{</td>\n",
       "      <td>}]]|_=8\\%0</td>\n",
       "    </tr>\n",
       "  </tbody>\n",
       "</table>\n",
       "<p>26832 rows × 4 columns</p>\n",
       "</div>"
      ],
      "text/plain": [
       "             ID号  类别         申请人         审核人\n",
       "0      ID 000001  T1  \\#+3((52\\{  3`}04}%@75\n",
       "1      ID 000002  Q1  |*{20#9|}5  [3=5@|[0{9\n",
       "2      ID 000003  S1  8!&|48\\\\##  5_*{@&#*9}\n",
       "3      ID 000004  S2  8#=#)3_[10  ^)1-\\)#3*\\\n",
       "4      ID 000005  S3  =_@@9(2|#|  ^7#10{&3^6\n",
       "...          ...  ..         ...         ...\n",
       "26827  ID 026828  S2  \\##{~+^9!3  @`^=@!{0#@\n",
       "26828  ID 026829  T1  !=1{)^%-@\\  &]3]$)18=5\n",
       "26829  ID 026830  T2  @`=(2@03^0  [_7\\=*\\(#8\n",
       "26830  ID 026831  T2  64+%-|$$~#  _&}~(017*`\n",
       "26831  ID 026832  Q1  _&+#]%|@7{  }]]|_=8\\%0\n",
       "\n",
       "[26832 rows x 4 columns]"
      ]
     },
     "execution_count": 23,
     "metadata": {},
     "output_type": "execute_result"
    }
   ],
   "source": [
    "res = df.groupby(\"ID号\").apply(lambda x: pd.Series([x.iloc[0, 0], x.iloc[0, -1], x.iloc[0, 1], x.iloc[-1, 3]], index=[\"ID号\", \"类别\", \"申请人\", \"审核人\"])).reset_index(drop=True)\n",
    "res"
   ]
  },
  {
   "cell_type": "code",
   "execution_count": 24,
   "metadata": {},
   "outputs": [
    {
     "data": {
      "text/plain": [
       "True"
      ]
     },
     "execution_count": 24,
     "metadata": {},
     "output_type": "execute_result"
    }
   ],
   "source": [
    "grouper = df.groupby(\"ID号\")\n",
    "df_head = grouper[[\"ID号\", \"类别\", \"申请人\"]].head(1).reset_index(drop=True)\n",
    "df_tail = grouper[[\"审核人\"]].tail(1).reset_index(drop=True)\n",
    "res2 = pd.concat([df_head, df_tail], axis=1)\n",
    "res2.equals(res)"
   ]
  }
 ],
 "metadata": {
  "kernelspec": {
   "display_name": "Python 3",
   "language": "python",
   "name": "python3"
  },
  "language_info": {
   "codemirror_mode": {
    "name": "ipython",
    "version": 3
   },
   "file_extension": ".py",
   "mimetype": "text/x-python",
   "name": "python",
   "nbconvert_exporter": "python",
   "pygments_lexer": "ipython3",
   "version": "3.8.5"
  }
 },
 "nbformat": 4,
 "nbformat_minor": 4
}
